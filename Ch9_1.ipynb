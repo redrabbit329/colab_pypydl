{
  "nbformat": 4,
  "nbformat_minor": 0,
  "metadata": {
    "kernelspec": {
      "display_name": "Python 3",
      "language": "python",
      "name": "python3"
    },
    "language_info": {
      "codemirror_mode": {
        "name": "ipython",
        "version": 3
      },
      "file_extension": ".py",
      "mimetype": "text/x-python",
      "name": "python",
      "nbconvert_exporter": "python",
      "pygments_lexer": "ipython3",
      "version": "3.6.10"
    },
    "colab": {
      "name": "Ch9-1.ipynb",
      "provenance": [],
      "include_colab_link": true
    }
  },
  "cells": [
    {
      "cell_type": "markdown",
      "metadata": {
        "id": "view-in-github",
        "colab_type": "text"
      },
      "source": [
        "<a href=\"https://colab.research.google.com/github/redrabbit329/colab_pypydl/blob/master/Ch9_1.ipynb\" target=\"_parent\"><img src=\"https://colab.research.google.com/assets/colab-badge.svg\" alt=\"Open In Colab\"/></a>"
      ]
    },
    {
      "cell_type": "markdown",
      "metadata": {
        "id": "0YjcvehNFWlq",
        "colab_type": "text"
      },
      "source": [
        "#  Ch9. Pandas 응용\n",
        "## 9.1. DataFrame연결과 결합의 개요\n",
        "   - 연결 : DataFrame을 일정 방향으로 붙이는 작업\n",
        "   - 결합 : 특정 Key를 참조하여 연결하는 조작\n",
        "## 9.2. DataFrame 연결\n",
        "### 9.2.1. 인덱스나 컬럼이 일치하는 DataFrame간의 연결\n",
        "   - 인덱스 또는 컬럼이 일치하는 DataFrame간의 연결\n",
        "   - pandas.concat(\"DataFrame리스트\", axis=0) 리스트 세로연결 - 동일한 컬럼으로 연결\n",
        "   - pandas.concat(\"DataFrame리스트\", axis=1) 리스트 가로연결 - 동일한 인덱스로 연결\n",
        "   \n",
        "\n",
        ">   **7장 복습 :**  \n",
        "        - 2차원 테이블로 나타나는 DataFrame 의 가로방향 데이터는 [행row], 세로방향 데이터는[열col]\n",
        "        - [행row]의 라벨은 인덱스Index, [열column]의 라벨은 컬럼이라고 부른다.\n"
      ]
    },
    {
      "cell_type": "code",
      "metadata": {
        "id": "PKXcw5vMFWls",
        "colab_type": "code",
        "colab": {},
        "outputId": "3a7bb84e-08f4-4160-fa93-25357ffc4e8d"
      },
      "source": [
        "# 9-1\n",
        "import numpy as np\n",
        "import pandas as pd\n",
        "\n",
        "# 지정한 인덱스와 컬럼을 가진 DataFrame을 난수로 생성하는 함수입니다.\n",
        "def make_random_df(index, columns, seed):\n",
        "    np.random.seed(seed)\n",
        "    df = pd.DataFrame()     # Pandas로부터 DataFrame을 생성\n",
        "    for column in columns:\n",
        "        df[column] = np.random.choice(range(1,101),len(index))   # range(시작행수, 종료행수-1)\n",
        "    df.index = index\n",
        "    return df\n",
        "\n",
        "\n",
        "# 인덱스와 컬럼이 일치하는 DataFrame을 만듭니다.\n",
        "print(list(range(1,5)))   # range(1,5)에 의해 [1,2,3,4] 리스트를 생성, index로 입력\n",
        "columns = [\"apple\",\"orange\",\"banana\"]\n",
        "df_data1 = make_random_df(range(1,5), columns, 0)\n",
        "df_data2 = make_random_df(range(1,5), columns, 1)\n",
        "print(\"-------------------------\")\n",
        "print(\"=> df_data1 :\\n\",df_data1)\n",
        "print(\"=> df_data2 :\\n\",df_data2)\n",
        "print(\"-------------------------\\n\")\n",
        "# df_data1과 da_data2를 세로로 연결하여 df1에 대입하세요.\n",
        "# DataFrame의 \"연결\"은 \"concat\"이다.\n",
        "# pandas.concat(\"DataFrame리스트\", axis=0) 세로 연결\n",
        "# pandas.concat(\"DataFrame리스트\" axis=1) 가로 연결\n",
        "df1 = pd.concat([df_data1, df_data2], axis=0)\n",
        "print(df1)\n",
        "# df_data1과  df_data2를 가로로 연결하여 df2에 대입하세요\n",
        "df2 = pd.concat([df_data1, df_data2], axis=1)\n",
        "print(df2)"
      ],
      "execution_count": 0,
      "outputs": [
        {
          "output_type": "stream",
          "text": [
            "[1, 2, 3, 4]\n",
            "-------------------------\n",
            "=> df_data1 :\n",
            "    apple  orange  banana\n",
            "1     45      68      37\n",
            "2     48      10      88\n",
            "3     65      84      71\n",
            "4     68      22      89\n",
            "=> df_data2 :\n",
            "    apple  orange  banana\n",
            "1     38      76      17\n",
            "2     13       6       2\n",
            "3     73      80      77\n",
            "4     10      65      72\n",
            "-------------------------\n",
            "\n",
            "   apple  orange  banana\n",
            "1     45      68      37\n",
            "2     48      10      88\n",
            "3     65      84      71\n",
            "4     68      22      89\n",
            "1     38      76      17\n",
            "2     13       6       2\n",
            "3     73      80      77\n",
            "4     10      65      72\n",
            "   apple  orange  banana  apple  orange  banana\n",
            "1     45      68      37     38      76      17\n",
            "2     48      10      88     13       6       2\n",
            "3     65      84      71     73      80      77\n",
            "4     68      22      89     10      65      72\n"
          ],
          "name": "stdout"
        }
      ]
    },
    {
      "cell_type": "markdown",
      "metadata": {
        "id": "gvrj-_PuFWlw",
        "colab_type": "text"
      },
      "source": [
        "#### Example (8-28)\n",
        "----------------------\n",
        "```python\n",
        "import pandas as pd\n",
        "\n",
        "index = [\"apple\",\"orange\",\"banana\",\"strawberry\",\"kiwifruit\"]\n",
        "data1 = [10,5,8,12,3]\n",
        "data2 = [30,25,12,10,8]\n",
        "series1 = pd.Series(data1, index=index)\n",
        "series2 = pd.Series(data2, index=index)\n",
        "df = pd.DataFrame([series1, series2])\n",
        "# 인수를 지정하지 않고 pd.DataFrame을 작성하면, 0부터 오름차순으로 인덱스가 할당됩니다.\n",
        "print(df)\n",
        "print()\n",
        "# df의 인덱스(행의 이름을 인덱스, 열의 이름을 컬럼)가 1부터 시작하도록 설정하세요\n",
        "df.index = [1,2]\n",
        "print(df)\n",
        "```"
      ]
    },
    {
      "cell_type": "markdown",
      "metadata": {
        "id": "XyzrJPLsFWlw",
        "colab_type": "text"
      },
      "source": [
        "###  9.2.2. 인덱스나 컬럼이 일치하지 않는 DataFrame간의 연결\n",
        "   - 인덱스나 컬럼이 일치하지 않는 연결일 경우, NaN생성"
      ]
    },
    {
      "cell_type": "code",
      "metadata": {
        "id": "6xBVbZdLFWlx",
        "colab_type": "code",
        "colab": {},
        "outputId": "70cb184b-663b-40bf-e77b-b546930f048d"
      },
      "source": [
        "import numpy as np\n",
        "import pandas as pd\n",
        "\n",
        "# 지정한 인덱스와 컬럼을 가진 DafaFrame을 난수로 생성하는 함수\n",
        "def make_random_df(index, columns, seed):\n",
        "    np.random.seed(seed)\n",
        "    df = pd.DataFrame()\n",
        "    for column in columns:\n",
        "        df[column] = np.random.choice(range(1,101),len(index))   # index의 길이만큼 column을 증가시키며 항목에 데이터를 채워넣음\n",
        "    df.index = index   # index를 지정 안 해주는 경우 확인\n",
        "    return df\n",
        "\n",
        "columns1 = [\"apple\",\"orange\",\"banana\"]\n",
        "columns2 = [\"orange\",\"kiwifruit\",\"banana\"]\n",
        "print(columns1,columns2)\n",
        "\n",
        "# 인덱스가 1,2,3,4고, 컬럼이 columns1인 DataFrame을 만든다.\n",
        "#df_data1 = make_random_df([1,2,3,4], columns1, 0)\n",
        "df_data1 = make_random_df(range(1,5),columns1,0)\n",
        "print(\"df_data1 :\\n\", df_data1,\"\\n\")\n",
        "# 인덱스가 1,3,5,7이고, 컴럼이 columns2인 DataFrame을 만든다.\n",
        "#df_data2 = make_random_df([1,3,5,7], columns2, 1)\n",
        "#df_data2 = make_random_df(np.arange(1,8,2), columns2,1)\n",
        "df_data2 = make_random_df(np.arange(1,8,2), [\"orange\",\"kiwifruit\",\"banana\"],1)\n",
        "print(\"df_data2 :\\n\", df_data2,\"wn\")\n",
        "\n",
        "# df_data1과 df_data2를 세로로 연결하여 df1에 대입하세요\n",
        "df1 = pd.concat([df_data1, df_data2], axis=0)\n",
        "print(df1)\n",
        "print()\n",
        "\n",
        "# df_data1과 df_data2를 가로로 연결하여 df2에 대입하세요.\n",
        "df2 = pd.concat([df_data1, df_data2], axis=1)\n",
        "print(df2)\n"
      ],
      "execution_count": 0,
      "outputs": [
        {
          "output_type": "stream",
          "text": [
            "['apple', 'orange', 'banana'] ['orange', 'kiwifruit', 'banana']\n",
            "df_data1 :\n",
            "    apple  orange  banana\n",
            "1     45      68      37\n",
            "2     48      10      88\n",
            "3     65      84      71\n",
            "4     68      22      89 \n",
            "\n",
            "df_data2 :\n",
            "    orange  kiwifruit  banana\n",
            "1      38         76      17\n",
            "3      13          6       2\n",
            "5      73         80      77\n",
            "7      10         65      72 wn\n",
            "   apple  banana  kiwifruit  orange\n",
            "1   45.0      37        NaN      68\n",
            "2   48.0      88        NaN      10\n",
            "3   65.0      71        NaN      84\n",
            "4   68.0      89        NaN      22\n",
            "1    NaN      17       76.0      38\n",
            "3    NaN       2        6.0      13\n",
            "5    NaN      77       80.0      73\n",
            "7    NaN      72       65.0      10\n",
            "\n",
            "   apple  orange  banana  orange  kiwifruit  banana\n",
            "1   45.0    68.0    37.0    38.0       76.0    17.0\n",
            "2   48.0    10.0    88.0     NaN        NaN     NaN\n",
            "3   65.0    84.0    71.0    13.0        6.0     2.0\n",
            "4   68.0    22.0    89.0     NaN        NaN     NaN\n",
            "5    NaN     NaN     NaN    73.0       80.0    77.0\n",
            "7    NaN     NaN     NaN    10.0       65.0    72.0\n"
          ],
          "name": "stdout"
        }
      ]
    },
    {
      "cell_type": "markdown",
      "metadata": {
        "id": "npfPiIh6FWlz",
        "colab_type": "text"
      },
      "source": [
        "### 9.2.3. 연결 시 라벨 지정하기\n",
        "   - DataFrame을 [연결]할 때, 라벨중복을 피하기 위해 : pd.concat()에 keys를 추가한다.\n",
        "   - concat_df = pd.concat([df_data1, df_data2], axis=1,keys=[\"X\",\"Y\"])\n",
        "   - df[컬럼X]로 X라벨의 열을 참조할 수 있고, df[\"X\",\"apple\"]로 \"X\"컬럼 내 \"apple\"컬럼 참조가능"
      ]
    },
    {
      "cell_type": "code",
      "metadata": {
        "id": "668M0pCwFWl0",
        "colab_type": "code",
        "colab": {},
        "outputId": "389b1301-f987-4815-b0d4-85a95027121c"
      },
      "source": [
        "import numpy as np\n",
        "import pandas as pd\n",
        "\n",
        "# 지정한 인덱스와 컬럼을 가진 DataFrame을 난수로 생성하는 함수\n",
        "def make_random_df(index, columns, seed):\n",
        "    np.random.seed(seed)\n",
        "    df = pd.DataFrame()\n",
        "    for column in columns:\n",
        "        df[column] = np.random.choice(range(1,101),len(index))\n",
        "    df.index = index\n",
        "    return df\n",
        "\n",
        "columns = [\"apple\",\"orange\",\"banana\"]\n",
        "df_data1 = make_random_df(range(1,5), columns, 0)\n",
        "df_data2 = make_random_df(range(1,5), columns, 1)   # seed가 달라, 다른 값의 데이터 프레임이 생성됨\n",
        "\n",
        "# df_data1과 df_data2를 가로로 연결하고, keys로 \"X\",\"Y\"를지정하여, MultiIndex로 만든 뒤 df에 대입하세요\n",
        "df = pd.concat([df_data1, df_data2], axis=1, keys=[\"X\",\"Y\"])\n",
        "print(df,\"\\n\")\n",
        "\n",
        "# df의 \"Y\"라벨 \"banana\"를 Y_banana에 대입하세요.\n",
        "Y_banana = df[\"Y\", \"banana\"]\n",
        "print(Y_banana)"
      ],
      "execution_count": 0,
      "outputs": [
        {
          "output_type": "stream",
          "text": [
            "      X                   Y              \n",
            "  apple orange banana apple orange banana\n",
            "1    45     68     37    38     76     17\n",
            "2    48     10     88    13      6      2\n",
            "3    65     84     71    73     80     77\n",
            "4    68     22     89    10     65     72 \n",
            "\n",
            "1    17\n",
            "2     2\n",
            "3    77\n",
            "4    72\n",
            "Name: (Y, banana), dtype: int32\n"
          ],
          "name": "stdout"
        }
      ]
    },
    {
      "cell_type": "markdown",
      "metadata": {
        "id": "kZfN0J03FWl2",
        "colab_type": "text"
      },
      "source": [
        "## 9.3. DataFrame 결합\n",
        "### 9.3.1. 결합 유형\n",
        "   - 결합(join) = 병합(merge) : 결합은, Key로 불리는 열을 지정. 두 DB의 Key값이 일치하는 행을 옆으로 연결\n",
        "   - 내부 결합 : Key열이 공통되지 않는 행은 삭제된다.\n",
        "   - 외부 결합 : Key열이 공통되지 않아도 삭제되지 않고 NaN셀이 생성된다.\n",
        "   - 결합 결과 가능한 많은 요소를 갖는 편이 좋은 경우는 외부 결합이 바람직함\n",
        "### 9.3.2. 내부 결합의 기본\n",
        "   - pandas.merge(df1,df2, on=Key가 될 컬럼, how=\"inner\")\n",
        "   - Key열의 값이 일치하지 않는 행은 삭제된다."
      ]
    },
    {
      "cell_type": "code",
      "metadata": {
        "id": "G5ou_Gt1FWl2",
        "colab_type": "code",
        "colab": {},
        "outputId": "c4aa49b0-ed10-493a-ef81-d10d855bc842"
      },
      "source": [
        "# 9-7\n",
        "import numpy as np\n",
        "import pandas as pd\n",
        "\n",
        "# ValueError: arrays must all be same length : \n",
        "data1 = {\n",
        "    \"fruits\":[\"apple\",\"orange\",\"banana\",\"strawberry\", \"kiwifruit\"],\n",
        "    \"year\"  :[2001,   2002,    2001,    2008,         2006],\n",
        "    \"amount\":[1,      4,       5,       6,            3]\n",
        "}\n",
        "df1 = pd.DataFrame(data1)\n",
        "\n",
        "data2 = {\"fruits\":[\"apple\",\"orange\",\"banana\",\"strawberry\",\"mango\"],\n",
        "        \"year\":[2001,2003,2001,2008,2007],\n",
        "        \"price\":[150,120,100,250,3000]}\n",
        "df2 = pd.DataFrame(data2)\n",
        "\n",
        "print(df1)\n",
        "print()\n",
        "print(df2)\n",
        "print()\n",
        "\n",
        "# df1과 df2의 컬럼 \"fruits\"를 Key로 하여, 내부 결합한 DataFrame을 df3에 대입하세요.\n",
        "# df1, df2 두 DataFrame에 대해, pandas.merge(df1,df2, on=Key가될 컬럼, how=\"inner\")\n",
        "df3 = pd.merge(df1, df2, on=\"fruits\",how=\"inner\")\n",
        "print(\"내부결합, 서로 일치하지 않는 kiwifruit과 mango가 삭제됨\")\n",
        "print(df3)"
      ],
      "execution_count": 0,
      "outputs": [
        {
          "output_type": "stream",
          "text": [
            "   amount      fruits  year\n",
            "0       1       apple  2001\n",
            "1       4      orange  2002\n",
            "2       5      banana  2001\n",
            "3       6  strawberry  2008\n",
            "4       3   kiwifruit  2006\n",
            "\n",
            "       fruits  price  year\n",
            "0       apple    150  2001\n",
            "1      orange    120  2003\n",
            "2      banana    100  2001\n",
            "3  strawberry    250  2008\n",
            "4       mango   3000  2007\n",
            "\n",
            "내부결합, 서로 일치하지 않는 kiwifruit과 mango가 삭제됨\n",
            "   amount      fruits  year_x  price  year_y\n",
            "0       1       apple    2001    150    2001\n",
            "1       4      orange    2002    120    2003\n",
            "2       5      banana    2001    100    2001\n",
            "3       6  strawberry    2008    250    2008\n"
          ],
          "name": "stdout"
        }
      ]
    },
    {
      "cell_type": "markdown",
      "metadata": {
        "id": "gh8q-yNbFWl4",
        "colab_type": "text"
      },
      "source": [
        "### 9.3.3. 외부 결합의 기본\n",
        "   - df1, df2에 대해, pandas.merge(df1, df2,on=Key가될 컬럼,how=\"outer\")로 외부결합DataFrame생성\n",
        "   - df1은 왼쪽에 위치. Key열의 값이 일치하지 않는 행이 삭제되지 않고 남겨져 NaN으로 채워진 열 생성"
      ]
    },
    {
      "cell_type": "code",
      "metadata": {
        "id": "b0B5x4eFFWl5",
        "colab_type": "code",
        "colab": {},
        "outputId": "bdbd2728-7d6c-46a1-e202-50e73db33caf"
      },
      "source": [
        "# 9-9\n",
        "import numpy as np\n",
        "import pandas as pd\n",
        "\n",
        "data1 = {\n",
        "    \"fruits\":[\"apple\",\"orange\",\"banana\",\"strawberry\",\"kiwifruit\"],\n",
        "    \"year\"  :[2001,   2002,    2001,    2008,        2006],\n",
        "    \"amount\":[1,      4,       5,       6,           3]\n",
        "}\n",
        "df1 = pd.DataFrame(data1)\n",
        "\n",
        "data2 = {\n",
        "    \"fruits\":[\"apple\",\"orange\",\"banana\",\"strawberry\",\"mango\"],\n",
        "    \"year\"  :[2001,   2002,    2001,    2008,        2006],\n",
        "    \"price\" :[150,    120,     100,     250,         3000]\n",
        "}\n",
        "df2 = pd.DataFrame(data2)\n",
        "print(df1)\n",
        "print()\n",
        "print(df2)\n",
        "print()\n",
        "\n",
        "# df1과 df2의 컬럼 \"fruits\"를 \"Key\"로 하여 외부결합한 DataFaram을 df3에 대입\n",
        "df3 = pd.merge(df1,df2, on=\"fruits\", how=\"outer\")\n",
        "print(df3)"
      ],
      "execution_count": 0,
      "outputs": [
        {
          "output_type": "stream",
          "text": [
            "   amount      fruits  year\n",
            "0       1       apple  2001\n",
            "1       4      orange  2002\n",
            "2       5      banana  2001\n",
            "3       6  strawberry  2008\n",
            "4       3   kiwifruit  2006\n",
            "\n",
            "       fruits  price  year\n",
            "0       apple    150  2001\n",
            "1      orange    120  2002\n",
            "2      banana    100  2001\n",
            "3  strawberry    250  2008\n",
            "4       mango   3000  2006\n",
            "\n",
            "   amount      fruits  year_x   price  year_y\n",
            "0     1.0       apple  2001.0   150.0  2001.0\n",
            "1     4.0      orange  2002.0   120.0  2002.0\n",
            "2     5.0      banana  2001.0   100.0  2001.0\n",
            "3     6.0  strawberry  2008.0   250.0  2008.0\n",
            "4     3.0   kiwifruit  2006.0     NaN     NaN\n",
            "5     NaN       mango     NaN  3000.0  2006.0\n"
          ],
          "name": "stdout"
        }
      ]
    },
    {
      "cell_type": "markdown",
      "metadata": {
        "id": "MvEuZGTWFWl7",
        "colab_type": "text"
      },
      "source": [
        "### 9.3.4. 이름이 다른 열을 Key로 결합하기\n",
        "   - pandas.merge(왼쪽DF, 오른쪽DF, left_on = \"왼쪽DF의 컬럼\", right_on=\"오른쪽DF의 컬럼\", how=\"결합방식\")으로 컬럼이 달라도 결합"
      ]
    },
    {
      "cell_type": "code",
      "metadata": {
        "id": "iXYR7XLEFWl7",
        "colab_type": "code",
        "colab": {},
        "outputId": "c4286e65-8840-4a8b-f20a-2320808bf2b2"
      },
      "source": [
        "# 9-11\n",
        "import pandas as pd\n",
        "\n",
        "order_df = pd.DataFrame(\n",
        "                            [[1000,2546,103],\n",
        "                             [1001,4352,101],\n",
        "                             [1002,342, 101]],\n",
        "                            columns=[\"id\",\"item_id\",\"customer_id\"]\n",
        "                        )\n",
        "print(order_df)\n",
        "print()\n",
        "\n",
        "customer_df = pd.DataFrame(\n",
        "                            [[101, \"광수\"],\n",
        "                             [102, \"민호\"],\n",
        "                             [103, \"소희\"]],\n",
        "                            columns=[\"id\",\"name\"]\n",
        "                        )\n",
        "print(customer_df)\n",
        "print()\n",
        "\n",
        "# order_df을 바탕으로 \"id\"를 customer_df와 결합하여, order_df에 대입하세요.\n",
        "order_df = pd.merge(order_df, customer_df, left_on = \"customer_id\", right_on=\"id\", how=\"inner\")\n",
        "print(order_df)\n",
        "    "
      ],
      "execution_count": 0,
      "outputs": [
        {
          "output_type": "stream",
          "text": [
            "     id  item_id  customer_id\n",
            "0  1000     2546          103\n",
            "1  1001     4352          101\n",
            "2  1002      342          101\n",
            "\n",
            "    id name\n",
            "0  101   광수\n",
            "1  102   민호\n",
            "2  103   소희\n",
            "\n",
            "   id_x  item_id  customer_id  id_y name\n",
            "0  1000     2546          103   103   소희\n",
            "1  1001     4352          101   101   광수\n",
            "2  1002      342          101   101   광수\n"
          ],
          "name": "stdout"
        }
      ]
    },
    {
      "cell_type": "code",
      "metadata": {
        "id": "YKab8H6TFWl-",
        "colab_type": "code",
        "colab": {},
        "outputId": "980efe10-1954-4eab-c08e-28c1d68c3ce7"
      },
      "source": [
        "# 9-13\n",
        "import pandas as pd\n",
        "#주문 정보입니다.\n",
        "order_df = pd.DataFrame(\n",
        "                            [[1000, 2546, 103],\n",
        "                             [1001, 4352, 101],\n",
        "                             [1002, 342,  101]],\n",
        "                             columns = [\"id\", \"item_id\", \"customer_id\"]\n",
        "                         )\n",
        "# 고객 정보입니다.\n",
        "customer_df =(\n",
        "                pd.DataFrame(\n",
        "                                [[101,\"광수\"],\n",
        "                                 [102,\"민호\"],\n",
        "                                 [103,\"소희\"]],\n",
        "                                columns = [\"id\",\"name\"]\n",
        "                            )\n",
        "              )\n",
        "customer_df.index = [101, 102, 103]\n",
        "\n",
        "# customer_df을 바탕으로, \"name\"을 order_df과 결합하여, order_df에 대입하세요.\n",
        "order_df = pd.merge(order_df, customer_df, left_on=\"customer_id\", right_on=\"id\",how=\"inner\")\n",
        "\n",
        "print(order_df)"
      ],
      "execution_count": 0,
      "outputs": [
        {
          "output_type": "stream",
          "text": [
            "   id_x  item_id  customer_id  id_y name\n",
            "0  1000     2546          103   103   소희\n",
            "1  1001     4352          101   101   광수\n",
            "2  1002      342          101   101   광수\n"
          ],
          "name": "stdout"
        }
      ]
    },
    {
      "cell_type": "markdown",
      "metadata": {
        "id": "63ax5F1QFWmA",
        "colab_type": "text"
      },
      "source": [
        "## 9.4. DataFrame을 이용한 데이터 분석\n",
        "### 9.4.1. 특정 행 얻기\n",
        "   - df.head()는 첫 5행만 담긴 DataFrame을 반환.\n",
        "   - df.tail()은 끝 5행만 담긴 DataFrame을 반환\n",
        "   - 정수로 인수지정시, 처음이나 끝에서부터 특정 행까지의 DataFrame을 얻을수있음"
      ]
    },
    {
      "cell_type": "code",
      "metadata": {
        "id": "f0AMShrfFWmA",
        "colab_type": "code",
        "colab": {},
        "outputId": "2e2e9162-0867-4394-e715-b31f6b28a281"
      },
      "source": [
        "import numpy as np\n",
        "import pandas as pd\n",
        "\n",
        "np.random.seed(0)\n",
        "columns = [\"apple\",\"orange\",\"banana\",\"strawberry\",\"kiwifruit\"]\n",
        "\n",
        "# DataFrame을 생성하고 열을 추가합니다\n",
        "df = pd.DataFrame()\n",
        "for column in columns:\n",
        "    df[column] = np.random.choice(range(1,11),10)\n",
        "df.index = range(1,11)\n",
        "\n",
        "# df의 첫 3행을 취득하여 df_head에 대입하세요\n",
        "df_head = df.head(3)\n",
        "\n",
        "# df의 끝 3행을 취득하여 df_tail에 대입하세요\n",
        "df_tail = df.tail(3)\n",
        "print(df_head)\n",
        "print()\n",
        "print(df_tail)"
      ],
      "execution_count": 0,
      "outputs": [
        {
          "output_type": "stream",
          "text": [
            "   apple  orange  banana  strawberry  kiwifruit\n",
            "1      6       8       6           3         10\n",
            "2      1       7      10           4         10\n",
            "3      4       9       9           9          1\n",
            "\n",
            "    apple  orange  banana  strawberry  kiwifruit\n",
            "8       6       8       4           8          8\n",
            "9       3       9       6           1          3\n",
            "10      5       2       1           2          1\n"
          ],
          "name": "stdout"
        }
      ]
    },
    {
      "cell_type": "markdown",
      "metadata": {
        "id": "UK-1jWtkFWmC",
        "colab_type": "text"
      },
      "source": [
        "### 9.4.2. 계산 처리하기\n",
        "   - NumPy에서 제공하는 함수에 Series나 DataFrame을 전달하여 전체 요소 계산 가능\n",
        "   - Pandas는 NumPy처럼 브로드캐스트를 지원"
      ]
    },
    {
      "cell_type": "code",
      "metadata": {
        "id": "uzxcqZV8FWmC",
        "colab_type": "code",
        "colab": {},
        "outputId": "a02d696d-8a7e-4cc8-f1b8-133980288aac"
      },
      "source": [
        "# 9-17\n",
        "import pandas as pd\n",
        "import numpy as np\n",
        "import math\n",
        "\n",
        "np.random.seed(0)\n",
        "columns = [\"apple\",\"orange\",\"banana\",\"strawberry\",\"kiwifruit\"]\n",
        "\n",
        "# DataFrame생성 및 열 추가\n",
        "df = pd.DataFrame()\n",
        "for column in columns:\n",
        "    df[column] = np.random.choice(range(1,11),10)\n",
        "df.index = range(1,11)\n",
        "\n",
        "# df의 각 요소를 두 배로 만들어 double_df에 대입하세요\n",
        "double_df = df*2\n",
        "\n",
        "# df의 각 요소를 제곱하여 squre_df에 대입하세요\n",
        "square_df = df*df\n",
        "\n",
        "# df의 각 요소를 제곱근 계산하여 sqrt_df에 대입하세요\n",
        "sqrt_df = np.sqrt(df)\n",
        "\n",
        "print(double_df)\n",
        "print()\n",
        "print(square_df)\n",
        "print()\n",
        "print(sqrt_df)\n",
        "\n"
      ],
      "execution_count": 0,
      "outputs": [
        {
          "output_type": "stream",
          "text": [
            "    apple  orange  banana  strawberry  kiwifruit\n",
            "1      12      16      12           6         20\n",
            "2       2      14      20           8         20\n",
            "3       8      18      18          18          2\n",
            "4       8      18      20           4         10\n",
            "5      16       4      10           8         16\n",
            "6      20      14       8           8          8\n",
            "7       8      16       2           8          6\n",
            "8      12      16       8          16         16\n",
            "9       6      18      12           2          6\n",
            "10     10       4       2           4          2\n",
            "\n",
            "    apple  orange  banana  strawberry  kiwifruit\n",
            "1      36      64      36           9        100\n",
            "2       1      49     100          16        100\n",
            "3      16      81      81          81          1\n",
            "4      16      81     100           4         25\n",
            "5      64       4      25          16         64\n",
            "6     100      49      16          16         16\n",
            "7      16      64       1          16          9\n",
            "8      36      64      16          64         64\n",
            "9       9      81      36           1          9\n",
            "10     25       4       1           4          1\n",
            "\n",
            "       apple    orange    banana  strawberry  kiwifruit\n",
            "1   2.449490  2.828427  2.449490    1.732051   3.162278\n",
            "2   1.000000  2.645751  3.162278    2.000000   3.162278\n",
            "3   2.000000  3.000000  3.000000    3.000000   1.000000\n",
            "4   2.000000  3.000000  3.162278    1.414214   2.236068\n",
            "5   2.828427  1.414214  2.236068    2.000000   2.828427\n",
            "6   3.162278  2.645751  2.000000    2.000000   2.000000\n",
            "7   2.000000  2.828427  1.000000    2.000000   1.732051\n",
            "8   2.449490  2.828427  2.000000    2.828427   2.828427\n",
            "9   1.732051  3.000000  2.449490    1.000000   1.732051\n",
            "10  2.236068  1.414214  1.000000    1.414214   1.000000\n"
          ],
          "name": "stdout"
        }
      ]
    },
    {
      "cell_type": "markdown",
      "metadata": {
        "id": "KtRKys87FWmF",
        "colab_type": "text"
      },
      "source": [
        "### 9.4.3. 통계 정보 얻기\n",
        "   - 컬럼별 통계정보 집계 : df.describe()하여 컬럼당 데이터의 정보를 포함하는 DataFrame반환 가능"
      ]
    },
    {
      "cell_type": "code",
      "metadata": {
        "id": "I9fdlF2ZFWmF",
        "colab_type": "code",
        "colab": {},
        "outputId": "0e728e14-43e1-454c-8143-196e3bdccf87"
      },
      "source": [
        "# 9-19\n",
        "import pandas as pd\n",
        "import numpy as np\n",
        "\n",
        "np.random.seed(0)\n",
        "columns = [\"apple\",\"orange\",\"banana\",\"strawberry\",\"kiwifruit\"]\n",
        "\n",
        "# DataFrame Generation\n",
        "df = pd.DataFrame()\n",
        "for column in columns:\n",
        "    df[column] = np.random.choice(range(1,11),10)\n",
        "df.index = range(1,11)\n",
        "\n",
        "# df의 통계 정보 중\"mean\",\"max\",\"min\"을 꺼내서 df_des에 대입하세요.\n",
        "df_des = df.describe().loc[[\"mean\",\"max\",\"min\"]]\n",
        "\n",
        "print(df_des)"
      ],
      "execution_count": 0,
      "outputs": [
        {
          "output_type": "stream",
          "text": [
            "      apple  orange  banana  strawberry  kiwifruit\n",
            "mean    5.1     6.9     5.6         4.1        5.3\n",
            "max    10.0     9.0    10.0         9.0       10.0\n",
            "min     1.0     2.0     1.0         1.0        1.0\n"
          ],
          "name": "stdout"
        }
      ]
    },
    {
      "cell_type": "markdown",
      "metadata": {
        "id": "-drEhb22FWmI",
        "colab_type": "text"
      },
      "source": [
        "### 9.4.4. DataFrame의 행간 차이와 열간 차이 구하기\n",
        "   - 행간 차이를 구하는 작업은 시계열분석-time-series-analysis에 자주 이용\n",
        "   - df.diff(\"행간격 또는 열간격\", axis=\"방향\") 지정시, 행간 또는 열간 차이를 계산한 DataFrame생성"
      ]
    },
    {
      "cell_type": "code",
      "metadata": {
        "id": "cXHyqEENFWmI",
        "colab_type": "code",
        "colab": {},
        "outputId": "12247661-1486-44d1-933f-45944c39cf48"
      },
      "source": [
        "# 9-21\n",
        "import pandas as pd\n",
        "import numpy as np\n",
        "\n",
        "np.random.seed(0)\n",
        "columns = [\"apple\",\"orange\",\"banana\",\"strawberry\",\"kiwifruit\"]\n",
        "\n",
        "df = pd.DataFrame()\n",
        "for column in columns:\n",
        "    df[column] = np.random.choice(range(1,11),10)\n",
        "df.index = range(1,11)\n",
        "\n",
        "# df의 각 행에 대해 2행 뒤와의 차이를 계산한 DataFrame을 df_diff에 대입하세요.\n",
        "df_diff = df.diff(-2, axis=0)\n",
        "\n",
        "print(df)\n",
        "print()\n",
        "print(df_diff)"
      ],
      "execution_count": 0,
      "outputs": [
        {
          "output_type": "stream",
          "text": [
            "    apple  orange  banana  strawberry  kiwifruit\n",
            "1       6       8       6           3         10\n",
            "2       1       7      10           4         10\n",
            "3       4       9       9           9          1\n",
            "4       4       9      10           2          5\n",
            "5       8       2       5           4          8\n",
            "6      10       7       4           4          4\n",
            "7       4       8       1           4          3\n",
            "8       6       8       4           8          8\n",
            "9       3       9       6           1          3\n",
            "10      5       2       1           2          1\n",
            "\n",
            "    apple  orange  banana  strawberry  kiwifruit\n",
            "1     2.0    -1.0    -3.0        -6.0        9.0\n",
            "2    -3.0    -2.0     0.0         2.0        5.0\n",
            "3    -4.0     7.0     4.0         5.0       -7.0\n",
            "4    -6.0     2.0     6.0        -2.0        1.0\n",
            "5     4.0    -6.0     4.0         0.0        5.0\n",
            "6     4.0    -1.0     0.0        -4.0       -4.0\n",
            "7     1.0    -1.0    -5.0         3.0        0.0\n",
            "8     1.0     6.0     3.0         6.0        7.0\n",
            "9     NaN     NaN     NaN         NaN        NaN\n",
            "10    NaN     NaN     NaN         NaN        NaN\n"
          ],
          "name": "stdout"
        }
      ]
    },
    {
      "cell_type": "markdown",
      "metadata": {
        "id": "xOu0gNH0FWmK",
        "colab_type": "text"
      },
      "source": [
        "### 9.4.5. 그룹화\n",
        "   - 그룹화 : 데이터베이스, DataFrame의 특정열에서 동일한 값의 행을 집계하는 것\n",
        "   - df.groupby(\"컬럼\") 으로 지정한 컬럼의 그룹화 가능 <---그룹화만 함\n",
        "   - 그룹화의 결과 표시 : GroupBy객체에 대한 그룹의 평균mean() 합(sum()사용가능"
      ]
    },
    {
      "cell_type": "code",
      "metadata": {
        "id": "A1b03yXwFWmL",
        "colab_type": "code",
        "colab": {},
        "outputId": "73fcbc18-7a57-4956-bcbe-95dbe15009c2"
      },
      "source": [
        "# 9-23\n",
        "import pandas as pd\n",
        "\n",
        "prefecture_df = pd.DataFrame(\n",
        "                    [\n",
        "                        [\"강릉\", 1040,213527, \"강원도\"],\n",
        "                        [\"광주\", 430, 1458915,\"전라도\"],\n",
        "                        [\"평창\", 1463,42218,  \"강원도\"],\n",
        "                        [\"대전\", 539, 1479955,\"충청도\"],\n",
        "                        [\"단양\", 780, 29816,  \"충청도\"]\n",
        "                    ],\n",
        "                    columns=[\"Prefecture\",\"Area\",\"Population\",\"Region\"]\n",
        "                )\n",
        "print(prefecture_df)\n",
        "\n",
        "#prefecture_df를 지역(Region)으로 그룹화하여 grouped_region에 대입\n",
        "grouped_region = prefecture_df.groupby(\"Region\")\n",
        "print(prefecture_df)\n",
        "print()\n",
        "\n",
        "#prefecture_df를 지역별 면적(Area)와 인구(Population)의 평균을 mean_df에 대입\n",
        "mean_df = grouped_region.mean()\n",
        "print(mean_df)"
      ],
      "execution_count": 0,
      "outputs": [
        {
          "output_type": "stream",
          "text": [
            "  Prefecture  Area  Population Region\n",
            "0         강릉  1040      213527    강원도\n",
            "1         광주   430     1458915    전라도\n",
            "2         평창  1463       42218    강원도\n",
            "3         대전   539     1479955    충청도\n",
            "4         단양   780       29816    충청도\n",
            "  Prefecture  Area  Population Region\n",
            "0         강릉  1040      213527    강원도\n",
            "1         광주   430     1458915    전라도\n",
            "2         평창  1463       42218    강원도\n",
            "3         대전   539     1479955    충청도\n",
            "4         단양   780       29816    충청도\n",
            "\n",
            "          Area  Population\n",
            "Region                    \n",
            "강원도     1251.5    127872.5\n",
            "전라도      430.0   1458915.0\n",
            "충청도      659.5    754885.5\n"
          ],
          "name": "stdout"
        }
      ]
    },
    {
      "cell_type": "markdown",
      "metadata": {
        "id": "muiMABZCFWmN",
        "colab_type": "text"
      },
      "source": [
        "## 연습문제"
      ]
    },
    {
      "cell_type": "code",
      "metadata": {
        "id": "e9m99tqtFWmN",
        "colab_type": "code",
        "colab": {},
        "outputId": "68f9c2bb-509b-432c-f497-54afff9880a5"
      },
      "source": [
        "# 9-25\n",
        "import pandas as pd\n",
        "\n",
        "# 두 DataFrame을 정의\n",
        "df1 = pd.DataFrame(\n",
        "    [\n",
        "        [\"apple\", \"Fruit\",120],\n",
        "        [\"orange\",\"Fruit\",60],\n",
        "        [\"banana\",\"Fruit\",100],\n",
        "        [\"pumpkin\",\"Vegetable\",150],\n",
        "        [\"potato\", \"Vegetable\",80]        \n",
        "    ],\n",
        "    columns = [\"Name\",\"Type\",\"Price\"]\n",
        ")\n",
        "df2 = pd.DataFrame(\n",
        "    [\n",
        "        [\"onion\", \"Vegetable\",60],\n",
        "        [\"carrot\",\"Vegetable\",50],\n",
        "        [\"beans\", \"Vegetable\",100],\n",
        "        [\"grape\",\"Fruit\",160],\n",
        "        [\"kiwifruit\", \"Fruit\",80]        \n",
        "    ],\n",
        "    columns = [\"Name\",\"Type\",\"Price\"]\n",
        ")\n",
        "\n",
        "# DataFtame 결합\n",
        "df3 = pd.concat([df1, df2], axis=0)\n",
        "\n",
        "# 과일을 추출하여 Price로 정렬\n",
        "df_fruit = df3.loc[df3[\"Type\"]==\"Fruit\"]\n",
        "df_fruit = df_fruit.sort_values(by=\"Price\")\n",
        "\n",
        "# 야채를 추출하여 Price로 정렬\n",
        "df_veg = df3.loc[df3[\"Type\"] == \"Vegetable\"]\n",
        "df_veg = df_veg.sort_values(by=\"Price\")\n",
        "\n",
        "# 과일과 야채의 상위 세 요소의 Price 합을 각각 계싼\n",
        "print(sum(df_fruit[:3][\"Price\"]) + sum(df_veg[:3][\"Price\"]))"
      ],
      "execution_count": 0,
      "outputs": [
        {
          "output_type": "stream",
          "text": [
            "430\n"
          ],
          "name": "stdout"
        }
      ]
    },
    {
      "cell_type": "markdown",
      "metadata": {
        "id": "Sv-tZ5xWFWmQ",
        "colab_type": "text"
      },
      "source": [
        "## 종합 문제"
      ]
    },
    {
      "cell_type": "code",
      "metadata": {
        "id": "IylxvWitFWmQ",
        "colab_type": "code",
        "colab": {},
        "outputId": "612b0c17-944a-4510-ad80-58e4e2e2ac89"
      },
      "source": [
        "import pandas as pd\n",
        "\n",
        "index = [\"광수\",\"민호\",\"소희\",\"태양\",\"영희\"]\n",
        "columns = [\"국어\",\"수학\",\"사회\",\"과학\",\"영어\"]\n",
        "data = [\n",
        "        [30,45,12,45,87],\n",
        "        [65,47,83,17,58],\n",
        "        [64,63,86,57,46],\n",
        "        [38,47,62,91,63],\n",
        "        [65,36,85,94,36]\n",
        "       ]\n",
        "df = pd.DataFrame(data, index=index, columns=columns)\n",
        "\n",
        "# df에 \"체육\"이라는 새 열을 만들고, pe_column의 데이터를 추가하세요\n",
        "pe_column = pd.Series([56,43,73,82,62], index=[\"광수\",\"민호\",\"소희\",\"태양\",\"영희\"])\n",
        "df[\"체육\"] = pe_column\n",
        "print(df)\n",
        "print()\n",
        "\n",
        "# 수학을 오름차순으로 정렬\n",
        "df1 = df.sort_values(by=\"수학\",ascending=True)\n",
        "print(df1)\n",
        "print()\n",
        "\n",
        "# df1의 각 요소에 5점을 더하세요\n",
        "df2 = df1 + 5\n",
        "print(df2)\n",
        "print()\n",
        "\n",
        "# df의 통계 정보 중에서 \"mean\",\"max\",\"min\"을 출력하세요.\n",
        "print(df2.describe().loc[[\"mean\",\"max\",\"min\"]])"
      ],
      "execution_count": 0,
      "outputs": [
        {
          "output_type": "stream",
          "text": [
            "    국어  수학  사회  과학  영어  체육\n",
            "광수  30  45  12  45  87  56\n",
            "민호  65  47  83  17  58  43\n",
            "소희  64  63  86  57  46  73\n",
            "태양  38  47  62  91  63  82\n",
            "영희  65  36  85  94  36  62\n",
            "\n",
            "    국어  수학  사회  과학  영어  체육\n",
            "영희  65  36  85  94  36  62\n",
            "광수  30  45  12  45  87  56\n",
            "민호  65  47  83  17  58  43\n",
            "태양  38  47  62  91  63  82\n",
            "소희  64  63  86  57  46  73\n",
            "\n",
            "    국어  수학  사회  과학  영어  체육\n",
            "영희  70  41  90  99  41  67\n",
            "광수  35  50  17  50  92  61\n",
            "민호  70  52  88  22  63  48\n",
            "태양  43  52  67  96  68  87\n",
            "소희  69  68  91  62  51  78\n",
            "\n",
            "        국어    수학    사회    과학    영어    체육\n",
            "mean  57.4  52.6  70.6  65.8  63.0  68.2\n",
            "max   70.0  68.0  91.0  99.0  92.0  87.0\n",
            "min   35.0  41.0  17.0  22.0  41.0  48.0\n"
          ],
          "name": "stdout"
        }
      ]
    },
    {
      "cell_type": "code",
      "metadata": {
        "id": "pGTV82MOFWmT",
        "colab_type": "code",
        "colab": {}
      },
      "source": [
        ""
      ],
      "execution_count": 0,
      "outputs": []
    }
  ]
}