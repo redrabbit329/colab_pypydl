{
  "nbformat": 4,
  "nbformat_minor": 0,
  "metadata": {
    "colab": {
      "name": "Untitled2.ipynb",
      "provenance": [],
      "collapsed_sections": [],
      "authorship_tag": "ABX9TyO6hx6CPCm8AUlJrXFG29b7",
      "include_colab_link": true
    },
    "kernelspec": {
      "name": "python3",
      "display_name": "Python 3"
    }
  },
  "cells": [
    {
      "cell_type": "markdown",
      "metadata": {
        "id": "view-in-github",
        "colab_type": "text"
      },
      "source": [
        "<a href=\"https://colab.research.google.com/github/redrabbit329/colab_pypydl/blob/master/Ch6_%ED%95%A8%EC%88%98%20%EA%B8%B0%EC%B4%88.ipynb\" target=\"_parent\"><img src=\"https://colab.research.google.com/assets/colab-badge.svg\" alt=\"Open In Colab\"/></a>"
      ]
    },
    {
      "cell_type": "markdown",
      "metadata": {
        "id": "E2lBQZQRmBVx",
        "colab_type": "text"
      },
      "source": [
        "# ***Summary***\n",
        "### 함수(사용자 함수 및 내장 함수\n",
        "   - 내장함수인 경우 사용법을 잘 익혀 사용해야 함\n",
        "             print(), type(), int(), str(), len() <-- 객체의 길이나 요소수 반환\n",
        "             sort()           \n",
        "   - 사용자 함수인 경우\n",
        "             def 함수명(인수1, 인수2, ..., 인수n=\"초기값\", 인수n+1=\"초기값\"):\n",
        "                 내용기술\n",
        "                 return 반환값\n",
        "   - 공개된 함수 가져오기\n",
        "             import 패키지명\n",
        "             from 패키지명 import 모듈명\n",
        "             (ex) from time import sleep\n",
        "### 메서드 : \"값.메서드명()\" 형식으로 기술\n",
        "   - 문자열형 메서드 : \n",
        "             변수이름.append(\"객체\")\n",
        "             변수이름.sort()     // destructive method \n",
        "             변수이름.reverse()\n",
        "             변수이름.upper()\n",
        "             변수이름.count(\"객체\")\n",
        "             문자열{1}문자열{2}문자열.format(\"객체1\",\"객체2\")\n",
        "             변수이름.index(\"객체\")\n",
        "\n",
        "\n",
        "### 클래스 - 파이썬의 문자열, 배열은 모두 객체(오브젝트)\n",
        "   - 클래스 : 멤버와 생성자, 메서드, 상속, 오버라이드, 슈퍼의 개념이 존재\n",
        "             class 클래스명:\n",
        "                 def __init__(self, 인수1, 인수2,..):\n",
        "                     self.인수1 = 인수1   // 인수를 멤버에 저장\n",
        "                     self.인수2 = 인수장\n",
        "                 def 매서드명(self):\n",
        "                     self.멤버명 = 기술\n",
        "                 def 메서드명2(self,인수)\n",
        "                     self.멤버 -= 인수조작 기술\n",
        "             class 클래스명(상속하는 부모클래스명):\n",
        "                 def __init__(self, 인수1, 인수2,..):\n",
        "                     super().__init__(부모생성자의 인수목록):\n",
        "                     self.추가된인수 멤버기술\n",
        "                 def 부모클래스의 메서드명(self):\n",
        "                     return self.멤버 + 변형     // 오버라이드\n",
        "### 문자열 포맷 : %d, %f, %.2f, %s\n",
        "### Binary Search Algorithm vs. Linear Search Algorithm\n",
        "   - Binary Search Algorithm : 데이터의 중앙값으로부터 검색\n",
        "   - Linear Search Algorithm : 맨 앞부터 끝까지 차례대로 검색 (순차검색, Sequential Search Algorithm)\n"
      ]
    },
    {
      "cell_type": "markdown",
      "metadata": {
        "id": "q-Se9ae0mtOh",
        "colab_type": "text"
      },
      "source": [
        "# Chapter6.함수 기초\n",
        "## 6.1. 내장 함수와 메서드\n",
        "### 6.1.1. 내장 함수\n",
        "   - 함수 : 처리를 정리한 프로그램\n",
        "   - 내장 함수 : 파이썬에 미리 정의된 함수\n",
        "               print()\n",
        "               type()\n",
        "               int()\n",
        "               str()\n",
        "               len() # ()내 객체의 길이나 요소 수 리턴\n",
        "   - 객체(오브젝트) : 변수에 할당할 수 있는 요소\n",
        "   - 인수(파라미터) : 객체에 대입되는 값\n",
        "\n",
        "     ex. len() 함수는 문자열(str)형과 리스트(list)형을 인수로 받을 수 있지만, 정수(int)형, 부동소수점(float)형, 불리언(bool)형은 인수로 받을 수 없다. 내장 함수를 익힐 때는 어떤 자료형의 인수를 사용할 수 있는지 확인(파이썬 레퍼런스 참조)\n"
      ]
    },
    {
      "cell_type": "code",
      "metadata": {
        "id": "5NGPSGtDoBRP",
        "colab_type": "code",
        "colab": {
          "base_uri": "https://localhost:8080/",
          "height": 34
        },
        "outputId": "10b188b7-ae2d-4d3d-848d-7c47ef6aa394"
      },
      "source": [
        "# 오류가 발생하지 않는 예\n",
        "len(\"tomato\")     # len() 함수는 str, list를 인수로 받을 수 있다.\n",
        "len([1,2,3])\n",
        "# 오류가 발생하는 예\n",
        "#len(3)            # int type\n",
        "#len(2.1)          # float type\n",
        "#len(True)         # bool type\n",
        "type(True)"
      ],
      "execution_count": 5,
      "outputs": [
        {
          "output_type": "execute_result",
          "data": {
            "text/plain": [
              "bool"
            ]
          },
          "metadata": {
            "tags": []
          },
          "execution_count": 5
        }
      ]
    },
    {
      "cell_type": "markdown",
      "metadata": {
        "id": "WVB-s1_1pgVL",
        "colab_type": "text"
      },
      "source": [
        "특이한 점은, 파이썬에서 예약어나 내장함수가 보호되어 있지 않아, 예약어나 내장 함수명을 그대로 변수명으로 사용하면 예약어나 내장 함수가 덮어써지기 때문에 본래의 동작을 하지 못하게 된다."
      ]
    },
    {
      "cell_type": "code",
      "metadata": {
        "id": "pAG6eOW-pscq",
        "colab_type": "code",
        "colab": {
          "base_uri": "https://localhost:8080/",
          "height": 51
        },
        "outputId": "83704bf0-e42f-4421-c3b6-244e76599b0e"
      },
      "source": [
        "# 6-1\n",
        "vege = \"potato\"\n",
        "n = [4,5,2,7,6]\n",
        "# 변수 vege의 객체 길이를 len()함수와 print()함수를 이용하여 출력하세요\n",
        "print(len(vege))\n",
        "# 변수 n의 객체 길이를 len()함수와 print()함수를 이용하여 출력하세요\n",
        "print(len(n))"
      ],
      "execution_count": 6,
      "outputs": [
        {
          "output_type": "stream",
          "text": [
            "6\n",
            "5\n"
          ],
          "name": "stdout"
        }
      ]
    },
    {
      "cell_type": "markdown",
      "metadata": {
        "id": "pTmbs9NLqeKm",
        "colab_type": "text"
      },
      "source": [
        "### 6.1.2. 메서드\n",
        "   - 메서드는 어떠한 값이 처리를 하는 것. 이며, '값.메서드명()' 형식으로 기술한다.\n",
        "   - 함수의 역할과 동일하나, 함수는 처리하려는 값을 ()안에 기입하고, 메서드는 값 뒤에 점.을 연결해 기술한다.\n",
        "   - 함수와 마찬가지로, 값의 자료형에 따라 사용할 수 있는 메서드가 다르다.\n",
        "     ex. append()는 리스트(list)형에 사용할 수 있는 메서드이다."
      ]
    },
    {
      "cell_type": "code",
      "metadata": {
        "id": "NU8n0osArH63",
        "colab_type": "code",
        "colab": {
          "base_uri": "https://localhost:8080/",
          "height": 34
        },
        "outputId": "2a7a6a59-c046-4c19-8ef8-3235240987f6"
      },
      "source": [
        "# append()메서드의 예\n",
        "alphabet = [\"a\",\"b\",\"c\",\"d\",\"d\"]\n",
        "alphabet.append(\"f\")\n",
        "print(alphabet)"
      ],
      "execution_count": 7,
      "outputs": [
        {
          "output_type": "stream",
          "text": [
            "['a', 'b', 'c', 'd', 'd', 'f']\n"
          ],
          "name": "stdout"
        }
      ]
    },
    {
      "cell_type": "code",
      "metadata": {
        "id": "RvUJ75RLrY4t",
        "colab_type": "code",
        "colab": {
          "base_uri": "https://localhost:8080/",
          "height": 51
        },
        "outputId": "5afba262-6fd3-486b-c03a-d1012f25438f"
      },
      "source": [
        "# 내장함수 sorted()와 메서드 sort()는 둘 다 같은 처리(정렬)를 제공한다.\n",
        "# sorted\n",
        "number = [1,5,3,4,2]\n",
        "print(sorted(number))     # 함수인 sorted()는 괄호 안에 처리하려는 값이 들어감\n",
        "print(number)             # 함수인 sorted()를 사용시, 원래값은 변하지 않는다."
      ],
      "execution_count": 8,
      "outputs": [
        {
          "output_type": "stream",
          "text": [
            "[1, 2, 3, 4, 5]\n",
            "[1, 5, 3, 4, 2]\n"
          ],
          "name": "stdout"
        }
      ]
    },
    {
      "cell_type": "code",
      "metadata": {
        "id": "r6ScZ4ACsDvg",
        "colab_type": "code",
        "colab": {
          "base_uri": "https://localhost:8080/",
          "height": 34
        },
        "outputId": "fee8813a-7dc3-4d9d-d595-a51e70b36580"
      },
      "source": [
        "# sort : 파괴적 메서드(destructive method)\n",
        "number = [1,5,3,4,2]\n",
        "number.sort()           # 메서드인 sort()는 변수명(처리하려는 값) 뒤에 점찍고 메서드를 연결해 기술한다\n",
        "print(number)           # 메서드를 사용해 정렬해 버리면, 변수의 내용까지 변경해 버린다.\n",
        "# 주의 : 모든 내장 함수와 메서드가 sort와 같은 관계를 갖는 것은 아니다."
      ],
      "execution_count": 10,
      "outputs": [
        {
          "output_type": "stream",
          "text": [
            "[1, 2, 3, 4, 5]\n"
          ],
          "name": "stdout"
        }
      ]
    },
    {
      "cell_type": "code",
      "metadata": {
        "id": "XFa_ATwYsgop",
        "colab_type": "code",
        "colab": {
          "base_uri": "https://localhost:8080/",
          "height": 51
        },
        "outputId": "844f3e00-92f4-4d43-ba9c-0dda81af0005"
      },
      "source": [
        "# 다음 코드를 실행했을 때의 출력 결과\n",
        "alphabet = [\"b\",\"a\",\"e\",\"c\",\"d\"]\n",
        "sorted(alphabet)\n",
        "print(alphabet)         # sorted()는 원래값을 변경하지 않는 내장함수이다.\n",
        "alphabet.sort()         # sort()는 원래값을 변경하는 메서드이다.\n",
        "print(alphabet) "
      ],
      "execution_count": 11,
      "outputs": [
        {
          "output_type": "stream",
          "text": [
            "['b', 'a', 'e', 'c', 'd']\n",
            "['a', 'b', 'c', 'd', 'e']\n"
          ],
          "name": "stdout"
        }
      ]
    },
    {
      "cell_type": "markdown",
      "metadata": {
        "id": "3s4ARrX3tsht",
        "colab_type": "text"
      },
      "source": [
        "### 6.1.3. 문자열형 메서드(upper, count)\n",
        "   - upper() : 모든 문자열을 대문자로 반환하는 메서드\n",
        "   - count() : ()안에 들어있는 문자열에 요소가 몇 개 포함되어 있는지 알려주는 메서드\n",
        "   - 변수.upper(), 변수.count(객체) 로 사용한다."
      ]
    },
    {
      "cell_type": "code",
      "metadata": {
        "id": "14x-sgeJuG5k",
        "colab_type": "code",
        "colab": {
          "base_uri": "https://localhost:8080/",
          "height": 51
        },
        "outputId": "0e7e1a18-a94a-49d7-c51f-4d3bc94c0681"
      },
      "source": [
        "# The examples of upper() & count() method\n",
        "city = \"Tokyo\"\n",
        "print(city.upper())       # 변수 city의 모든 문자열을 대문자로 반환\n",
        "print(city.count(\"o\"))    # 변수 city에서 \"o\"라는 객체가 몇 개 있는지 세어 알려준다."
      ],
      "execution_count": 13,
      "outputs": [
        {
          "output_type": "stream",
          "text": [
            "TOKYO\n",
            "2\n"
          ],
          "name": "stdout"
        }
      ]
    },
    {
      "cell_type": "code",
      "metadata": {
        "id": "mJlxhFqbugjz",
        "colab_type": "code",
        "colab": {
          "base_uri": "https://localhost:8080/",
          "height": 69
        },
        "outputId": "776ee863-ae40-4a3b-da17-05f95753b17f"
      },
      "source": [
        "# 6-7\n",
        "animal = \"elephant\"\n",
        "# 변수 animal에 저장되어 있는 문자열을 대문자로 변환해서 변수 animal_big에 저장하세요.\n",
        "animal_big = animal.upper()\n",
        "print(animal)\n",
        "print(animal_big)\n",
        "\n",
        "# 변수 animal에 'e'가 몇 개 포함되어 있는지 출력하세요.\n",
        "print(animal.count(\"e\"))"
      ],
      "execution_count": 14,
      "outputs": [
        {
          "output_type": "stream",
          "text": [
            "elephant\n",
            "ELEPHANT\n",
            "2\n"
          ],
          "name": "stdout"
        }
      ]
    },
    {
      "cell_type": "markdown",
      "metadata": {
        "id": "NVIDLYfAvhvP",
        "colab_type": "text"
      },
      "source": [
        "### 6.1.4. 문자열형 메서드 (format)\n",
        "   - format() 메서드는 임의의 값을 대입한 문자열을 생성할 수 있어, 문자열에 변수를 삽입할 때, 자주 사용한다. 문자열 내에 {}를 포함하며, 중괄호{}안에 값이 들어간다."
      ]
    },
    {
      "cell_type": "code",
      "metadata": {
        "id": "hJ7M0vFPv4Ld",
        "colab_type": "code",
        "colab": {
          "base_uri": "https://localhost:8080/",
          "height": 34
        },
        "outputId": "fb134a70-7aca-4c96-89fc-06793908f6ce"
      },
      "source": [
        "# The example of format() method\n",
        "print(\"나는{}에서 태어나 {}에서 유년기를 보냈습니다.\".format(\"서울\",\"광명시\"))"
      ],
      "execution_count": 15,
      "outputs": [
        {
          "output_type": "stream",
          "text": [
            "나는서울에서 태어나 광명시에서 유년기를 보냈습니다.\n"
          ],
          "name": "stdout"
        }
      ]
    },
    {
      "cell_type": "code",
      "metadata": {
        "id": "QajiIGC3wJSF",
        "colab_type": "code",
        "colab": {
          "base_uri": "https://localhost:8080/",
          "height": 34
        },
        "outputId": "3b8bf150-9332-44d8-931b-1ce73803d7da"
      },
      "source": [
        "# 6-10\n",
        "fruit = \"바나나\"\n",
        "color = \"노란색\"\n",
        "\n",
        "# format()메서드를 사용하여, \"바나나는 노란색입니다\"라고 출력하세요\n",
        "print(\"{}는 {}입니다\".format(fruit, color))"
      ],
      "execution_count": 16,
      "outputs": [
        {
          "output_type": "stream",
          "text": [
            "바나나는 노란색입니다\n"
          ],
          "name": "stdout"
        }
      ]
    },
    {
      "cell_type": "code",
      "metadata": {
        "id": "rJkFMWbJwp9I",
        "colab_type": "code",
        "colab": {}
      },
      "source": [
        ""
      ],
      "execution_count": 0,
      "outputs": []
    },
    {
      "cell_type": "markdown",
      "metadata": {
        "id": "nIdnLUi8wwJ6",
        "colab_type": "text"
      },
      "source": [
        "### 6.1.5. 리스트(list)형 메서드 (index)\n",
        "   - list형에는 인덱스 번호가 존재한다. 인덱스 번호는 리스트 내용을 0에서부터 순서대로 나열했을 때의 번호이다.\n",
        "   - 객체의 인덱스 번호를 찾는 용도의 index()\n",
        "   - list형에서도 count()메서드를 사용할 수 있다."
      ]
    },
    {
      "cell_type": "code",
      "metadata": {
        "id": "LBkBEFGBxObG",
        "colab_type": "code",
        "colab": {
          "base_uri": "https://localhost:8080/",
          "height": 51
        },
        "outputId": "c9c559e0-9037-4851-ffae-56cbf67e08b1"
      },
      "source": [
        "# 6-12 The examples of index() method\n",
        "alphabet = [\"a\",\"b\",\"c\",\"d\",\"d\"]\n",
        "print(alphabet.index(\"a\"))\n",
        "print(alphabet.count(\"d\"))"
      ],
      "execution_count": 17,
      "outputs": [
        {
          "output_type": "stream",
          "text": [
            "0\n",
            "2\n"
          ],
          "name": "stdout"
        }
      ]
    },
    {
      "cell_type": "code",
      "metadata": {
        "id": "6t3GTn4DxlEo",
        "colab_type": "code",
        "colab": {
          "base_uri": "https://localhost:8080/",
          "height": 51
        },
        "outputId": "142e036d-8149-4018-c161-fb5b6caef253"
      },
      "source": [
        "# 6-13\n",
        "n = [3,6,8,6,3,2,4,6]\n",
        "# '2'의 인덱스 번호를 출력하세요.\n",
        "print(n.index(2))\n",
        "# 변수 n중에 '6'이 몇 개 들어 있는지 출력하세요.\n",
        "print(n.count(6)) "
      ],
      "execution_count": 18,
      "outputs": [
        {
          "output_type": "stream",
          "text": [
            "5\n",
            "3\n"
          ],
          "name": "stdout"
        }
      ]
    },
    {
      "cell_type": "markdown",
      "metadata": {
        "id": "JJ95BGqNyMM0",
        "colab_type": "text"
      },
      "source": [
        "### 6.1.6. 리스트형 메서드(sort)\n",
        "   - 앞서 다룬 sort()메서드는 리스트형에서 자주 사용되는 메서드로,\n",
        "   - sort()메서드는 리스트를 오름차순으로 정렬한다.\n",
        "   - reverse()메서드를 사용하면, 리스트 요소의 순서를 반대로 할 수 있다.\n",
        "   - sort()메서드를 사용하면, 리스트의 내용이 변경된다.\n",
        "   - 단순히 정렬된 리스트를 보고 싶을 뿐이라면, 내장 함수인 sorted()를 사용하는 것이 좋다."
      ]
    },
    {
      "cell_type": "code",
      "metadata": {
        "id": "IfCCJR5Lyr0V",
        "colab_type": "code",
        "colab": {
          "base_uri": "https://localhost:8080/",
          "height": 51
        },
        "outputId": "30e78aca-1220-4370-8fde-aca4f0c6735c"
      },
      "source": [
        "# 6-15 The example of sort() method\n",
        "list = [1,10,2,20]\n",
        "list.sort()\n",
        "print(list)\n",
        "# 6-16 The example of reverse() method\n",
        "list = [\"가\",\"나\",\"다\",\"라\",\"마\"]\n",
        "list.reverse()\n",
        "print(list)"
      ],
      "execution_count": 20,
      "outputs": [
        {
          "output_type": "stream",
          "text": [
            "[1, 2, 10, 20]\n",
            "['마', '라', '다', '나', '가']\n"
          ],
          "name": "stdout"
        }
      ]
    },
    {
      "cell_type": "code",
      "metadata": {
        "id": "eFQqPfxny7yo",
        "colab_type": "code",
        "colab": {
          "base_uri": "https://localhost:8080/",
          "height": 51
        },
        "outputId": "bbe9c105-fca9-4ba4-b444-a5652c6701cc"
      },
      "source": [
        "# 6-17\n",
        "n = [53, 26, 37, 69,24,2]\n",
        "# 변수 n을 정렬하여 오름차순으로 출력하세요\n",
        "n.sort()\n",
        "print(n)\n",
        "# n의 순서를 반대로 하여 내림차순으로 출력하세요.\n",
        "n.reverse()\n",
        "print(n)"
      ],
      "execution_count": 23,
      "outputs": [
        {
          "output_type": "stream",
          "text": [
            "[2, 24, 26, 37, 53, 69]\n",
            "[69, 53, 37, 26, 24, 2]\n"
          ],
          "name": "stdout"
        }
      ]
    },
    {
      "cell_type": "markdown",
      "metadata": {
        "id": "HolzNIumz_rd",
        "colab_type": "text"
      },
      "source": [
        "## 6.2. 함수\n",
        "### 6.2.1. 함수 작성\n",
        "   - 함수 : 프로그램의 여러 처리를 하나로 정리한 것. \n",
        "           -- 인수를 받아 처리한 결과를 반환값으로 돌려준다. (인수는 함수에 전달하려는 값이다. 인수가 비어있는 경우도 있다.)\n",
        "           -- 함수를 사용하면 전체 동작이 알기 쉬고, 동일 처리시 재활용이 가능하다.\n",
        "           -- 작성법 : def 함수명(인수):\n",
        "           -- 호출시 : 함수명()"
      ]
    },
    {
      "cell_type": "code",
      "metadata": {
        "id": "zXPrSU6701iF",
        "colab_type": "code",
        "colab": {
          "base_uri": "https://localhost:8080/",
          "height": 34
        },
        "outputId": "e6f09344-da11-4af9-e4d7-016b75b2a47f"
      },
      "source": [
        "# 6-19 함수작성 예 : 인수가 없는 간단한 함수\n",
        "def sing():\n",
        "  print(\"노래합니다!\")\n",
        "\n",
        "sing()"
      ],
      "execution_count": 24,
      "outputs": [
        {
          "output_type": "stream",
          "text": [
            "노래합니다!\n"
          ],
          "name": "stdout"
        }
      ]
    },
    {
      "cell_type": "code",
      "metadata": {
        "id": "N288pFBH1HCk",
        "colab_type": "code",
        "colab": {
          "base_uri": "https://localhost:8080/",
          "height": 34
        },
        "outputId": "5e27e224-0dbd-40fc-fba3-5b00de33841b"
      },
      "source": [
        "# '홍길동입니다' 라고 출력하는 함수 introduce를 작성하세요\n",
        "def introduce():\n",
        "  print(\"홍길동입니다\")\n",
        "\n",
        "introduce()"
      ],
      "execution_count": 26,
      "outputs": [
        {
          "output_type": "stream",
          "text": [
            "홍길동입니다\n"
          ],
          "name": "stdout"
        }
      ]
    },
    {
      "cell_type": "markdown",
      "metadata": {
        "id": "c1Un9n601fyq",
        "colab_type": "text"
      },
      "source": [
        "### 6.2.2. 인수\n",
        "   - 함수에 전달하는 값을 '인수'라고 한다. 함수는 인수를 받아서 그 값을 사용한다.\n",
        "   - def 함수명 (인수):처럼 인수를 지정한다.\n",
        "   - 함수명(인수)로 함수를 호출할 때, 전달된 인수(값)가 인수로 지정된 변수에 대입되기 때문에, 인수를 바꾸는 것 만으로 출력 내용을 변경할 수 있다.\n",
        "   - 인수와 함수에 정의된 변수는 그 함수 내에서만 사용할 수 있다."
      ]
    },
    {
      "cell_type": "code",
      "metadata": {
        "id": "pjwgnUAZ1_m-",
        "colab_type": "code",
        "colab": {
          "base_uri": "https://localhost:8080/",
          "height": 34
        },
        "outputId": "e9070603-0524-450e-fd77-ea6c223eb597"
      },
      "source": [
        "# 6-22 인수의 예 : 인수가 하나인 함수\n",
        "def introduce(n):\n",
        "  print(n+\"입니다.\")\n",
        "\n",
        "introduce(\"홍길동\")"
      ],
      "execution_count": 27,
      "outputs": [
        {
          "output_type": "stream",
          "text": [
            "홍길동입니다.\n"
          ],
          "name": "stdout"
        }
      ]
    },
    {
      "cell_type": "code",
      "metadata": {
        "id": "QBQatk6t2S-f",
        "colab_type": "code",
        "colab": {
          "base_uri": "https://localhost:8080/",
          "height": 34
        },
        "outputId": "2a2e8841-3c2a-4ac7-ae4d-8152987df992"
      },
      "source": [
        "# 6-23\n",
        "# 인수 n을 세제곱한 값을 출력하는 함수 cube_cal을 작성하세요.\n",
        "def cube_cal(n):\n",
        "  print(n**3)\n",
        "\n",
        "cube_cal(4)"
      ],
      "execution_count": 28,
      "outputs": [
        {
          "output_type": "stream",
          "text": [
            "64\n"
          ],
          "name": "stdout"
        }
      ]
    },
    {
      "cell_type": "markdown",
      "metadata": {
        "id": "lI9WOts22rYh",
        "colab_type": "text"
      },
      "source": [
        "### 6.2.3. 복수 개의 인수\n",
        "   - 복수 개의 인수를 전달하려면, ()안에 쉼표로 구분하여 지정한다."
      ]
    },
    {
      "cell_type": "code",
      "metadata": {
        "id": "viI3wS6N2y2s",
        "colab_type": "code",
        "colab": {
          "base_uri": "https://localhost:8080/",
          "height": 34
        },
        "outputId": "101af271-2751-4a35-82fe-502c6b063f48"
      },
      "source": [
        "# 6-25 여러 인수의 예 : 인수를 두 개 지정한 함수의 경우\n",
        "def introduce(first, second):\n",
        "  print(\"성은 \"+first+\"이고, 이름은 \"+second+\"입니다.\")\n",
        "\n",
        "introduce(\"홍\",\"길동\")"
      ],
      "execution_count": 30,
      "outputs": [
        {
          "output_type": "stream",
          "text": [
            "성은 홍이고, 이름은 길동입니다.\n"
          ],
          "name": "stdout"
        }
      ]
    },
    {
      "cell_type": "code",
      "metadata": {
        "id": "026gOs_Z3USx",
        "colab_type": "code",
        "colab": {
          "base_uri": "https://localhost:8080/",
          "height": 34
        },
        "outputId": "da9afc52-c83e-4822-b810-92b9738f6a34"
      },
      "source": [
        "# 6-26\n",
        "# 인수 n과 age를 이용하여, '**입니다. **살입니다.'를 출력하는 함수 introduce를 작성하세요.\n",
        "# '홍길동'과 '18'을 인수로 하여, 함수 introduce를 호출하세요.\n",
        "# '홍길동'은 문자열로, '18'은 정수로 지정합니다.\n",
        "def introduce(n, age):\n",
        "  print(n+\"입니다. \"+str(age)+\"살입니다.\")    # print(str type)\n",
        "\n",
        "introduce(\"홍길동\",18)"
      ],
      "execution_count": 32,
      "outputs": [
        {
          "output_type": "stream",
          "text": [
            "홍길동입니다. 18살입니다.\n"
          ],
          "name": "stdout"
        }
      ]
    },
    {
      "cell_type": "markdown",
      "metadata": {
        "id": "gjeV3lqB5Tq3",
        "colab_type": "text"
      },
      "source": [
        "### 6.2.4. 인수의 초깃값\n",
        "   - 인수에 초기값을 설정 시, 함수명(인수)로 호출 시, 인수를 생략하면, 초기값이 사용된다.\n",
        "   - 초기값을 설정하려면, ()안에 인수 = 초기값 이라고 적으면 된다."
      ]
    },
    {
      "cell_type": "code",
      "metadata": {
        "id": "oZrUIrtc5iH1",
        "colab_type": "code",
        "colab": {
          "base_uri": "https://localhost:8080/",
          "height": 51
        },
        "outputId": "08d7d722-e806-4423-d00c-6e8dea6f65f7"
      },
      "source": [
        "# 6-28 인수의 초기값 예1\n",
        "def introduce(first = \"김\", second = \"길동\"): # 초기값을 설정한 인수 뒤에 초기값을 설정하지 않는 인수를 둘 수 없다.\n",
        "  print(\"성은 \"+first+\"이고, 이름은 \"+second+\"입니다.\")\n",
        "\n",
        "introduce(\"홍\")\n",
        "\n",
        "# 6-29 인수의 초기값 예2\n",
        "def introduce(first, second = \"길동\"):\n",
        "  print(\"성은 \"+first+\"이고, 이름은 \"+second+\"입니다.\")\n",
        "\n",
        "introduce(\"홍\")\n",
        "\n",
        "\n",
        "# 6-30 인수의 초기값 예3 (오류의 예)\n",
        "#def introduce(first = \"홍\", second):\n",
        "#  print(\"성은 \"+first+\"이고, 이름은 \"+second+\"입니다.\")\n",
        "#\n",
        "#introduce(\"홍\")"
      ],
      "execution_count": 39,
      "outputs": [
        {
          "output_type": "stream",
          "text": [
            "성은 홍이고, 이름은 길동입니다.\n",
            "성은 홍이고, 이름은 길동입니다.\n"
          ],
          "name": "stdout"
        }
      ]
    },
    {
      "cell_type": "code",
      "metadata": {
        "id": "nWxd4ABL6ABQ",
        "colab_type": "code",
        "colab": {
          "base_uri": "https://localhost:8080/",
          "height": 34
        },
        "outputId": "b419e206-20fe-4148-ffeb-5d6f305afc09"
      },
      "source": [
        "# 6-31 문제 : 인수 n의 초기값을 '홍길동'으로 하며, '18'만 넣어 함수를 호출하세요.\n",
        "def introduce(age, n = \"홍길동\"):\n",
        "  print(n+\"입니다. \"+str(age)+\"살입니다.\")\n",
        "\n",
        "introduce(18)\n"
      ],
      "execution_count": 40,
      "outputs": [
        {
          "output_type": "stream",
          "text": [
            "홍길동입니다. 18살입니다.\n"
          ],
          "name": "stdout"
        }
      ]
    },
    {
      "cell_type": "markdown",
      "metadata": {
        "id": "MXH_IkGJ7gX8",
        "colab_type": "text"
      },
      "source": [
        "### 6.2.5. return\n",
        "   - 함수는 반환값(return)을 설정하여 함수를 호출한 곳으로 그 값을 되돌릴 수 있다.\n",
        "   - return 반환값 으로 기술한다.\n",
        "   - return 뒤에 실행 결과를 직접 적을 수도 있다."
      ]
    },
    {
      "cell_type": "code",
      "metadata": {
        "id": "ZjxFnZvy7w90",
        "colab_type": "code",
        "colab": {
          "base_uri": "https://localhost:8080/",
          "height": 69
        },
        "outputId": "f1185b83-19eb-43ae-87e8-8da6d113d94e"
      },
      "source": [
        "# 6-33 return의 예 1\n",
        "def introduce(first = \"김\", second = \"길동\"):\n",
        "  return \"성은 \"+first+\"이고, 이름은 \"+second+\"입니다.\"\n",
        "\n",
        "print(introduce())\n",
        "print(introduce(\"홍\"))\n",
        "\n",
        "# 6-34 return의 예 2\n",
        "def introduce(first = \"김\", second = \"길동\"):\n",
        "  comment =  \"성은 \"+first+\"이고, 이름은 \"+second+\"입니다.\"\n",
        "  return comment\n",
        "\n",
        "print(introduce(\"홍\"))\n"
      ],
      "execution_count": 44,
      "outputs": [
        {
          "output_type": "stream",
          "text": [
            "성은 김이고, 이름은 길동입니다.\n",
            "성은 홍이고, 이름은 길동입니다.\n",
            "성은 홍이고, 이름은 길동입니다.\n"
          ],
          "name": "stdout"
        }
      ]
    },
    {
      "cell_type": "code",
      "metadata": {
        "id": "dOrNZqck8L3D",
        "colab_type": "code",
        "colab": {
          "base_uri": "https://localhost:8080/",
          "height": 34
        },
        "outputId": "b5677770-b0c9-4d2f-a2a8-7eb8ae684c20"
      },
      "source": [
        "# 6-35\n",
        "# bmi를 계산하는 함수를 작성하고, bmi값을 반환하세요.\n",
        "# bmi = weight / height^2\n",
        "# weight, height라는 두 개의 변수를 사용하세요.\n",
        "def bmi(height,weight):\n",
        "  return weight/(height**2)\n",
        "\n",
        "print(bmi(1.65, 65))"
      ],
      "execution_count": 45,
      "outputs": [
        {
          "output_type": "stream",
          "text": [
            "23.875114784205696\n"
          ],
          "name": "stdout"
        }
      ]
    },
    {
      "cell_type": "markdown",
      "metadata": {
        "id": "KKmb3O3P9iwS",
        "colab_type": "text"
      },
      "source": [
        "### 6.2.6. 함수 임포트(가져오기) : 패키지 > 모듈들\n",
        "   - 직접만든 함수 외에도, 일반에 공개된 함수를 i들port하여 사용할 수 있다.\n",
        "   - 이런 함수는 유사한 용도끼리 셋으로 공개되어 있다. 이 셋을 패키지라 한다.\n",
        "   - 패키지 안에 들어 있는 하나 하나의 함수를 모듈이라 한다.\n",
        "> Package : time\n",
        ">   Module : time.time(), time.sleep(), time.localtime(),....\n",
        "   - package는 import하여 사용할 수 있다."
      ]
    },
    {
      "cell_type": "code",
      "metadata": {
        "id": "nDqhmuMl98ce",
        "colab_type": "code",
        "colab": {
          "base_uri": "https://localhost:8080/",
          "height": 34
        },
        "outputId": "79063181-42f4-4f0a-8be6-877754a4e0a1"
      },
      "source": [
        "# 6-37 : 함수 import 예 1\n",
        "import time\n",
        "\n",
        "# time()모듈을 사용하여 현재 시간을 now_time에 대입합니다.\n",
        "now_time = time.time()\n",
        "# print()를 이용하여 출력합니다.\n",
        "print(now_time)"
      ],
      "execution_count": 46,
      "outputs": [
        {
          "output_type": "stream",
          "text": [
            "1587224961.7658617\n"
          ],
          "name": "stdout"
        }
      ]
    },
    {
      "cell_type": "code",
      "metadata": {
        "id": "WV2UW-gr-uGL",
        "colab_type": "code",
        "colab": {
          "base_uri": "https://localhost:8080/",
          "height": 34
        },
        "outputId": "85e19476-4116-43a3-d309-28d14a8848f3"
      },
      "source": [
        "# from 패키지명 import 모듈명\n",
        "# 위 구문으로 모듈을 import하면 패키지명을 생략하고, 모듈명만으로 모듈을 사용할 수 있다.\n",
        "from time import time\n",
        "now_time = time()     # 패키지명 time을 생략할수있다.\n",
        "print(now_time)"
      ],
      "execution_count": 47,
      "outputs": [
        {
          "output_type": "stream",
          "text": [
            "1587225130.6580048\n"
          ],
          "name": "stdout"
        }
      ]
    },
    {
      "cell_type": "markdown",
      "metadata": {
        "id": "lhRV233X_eXK",
        "colab_type": "text"
      },
      "source": [
        "#### Python Package에는 PyPI (Python Package Index)라는 패키지 관리 시스템이 있으며, 그곳에 공개되어 있는 패키지를 자신의 컴퓨터에 설치해서 사용할 수 있다.\n",
        "PyPI에서 패키지를 다운로드 하는 관리 도구로 pip가 잘 알려져 있다.\n",
        "명령 프롬프트/터미널 에서 *pip install 패키지명* 을 입력하여 설치할 수 있다. "
      ]
    },
    {
      "cell_type": "markdown",
      "metadata": {
        "id": "QyT0b0p1BmQ9",
        "colab_type": "text"
      },
      "source": [
        ""
      ]
    },
    {
      "cell_type": "code",
      "metadata": {
        "id": "MMGq8MA_AH0G",
        "colab_type": "code",
        "colab": {
          "base_uri": "https://localhost:8080/",
          "height": 34
        },
        "outputId": "2e8becd7-811f-4a93-c12c-a3d9c3c1ec67"
      },
      "source": [
        "# 6-39\n",
        "# from을 이용하여 time모듈을 import하세요.\n",
        "from time import time\n",
        "# now_time에 현재 시간을 대입하세요\n",
        "now_time = time()\n",
        "\n",
        "print(now_time)"
      ],
      "execution_count": 48,
      "outputs": [
        {
          "output_type": "stream",
          "text": [
            "1587225695.153817\n"
          ],
          "name": "stdout"
        }
      ]
    },
    {
      "cell_type": "markdown",
      "metadata": {
        "id": "qnwRsBoWBncc",
        "colab_type": "text"
      },
      "source": [
        "## 6.3. 클래스\n",
        "### 6.3.1. 객체\n",
        "   - 파이썬은 객체 지향 언어이기 때문에 지금까지 취급한 문자열, 배열 등은 모두 객체(오브젝트)이다. 객체 - 물건, 물체, 변수(멤버)와 함수(메서드)가 뭉쳐서 정리된 물건.\n",
        "   - 리스트형 객체는 배열처럼 사용되지만, 잘 보면, 상황에 따라 행동을 바꾼다."
      ]
    },
    {
      "cell_type": "code",
      "metadata": {
        "id": "ZbPQwWW_CIyJ",
        "colab_type": "code",
        "colab": {
          "base_uri": "https://localhost:8080/",
          "height": 34
        },
        "outputId": "21291ac1-c0fb-44b3-ef4f-a259bc765e7c"
      },
      "source": [
        "# 6-41 클래스의 예\n",
        "mylist = [1,10,2,20]\n",
        "# 저장한 값에 정렬을 수행할 수 있다.\n",
        "mylist.sort()\n",
        "# (내장)함수로 전달하여, 처리 결과를 표시할 수 있다.\n",
        "print(mylist)"
      ],
      "execution_count": 50,
      "outputs": [
        {
          "output_type": "stream",
          "text": [
            "[1, 2, 10, 20]\n"
          ],
          "name": "stdout"
        }
      ]
    },
    {
      "cell_type": "code",
      "metadata": {
        "id": "hNdMhGjdCwuV",
        "colab_type": "code",
        "colab": {}
      },
      "source": [
        ""
      ],
      "execution_count": 0,
      "outputs": []
    },
    {
      "cell_type": "markdown",
      "metadata": {
        "id": "02U4YX6qDkil",
        "colab_type": "text"
      },
      "source": [
        "mylist가 내부에 변수와 함수를 가지고 있으며, 상황에 따라 변수로도, 함수(메서드이용)로도 쓰일 수 있다.\n",
        "객체를 사용하면, 프로그래머는 함수나 변수를 의식하고 관리할 필요가 X\n",
        "이미 존재하는 객체를 이용하기만 하는게 아니라, 스스로 새로운 객체를 만들거나 기존 객체를 수정할 경우, 객체 지향의 개념과 용어를 알아두면 좋다. 생소한 단어가 많지만, 이러한 단어는 Java, Ruby같은 다른 객체지향 언어에서도 공통으로 사용되므로, 널리 응용할 수 있다.\n",
        "   - 클래스(정의) : ex. 자동차 설계도\n",
        "   - 생성자(함수) : ex. 자동차 공장\n",
        "   - 멤버(변수) : ex. 휘발유의 양. 현재 속도 등\n",
        "   - 메서드(함수) : ex. 브레이크, 엑셀, 핸들 등\n",
        "   - 인스턴스(실체) : ex. 공장에서 만들어진 실제 자동차\n",
        "클래스를 설계할 때, 다음 세 가지를 정의한다.\n",
        "(1) 생성자(constructor)\n",
        "> 클래스를 만들 때 자동으로 호출되는 특수 함수, 파이썬에서는 이름을 __init__으로 해야 한다. 첫 번째 인수로 객체 자신을 의미하는 self라는 특수한 변수를 갖게 된다.\n",
        "(2) 메서드(method)\n",
        ">클래스가 갖는 처리, 즉. 함수이다. 인스턴스를 조작하는 인스턴스 메서드, 클래스 전체를 처리하는 클래스 메서드, 인스턴스 없이도 실행할 수 있는 정적 메서드의 세 종류가 존재한다.\n",
        "(3) 멤버(member)\n",
        "> 클래스가 가지는 값. 즉 변수. 다른 객체 지향 언어에서는 프라이빗(private, 클래스 외부에서 접근 불가)과 퍼블릭(public, 클래스 외부에서 접근 가능) 두 종류의 멤버가 마련되어 있지만, 파이썬에서는 모두 퍼블릭 멤버로 처리된다. 대신 파이썬에서는 멤버에 대한 접근(access)을 프로퍼티(property)로 제한할 수 있다."
      ]
    },
    {
      "cell_type": "code",
      "metadata": {
        "id": "fml4d3nAGpyJ",
        "colab_type": "code",
        "colab": {}
      },
      "source": [
        ""
      ],
      "execution_count": 0,
      "outputs": []
    },
    {
      "cell_type": "markdown",
      "metadata": {
        "id": "wclyjaiBGqfZ",
        "colab_type": "text"
      },
      "source": [
        "### 6.3.2. 클래스(멤버와 생성자)\n",
        "   - 클래스 : 객체가 각각 어떤 값을 가질지, 어떻게 처리할지 결정하기 위해 객체의 구조를 결정하는 설계도\n",
        "   - list 객체는 list 클래스에 설계된 대로 처리할 수 있다."
      ]
    },
    {
      "cell_type": "code",
      "metadata": {
        "id": "w5yFQRR8MTZf",
        "colab_type": "code",
        "colab": {}
      },
      "source": [
        "# 6-42 클래스의 예1\n",
        "# MyProduct 클래스를 정의합니다.\n",
        "class MyProduct:\n",
        "\n",
        "  # 생성자를 정의합니다.\n",
        "  def __init__(self, name, price):    # 클래스를 호출할 때 작동하는 매서드를 생성자라한다. __init__()로 정의하며, self를 생성자의 첫 번째 인수로 지정해야 한다.\n",
        "    # 인수를 멤버에 저장합니다. 클래스 내, 멤버는 self.price처럼, 변수명 앞에 self.를 붙입니다.\n",
        "    self.name = name\n",
        "    self.price = price\n",
        "    self.stock = 0\n",
        "    self.sales = 0\n",
        "# 정의된 클래스는 설계도일 뿐이므로, 객체를 만들려면, 클래스를 호출해야 한다.\n",
        "# 6-43\n",
        "# MyProduct를 호출하여 객체 product1을 만듭니다.\n",
        "product1 = MyProduct(\"cake\",500)\n",
        "# MyProduct가 호출되면, name=\"cake\",price=500으로 생성자가 작동하고, 각 인수에 의해 멤버 name, price가 초기화된다."
      ],
      "execution_count": 0,
      "outputs": []
    },
    {
      "cell_type": "code",
      "metadata": {
        "id": "GqlgPmfMPTDP",
        "colab_type": "code",
        "colab": {
          "base_uri": "https://localhost:8080/",
          "height": 34
        },
        "outputId": "390c10a3-7eca-4b7c-da4f-6145598fa806"
      },
      "source": [
        "# 6-44 \n",
        "# 클래스 정의\n",
        "class MyProduct:\n",
        "  def __init__(self, name, price, stock):\n",
        "    self.name = name\n",
        "    self.price = price\n",
        "    self.stock = stock\n",
        "\n",
        "product1 = MyProduct(\"cake\",500,20)\n",
        "print(product1.stock)"
      ],
      "execution_count": 56,
      "outputs": [
        {
          "output_type": "stream",
          "text": [
            "20\n"
          ],
          "name": "stdout"
        }
      ]
    },
    {
      "cell_type": "markdown",
      "metadata": {
        "id": "KX7kkVgIP8wL",
        "colab_type": "text"
      },
      "source": [
        "### 6.3.3. 클래스(메서드)"
      ]
    },
    {
      "cell_type": "code",
      "metadata": {
        "id": "sZ59c_O9QDRn",
        "colab_type": "code",
        "colab": {}
      },
      "source": [
        "# 6-46 클래스(메서드)의 예\n",
        "# MyProduct 클래스를 정의합니다.\n",
        "class MyProduct:\n",
        "  def __init__(self,name,price,stock):    # 생성자를 정의\n",
        "    self.name=name            # 인수를 멤버에 저장\n",
        "    self.price=price\n",
        "    self.stock=stock\n",
        "    self.sales=0\n",
        "  # 구매 매서드\n",
        "  def buy_up(self,n):\n",
        "    self.stock += n\n",
        "  # 판매 메서드\n",
        "  def sell(self,n):\n",
        "    self.stock -= n\n",
        "    self.sales += n*self.price\n",
        "  # 개요 메서드\n",
        "  def summary(self):\n",
        "    message = \"called summary().\\n name: \"+self.name+\\\n",
        "    \"\\n price: \"+str(self.price)+\\\n",
        "    \"\\n stock: \"+str(self.stock)+\\\n",
        "    \"\\n sales: \"+str(self.sales)\n",
        "    print(message)"
      ],
      "execution_count": 0,
      "outputs": []
    },
    {
      "cell_type": "code",
      "metadata": {
        "id": "lCTcftXwSot2",
        "colab_type": "code",
        "colab": {
          "base_uri": "https://localhost:8080/",
          "height": 131
        },
        "outputId": "0a8ec540-e82a-40ef-d06f-33ce06ae0750"
      },
      "source": [
        "# 6-47\n",
        "# MyProduct 클래스를 정의합니다.\n",
        "class MyProduct:\n",
        "  def __init__(self,name,price,stock):\n",
        "    self.name=name\n",
        "    self.price=price\n",
        "    self.stock=stock\n",
        "    self.sales=0\n",
        "    # 요약 메서드\n",
        "    # 문자열과 '자신의 메서드'나 '자신의 멤버'를 연결하여 출력합니다.\n",
        "  def summary(self):\n",
        "    message = \"called summary().\" +\\\n",
        "    \"\\n name: \" + self.get_name() +\\\n",
        "    \"\\n price: \" + str(self.price) +\\\n",
        "    \"\\n stock: \" + str(self.stock) +\\\n",
        "    \"\\n sales: \" + str(self.sales)\n",
        "    print(message)\n",
        "  # name을 반환하는 get_name()을 작성하세요 : name의 값을 취득해서 반환 : get_name()\n",
        "  def get_name(self):\n",
        "    return = self.name\n",
        "\n",
        "  # 인수만큼 price를 줄이는 discount()를 작성하세요 : price를 n만큼 낮춤 : discount(n)\n",
        "  # product_2의 price를 5000만큼 낮추고, summary()메서드로 요약 정보를 출력하세요.\n",
        "  def discount(self,n):\n",
        "    self.price -= n\n",
        "\n",
        "product_2 = MyProduct(\"phone\",30000,100)  # name,price,stock\n",
        "product_2.discount(5000)\n",
        "product_2.summary()\n",
        "\n",
        "# 앞 절의 MyProduct를 상속하여, 10%의 소비세를 적용한 MyProductSalesTax를 새로 만들어 보자\n",
        "# 6-49\n",
        "# MyProduct 클래스를 상속하는 MyProductSalesTax를 정의\n",
        "class MyProductSalesTax(MyProduct):\n",
        "  # MyProductSalesTax는 생성자의 네 번째 인수가 소비세율을 받는다\n",
        "  def __init__(self,name,price,stock,tax_rate):\n",
        "    # super()를 사용하면 부모 클래스의 메서드 호출가능\n",
        "    # 여기서는 MyProduct 클래스의 생성자를 호출\n",
        "    super.__init__(name,price,stock)\n",
        "    self.tax_rate = tax_rate\n",
        "  # MyProductSalesTax에서 MyOroduct의 get_name을 재정의(오버라이드)한다.\n",
        "  def get_name(self):\n",
        "    return slef.name +\"소비세 포함\"\n",
        "  # MyProductSalesTax에서 get_price_with_tax를 새로 구현한다.\n",
        "  def get_price_with_tax(self):\n",
        "    return int(self.price * (1+self.tax_rate))\n",
        "product_3 = MyProductSalesTax(\"phone\",30000,100,0.1)\n",
        "print(product_3.get_name())\n",
        "print(product_3.get_price_with_tax())\n",
        "# MyProductSalesTax클래스에는 summary()캐서드가 정의되어 있지 않지만\n",
        "# MyProduct를 상속하고 있기 때문에 MyProduct의 summay()메서드를 호출할 수 있다.\n",
        "product_3.summary()"
      ],
      "execution_count": 1,
      "outputs": [
        {
          "output_type": "error",
          "ename": "SyntaxError",
          "evalue": "ignored",
          "traceback": [
            "\u001b[0;36m  File \u001b[0;32m\"<ipython-input-1-43158098aaeb>\"\u001b[0;36m, line \u001b[0;32m14\u001b[0m\n\u001b[0;31m    return = self.name\u001b[0m\n\u001b[0m           ^\u001b[0m\n\u001b[0;31mSyntaxError\u001b[0m\u001b[0;31m:\u001b[0m invalid syntax\n"
          ]
        }
      ]
    },
    {
      "cell_type": "markdown",
      "metadata": {
        "id": "7nLs96k81Xa0",
        "colab_type": "text"
      },
      "source": [
        "### 6.3.4. 클래스 (상속, 오버라이드, 슈퍼)\n",
        "   - 다른 사람이 만든 클래스에 기능을 추가하고 싶을 때, 유사 프로그램 추가 없이, 그 클래스를 사용 중인 다른 프로그램에 영향을 주지 않게 하기 위해, 객체지향 언어는 상속(inheritance)라는 구조를 제공한다.\n",
        "   - 상속(inheritance) : 기존 클래스를 바탕으로 메서드나 멤버를 추가 변경하거나 일부만 변경하여 새로운 클래스를 만들 수 있다.\n",
        "   - 바탕이 되는 클래스는 부모 클래스, 슈퍼 클래스, 기저 클래스\n",
        "   - 새로 만든 클래스는 자식 클래스, 서브 클래스, 파생 클래스 등으로 부른다.\n",
        "   - 자식 클래서는 다음과 같은 일이 가능하다.\n",
        "      * 부모 클래스의 메서드, 멤버를 그대로 사용가능\n",
        "      * 부모 클래스의 메서드, 멤버를 덮어쓸수있음(오버라이드)\n",
        "      * 자기 자신의 메서드와 멤버를 자유롭게 추가 가능\n",
        "      * 자식 클래스에서 부모클래스의 메서드, 멤버를 호출 가능(슈퍼)\n",
        "    "
      ]
    },
    {
      "cell_type": "code",
      "metadata": {
        "id": "z5fZLkuu4l4j",
        "colab_type": "code",
        "colab": {
          "base_uri": "https://localhost:8080/",
          "height": 34
        },
        "outputId": "d2a7c135-f49b-48ce-c154-1b86879ee2d9"
      },
      "source": [
        "print(\"6-51\")"
      ],
      "execution_count": 3,
      "outputs": [
        {
          "output_type": "stream",
          "text": [
            "6-51\n"
          ],
          "name": "stdout"
        }
      ]
    },
    {
      "cell_type": "code",
      "metadata": {
        "id": "NLwF8zIO8SF0",
        "colab_type": "code",
        "colab": {
          "base_uri": "https://localhost:8080/",
          "height": 138
        },
        "outputId": "1bc2ec53-59d9-496f-b84c-1985d474d9a3"
      },
      "source": [
        "class MyProduct:\n",
        "  def __init__(self,name,price,stock):\n",
        "    self.name = name\n",
        "    self.price = price\n",
        "    self.stock = stock\n",
        "    self.sales = 0\n",
        "  def summary(self):\n",
        "    message = \"called summary(). \\n name: \"+self.get_name() +\\\n",
        "    \"\\n price: \"+ str(self.price) +\\\n",
        "    \"\\n stock: \"+ str(self.stock) +\\\n",
        "    \"\\n sale: \" + str(self.sales)\n",
        "    print(message)\n",
        "  def get_name(self):\n",
        "    return self.name\n",
        "  def discount(self,n):\n",
        "    self.price -= next\n",
        "\n",
        "class MyProductSalesTax(MyProduct):\n",
        "  def __init__(self,name,price,stock,tax_rate):\n",
        "    super().__init__(name,price,stock)\n",
        "    self.tax_rate = tax_rate\n",
        "  def get_name(self):\n",
        "    return self.name + \" 소비세 포함\"\n",
        "  def get_price_with_tax(self):\n",
        "    return int(self.price * (1 + self.tax_rate))\n",
        "  \n",
        "product_3 = MyProductSalesTax(\"phone\",30000,100,0.1)\n",
        "print(product_3.get_name())\n",
        "print(product_3.get_price_with_tax())\n",
        "product_3.summary()"
      ],
      "execution_count": 14,
      "outputs": [
        {
          "output_type": "stream",
          "text": [
            "phone 소비세 포함\n",
            "33000\n",
            "called summary(). \n",
            " name: phone 소비세 포함\n",
            " price: 30000\n",
            " stock: 100\n",
            " sale: 0\n"
          ],
          "name": "stdout"
        }
      ]
    },
    {
      "cell_type": "markdown",
      "metadata": {
        "id": "HSs_P2P0-Jrw",
        "colab_type": "text"
      },
      "source": [
        ""
      ]
    },
    {
      "cell_type": "code",
      "metadata": {
        "id": "xrwFICP88n8t",
        "colab_type": "code",
        "colab": {
          "base_uri": "https://localhost:8080/",
          "height": 138
        },
        "outputId": "aba81998-e0a2-47ee-db6d-07eeeb6b3f24"
      },
      "source": [
        "class MyProduct:\n",
        "  def __init__(self,name,price,stock):\n",
        "    self.name = name\n",
        "    self.price = price\n",
        "    self.stock = stock\n",
        "    self.sales = 0\n",
        "  # MyProduct 클래스의 summary()메서드를 재정의하여 summary가 소비세를 포함한 가격을 출력하도록 수정\n",
        "  def summary(self):\n",
        "    message = \"called summary(). \\n name: \"+self.get_name() +\\\n",
        "    \"\\n price: \"+ str(self.get_price_with_tax()+0) +\\\n",
        "    \"\\n stock: \"+ str(self.stock) +\\\n",
        "    \"\\n sale: \" + str(self.sales)\n",
        "    print(message)\n",
        "  def get_name(self):\n",
        "    return self.name\n",
        "  def discount(self,n):\n",
        "    self.price -= next\n",
        "\n",
        "class MyProductSalesTax(MyProduct):\n",
        "  def __init__(self,name,price,stock,tax_rate):\n",
        "    super().__init__(name,price,stock)\n",
        "    self.tax_rate = tax_rate\n",
        "  def get_name(self):\n",
        "    return self.name + \" 소비세 포함\"\n",
        "  def get_price_with_tax(self):\n",
        "    return int(self.price * (1 + self.tax_rate))\n",
        "  \n",
        "  \n",
        "product_3 = MyProductSalesTax(\"phone\",30000,100,0.1)\n",
        "print(product_3.get_name())\n",
        "print(product_3.get_price_with_tax())\n",
        "product_3.summary()"
      ],
      "execution_count": 20,
      "outputs": [
        {
          "output_type": "stream",
          "text": [
            "phone 소비세 포함\n",
            "33000\n",
            "called summary(). \n",
            " name: phone 소비세 포함\n",
            " price: 33000\n",
            " stock: 100\n",
            " sale: 0\n"
          ],
          "name": "stdout"
        }
      ]
    },
    {
      "cell_type": "code",
      "metadata": {
        "id": "JqOSf20OAgVx",
        "colab_type": "code",
        "colab": {}
      },
      "source": [
        ""
      ],
      "execution_count": 0,
      "outputs": []
    },
    {
      "cell_type": "markdown",
      "metadata": {
        "id": "lECFXpSpA29I",
        "colab_type": "text"
      },
      "source": [
        "## 6.4. 문자열 포맷 지정\n",
        "   - 문자열형 메서드 (format)에서는 format() 메서드를 사용하여 문자열의 포맷(형식)을 지정하였음\n",
        "   - 파이썬에서 포맷을 지정하는 다음 여러 방법들\n",
        "      * %d : 정수로 표시\n",
        "      * %f : 소수로 표시\n",
        "      * %.2f : 소수점 이하 두 자리까지 표시\n",
        "      * %.s : 문자열로 표시"
      ]
    },
    {
      "cell_type": "code",
      "metadata": {
        "id": "O5k6W4D6BSz8",
        "colab_type": "code",
        "colab": {
          "base_uri": "https://localhost:8080/",
          "height": 51
        },
        "outputId": "b5329b4c-2147-4862-c604-b532352ec333"
      },
      "source": [
        "# 6-53 문자열형 지정 예\n",
        "pai = 3.141592\n",
        "print(\"원주율은 %f\" %pai)\n",
        "print(\"원주율은 %.2f\" %pai)"
      ],
      "execution_count": 21,
      "outputs": [
        {
          "output_type": "stream",
          "text": [
            "원주율은 3.141592\n",
            "원주율은 3.14\n"
          ],
          "name": "stdout"
        }
      ]
    },
    {
      "cell_type": "code",
      "metadata": {
        "id": "PoB_JlXjBmEx",
        "colab_type": "code",
        "colab": {
          "base_uri": "https://localhost:8080/",
          "height": 34
        },
        "outputId": "7289a11c-aaa2-44e4-b888-15fe9a3b5c5c"
      },
      "source": [
        "# 6-54 : bmi는 **입니다 라고 출력하세요. bmi는 소수점 네 째 자기까지\n",
        "def bmi(height, weight):\n",
        "  return weight / (height**2)\n",
        "  \n",
        "print(\"bmi는 %.4f입니다.\" %bmi(1.56,45))"
      ],
      "execution_count": 24,
      "outputs": [
        {
          "output_type": "stream",
          "text": [
            "bmi는 18.4911입니다.\n"
          ],
          "name": "stdout"
        }
      ]
    },
    {
      "cell_type": "code",
      "metadata": {
        "id": "WDP54gSbCMIY",
        "colab_type": "code",
        "colab": {
          "base_uri": "https://localhost:8080/",
          "height": 69
        },
        "outputId": "109cc91a-8f4f-4d41-d7e6-70ce40476cd5"
      },
      "source": [
        "# 6-56 check_character를 작성하세요\n",
        "def check_character(object_val, character):\n",
        "  return object_val.count(character)\n",
        " # print(object_val, ret_n)\n",
        "\n",
        "myList = [1,2,4,5,5,3]\n",
        "myTest = [\"a\",\"b\",\"c\",\"d\",\"d\",\"e\",\"d\",\"f\"]\n",
        "print(check_character(myList,5))\n",
        "print(myList.count(5))\n",
        "print(check_character(myTest,\"d\"))"
      ],
      "execution_count": 34,
      "outputs": [
        {
          "output_type": "stream",
          "text": [
            "2\n",
            "2\n",
            "3\n"
          ],
          "name": "stdout"
        }
      ]
    },
    {
      "cell_type": "code",
      "metadata": {
        "id": "2lbGMHAEPjsg",
        "colab_type": "code",
        "colab": {
          "base_uri": "https://localhost:8080/",
          "height": 34
        },
        "outputId": "4d5c9a15-bd93-45c5-92eb-13ae837689be"
      },
      "source": [
        "# Using \"Binary Search Algorithm\"\n",
        "# 6-58\n",
        "# 함수 binary_serarch의 내용을 작성하세요.\n",
        "def binary_search(numbers, target_number):\n",
        "  # 데이터의 중앙값을 구한다.\n",
        "  # 중앙값이 찾는 값과 일치하는 경우 종료\n",
        "  # 찾는 값이 중앙값보다 크면, 탐색 범위의 최소값을 중앙값에 1을 더한 값으로 변경하고,\n",
        "  # 찾는값이 중앙값보다 작으면, 탐색 범위의 최대값을 중앙값-1로 변경한다.\n",
        "  # numbers.sort()\n",
        "  minval = 0\n",
        "  maxval = len(numbers)\n",
        "\n",
        "  while minval != maxval:\n",
        "\n",
        "    # midvalue of index on list\n",
        "    midval = (minval + maxval) // 2     # index\n",
        "\n",
        "    if numbers[midval] == target_number :\n",
        "      # format() 매서드의 사용법 \n",
        "      #print(target_number+\"은(는)\"+find_idx+\"번째에 있습니다.\")\n",
        "      print(\"{}은(는) {}번째에 있습니다.\".format(target_number,midval))\n",
        "      break\n",
        "\n",
        "    elif numbers[midval] < target_number : # 중앙값보다 찾는수가 클 경우,\n",
        "      minval = midval + 1   # 인덱스의 최소값을 중앙값+1로 설정\n",
        "    else:                   # 중앙값보다 찾는 수가 작을 경우,\n",
        "      maxval = midval - 1   # 인덱스 최대값을 중앙값-1로 정정\n",
        "\n",
        "\n",
        "  \n",
        "# 검색 대상 데이터\n",
        "numbers = [1,2,3,4,5,6,7,8,9,10,11,12,13]\n",
        "# 찾을 값\n",
        "target_number = 11\n",
        "# 바이너리 검색 실행\n",
        "binary_search(numbers, target_number)\n"
      ],
      "execution_count": 5,
      "outputs": [
        {
          "output_type": "stream",
          "text": [
            "11은(는) 10번째에 있습니다.\n"
          ],
          "name": "stdout"
        }
      ]
    }
  ]
}