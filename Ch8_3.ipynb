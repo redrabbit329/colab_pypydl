{
  "nbformat": 4,
  "nbformat_minor": 0,
  "metadata": {
    "colab": {
      "name": "Ch8-3",
      "provenance": [],
      "collapsed_sections": [],
      "authorship_tag": "ABX9TyPbjxmWE/Ln0aw+ZNZCEfqD",
      "include_colab_link": true
    },
    "kernelspec": {
      "name": "python3",
      "display_name": "Python 3"
    }
  },
  "cells": [
    {
      "cell_type": "markdown",
      "metadata": {
        "id": "view-in-github",
        "colab_type": "text"
      },
      "source": [
        "<a href=\"https://colab.research.google.com/github/redrabbit329/colab_pypydl/blob/master/Ch8_3.ipynb\" target=\"_parent\"><img src=\"https://colab.research.google.com/assets/colab-badge.svg\" alt=\"Open In Colab\"/></a>"
      ]
    },
    {
      "cell_type": "markdown",
      "metadata": {
        "id": "UD2kXqDr6Eav",
        "colab_type": "text"
      },
      "source": [
        "### 8.2.4. 요소 추가 \n",
        "   - pd.Series에 요소를 추가하려면, 추가되는 요소도 Series여야 한다\n",
        "   - 추가할 요소는 series로 변환한 뒤, Series형의 append()로 전달하여 추가한다"
      ]
    },
    {
      "cell_type": "code",
      "metadata": {
        "id": "NWTg6CLx6aRd",
        "colab_type": "code",
        "outputId": "a96b86cb-c268-48e7-eb22-46d66c090060",
        "colab": {
          "base_uri": "https://localhost:8080/",
          "height": 437
        }
      },
      "source": [
        "# 8-14\n",
        "import pandas as pd\n",
        "\n",
        "fruits = {\"banana\": 3, \"orange\":2}\n",
        "print(type(fruits))\n",
        "series = pd.Series(fruits)\n",
        "print(type(series))\n",
        "\n",
        "# 특정 판다스 시리즈 선언 = pandas.Series([data요소],index=[index요소,str일 경우\"\"로 묶음])\n",
        "test = pd.Series([3],index=[\"grape\"])\n",
        "print(type(test))\n",
        "\n",
        "# 요소 추가 (pandas series이름).append()\n",
        "test = test.append(series)\n",
        "print(\"\\ntest : \\n\",test)\n",
        "\n",
        "series = series.append(pd.Series([3],index=[\"grape\"]))\n",
        "print(\"\\nseries : \\n\",series)\n",
        "\n",
        "# index = \"pineapple\", data = 12\n",
        "series = series.append(pd.Series([12], index=[\"pineapple\"]))\n",
        "print(\"\\nseries\\n:\",series)"
      ],
      "execution_count": 0,
      "outputs": [
        {
          "output_type": "stream",
          "text": [
            "<class 'dict'>\n",
            "<class 'pandas.core.series.Series'>\n",
            "<class 'pandas.core.series.Series'>\n",
            "\n",
            "test : \n",
            " grape     3\n",
            "banana    3\n",
            "orange    2\n",
            "dtype: int64\n",
            "\n",
            "series : \n",
            " banana    3\n",
            "orange    2\n",
            "grape     3\n",
            "dtype: int64\n",
            "\n",
            "series\n",
            ": banana        3\n",
            "orange        2\n",
            "grape         3\n",
            "pineapple    12\n",
            "dtype: int64\n"
          ],
          "name": "stdout"
        }
      ]
    },
    {
      "cell_type": "markdown",
      "metadata": {
        "id": "-mdev1199Jda",
        "colab_type": "text"
      },
      "source": [
        "### 8.2.3. 요소 삭제\n",
        "   - Series의 인덱스 참조를 이용하여 요소 삭제\n",
        "   - 변수 series에서, series.drop(\"인덱스\") 로 요소 삭제"
      ]
    },
    {
      "cell_type": "code",
      "metadata": {
        "id": "H1ZO5vmU9mdj",
        "colab_type": "code",
        "outputId": "033e86d2-eb24-4d99-aedc-5d3ef038e70b",
        "colab": {
          "base_uri": "https://localhost:8080/",
          "height": 207
        }
      },
      "source": [
        "# 8-17 \n",
        "import pandas as pd\n",
        "\n",
        "# index와 data값을 갖는 series list를 생성한다.\n",
        "index = [\"apple\",\"orange\",\"banana\",\"strawberry\",\"kiwifruit\"]\n",
        "data = [10, 5, 8, 12, 3]\n",
        "\n",
        "series = pd.Series(data,index=index)\n",
        "print(\"original series :\\t\",series)\n",
        "\n",
        "# 요소가 strawberry인 항목을 삭제\n",
        "series = series.drop(\"strawberry\")\n",
        "print(\"dropped series :\\t\",series)"
      ],
      "execution_count": 0,
      "outputs": [
        {
          "output_type": "stream",
          "text": [
            "original series :\t apple         10\n",
            "orange         5\n",
            "banana         8\n",
            "strawberry    12\n",
            "kiwifruit      3\n",
            "dtype: int64\n",
            "dropped series :\t apple        10\n",
            "orange        5\n",
            "banana        8\n",
            "kiwifruit     3\n",
            "dtype: int64\n"
          ],
          "name": "stdout"
        }
      ]
    },
    {
      "cell_type": "markdown",
      "metadata": {
        "id": "hCmYz31V-p-H",
        "colab_type": "text"
      },
      "source": [
        "### 8.2.6.필터링\n",
        "   - Series형 데이터에서 조건과 일치하는 요소를 꺼내고 싶을 때, pandas에서는 bool형의 시퀀스를 지정해서 True인 것만 추출할 수 있다."
      ]
    },
    {
      "cell_type": "code",
      "metadata": {
        "id": "5G2Yw8DL-91N",
        "colab_type": "code",
        "outputId": "0340783e-a048-4a9c-a953-637c71011250",
        "colab": {
          "base_uri": "https://localhost:8080/",
          "height": 277
        }
      },
      "source": [
        "# 8-18 필터링의 예\n",
        "index = [\"apple\",\"orange\",\"banana\",\"strawberry\",\"kiwifruit\"]\n",
        "data = [10, 5, 8, 12, 3]\n",
        "series = pd.Series(data, index=index)\n",
        "\n",
        "# filtering할 조건을 불리언형으로 저장\n",
        "conditions = [True, True, False, False, False]\n",
        "print(series[conditions])\n",
        "\n",
        "# 8-20\n",
        "print(series)\n",
        "print()\n",
        "print(series[series >= 5])"
      ],
      "execution_count": 0,
      "outputs": [
        {
          "output_type": "stream",
          "text": [
            "apple     10\n",
            "orange     5\n",
            "dtype: int64\n",
            "apple         10\n",
            "orange         5\n",
            "banana         8\n",
            "strawberry    12\n",
            "kiwifruit      3\n",
            "dtype: int64\n",
            "\n",
            "apple         10\n",
            "orange         5\n",
            "banana         8\n",
            "strawberry    12\n",
            "dtype: int64\n"
          ],
          "name": "stdout"
        }
      ]
    },
    {
      "cell_type": "markdown",
      "metadata": {
        "id": "vaVmJV92CaYV",
        "colab_type": "text"
      },
      "source": [
        "bool형의 시퀀스를 작성하여 필터링을 했지만, Pandas에서는 Series또는 DataFrame을 사용하여 조건식을 만들어도 bool형의 시퀀스를 획득할 수 있다.\n",
        "예를 들어 Series변수 series에 대해, series[series >= 5] 로 값이 5 이상인 요소만 가지는 Series를 취득할 수 있다.\n",
        "또한, series[][]처럼, []를 여러 개 덧붙여 복수의 조건을 추가할 수 있다."
      ]
    },
    {
      "cell_type": "code",
      "metadata": {
        "id": "lhtml1s3DEcH",
        "colab_type": "code",
        "outputId": "4968e8c0-f331-47e5-a1bb-e7ff7095acb3",
        "colab": {
          "base_uri": "https://localhost:8080/",
          "height": 69
        }
      },
      "source": [
        "# 8-21\n",
        "import pandas as pd\n",
        "\n",
        "index = [\"apple\",\"orange\",\"banana\",\"strawberry\",\"kiwifruit\"]\n",
        "data = [10,5,8,12,3]\n",
        "series = pd.Series(data,index=index)\n",
        "\n",
        "# series의 요소 중에서 5이상 10미만의 요소를 포함하는 Series를 만들어 series에 다시 대입\n",
        "series = series[series >=5][series <10]\n",
        "print(series)"
      ],
      "execution_count": 0,
      "outputs": [
        {
          "output_type": "stream",
          "text": [
            "orange    5\n",
            "banana    8\n",
            "dtype: int64\n"
          ],
          "name": "stdout"
        }
      ]
    },
    {
      "cell_type": "markdown",
      "metadata": {
        "id": "rYN43tA5EV5T",
        "colab_type": "text"
      },
      "source": [
        "### 8.2.7. 정렬\n",
        "   - Pandas에는 index정렬과 data정렬이 있다\n",
        "   - 인덱스 정렬 : (pandas.Series형 변수이름).sort_index()로,\n",
        "   - 데이터 정렬 : (pandas.Series형 변수이름).sort_values()로 정렬한다.\n",
        "   - 인수 미 지정시, 오름차순으로 정렬된다.\n",
        "   - 인수에 ascending=False를 전달하면 내림차순으로 정렬된다."
      ]
    },
    {
      "cell_type": "code",
      "metadata": {
        "id": "nrrWWCawFDnm",
        "colab_type": "code",
        "outputId": "d2eb6b2d-a566-4579-a5b7-156a38deec42",
        "colab": {
          "base_uri": "https://localhost:8080/",
          "height": 242
        }
      },
      "source": [
        "# 8-23\n",
        "import pandas as pd\n",
        "\n",
        "index = [\"apple\",\"orange\",\"banana\",\"strawberry\",\"kiwifruit\"]\n",
        "data = [10,5,8,12,3]\n",
        "series = pd.Series(data, index=index)\n",
        "\n",
        "# series의 인덱스를 알파벳순으로 정렬해서 items1에 대입\n",
        "items1 = series.sort_index()\n",
        "print(items1)\n",
        "print()\n",
        "# series의 데이터값을 오름차순으로 정렬해서 items2에 대입\n",
        "items2 = series.sort_values(ascending=False)\n",
        "print(items2)"
      ],
      "execution_count": 0,
      "outputs": [
        {
          "output_type": "stream",
          "text": [
            "apple         10\n",
            "banana         8\n",
            "kiwifruit      3\n",
            "orange         5\n",
            "strawberry    12\n",
            "dtype: int64\n",
            "\n",
            "strawberry    12\n",
            "apple         10\n",
            "banana         8\n",
            "orange         5\n",
            "kiwifruit      3\n",
            "dtype: int64\n"
          ],
          "name": "stdout"
        }
      ]
    },
    {
      "cell_type": "markdown",
      "metadata": {
        "id": "-MRL_fwSF9fd",
        "colab_type": "text"
      },
      "source": [
        "## 8.3 DataFrame\n",
        "### 8.3.1. DataFrame 생성\n",
        "   - DataFrame은 Series를 여러 개 묶은 것 같은 2차원 데이터 구조를 하고 있음\n",
        "   - DataFrame은 pd.DataFrame()에 Series를 전달하여 생성\n",
        "   - 행에는 0부터 오름차순으로 번호가 붙어 있다.\n",
        "   - DataFrame의 값으로 list를 포함, 딕셔너리형을 넣어도 되며, 해당리스트열이 길이는 같아야함"
      ]
    },
    {
      "cell_type": "code",
      "metadata": {
        "id": "cGYKb5-jGg46",
        "colab_type": "code",
        "outputId": "af851b03-4c2b-4867-d8ff-762640aa1b98",
        "colab": {
          "base_uri": "https://localhost:8080/",
          "height": 121
        }
      },
      "source": [
        "# DataFrame의 생성 예\n",
        "import pandas as pd\n",
        "\n",
        "# Dictionary형 데이터 data를 선언\n",
        "data = {\"fruits\":[\"apple\",\"orange\",\"banana\",\"strawberry\",\"kiwifruit\"],\n",
        "        \"year\":[2001,2002,2001,2008,2006],\n",
        "        \"time\":[1,4,5,6,3]}\n",
        "df = pd.DataFrame(data)\n",
        "print(df)"
      ],
      "execution_count": 0,
      "outputs": [
        {
          "output_type": "stream",
          "text": [
            "       fruits  year  time\n",
            "0       apple  2001     1\n",
            "1      orange  2002     4\n",
            "2      banana  2001     5\n",
            "3  strawberry  2008     6\n",
            "4   kiwifruit  2006     3\n"
          ],
          "name": "stdout"
        }
      ]
    },
    {
      "cell_type": "code",
      "metadata": {
        "id": "co-VEnzKHVnP",
        "colab_type": "code",
        "outputId": "4a6a75c2-4b4e-443b-dbe2-7c327664adcf",
        "colab": {
          "base_uri": "https://localhost:8080/",
          "height": 69
        }
      },
      "source": [
        "# 8-26\n",
        "import pandas as pd\n",
        "\n",
        "index = [\"apple\",\"orange\",\"banana\",\"strawberry\",\"kiwifruit\"]\n",
        "data1 = [10,5,8,12,3]\n",
        "data2 = [30,25,12,10,8]\n",
        "\n",
        "series1 = pd.Series(data1,index=index)\n",
        "series2 = pd.Series(data2, index=index)\n",
        "\n",
        "# series1과 series2로 DataFrame을 생성하여 df에 대입하세요.\n",
        "df = pd.DataFrame([series1,series2])\n",
        "print(df)"
      ],
      "execution_count": 0,
      "outputs": [
        {
          "output_type": "stream",
          "text": [
            "   apple  orange  banana  strawberry  kiwifruit\n",
            "0     10       5       8          12          3\n",
            "1     30      25      12          10          8\n"
          ],
          "name": "stdout"
        }
      ]
    },
    {
      "cell_type": "markdown",
      "metadata": {
        "id": "vXxCPlXJIwH9",
        "colab_type": "text"
      },
      "source": [
        "### 8.3.2. 인덱스와 컬럼 설정\n",
        "   - DataFrame에서는 행을 index, 열을 column이라고 부른다\n",
        "   - 인수를 지정하지 않고 DataFrame을 만들면, 0부터 오름차순으로 인덱스가 할당된다.\n",
        "   - 컬럼은 원본데이터 series의 인덱스 및 딕셔너리의 키가 된다.\n",
        "   - DataFrame형 변수 df의 인덱스는 df.index에 행수와 같은 길이의 리스트를 대입하여 설정\n",
        "   - df의 컬럼은 df.column에 열 수와 같은 길이의 리스트를 대입하여 설정할 수 있다"
      ]
    },
    {
      "cell_type": "code",
      "metadata": {
        "id": "vjgsZxsCUR7Z",
        "colab_type": "code",
        "outputId": "634a6c8d-c568-4b8b-ac79-775bb28d9735",
        "colab": {
          "base_uri": "https://localhost:8080/",
          "height": 225
        }
      },
      "source": [
        "# 8-28\n",
        "import pandas as pd\n",
        "\n",
        "index = [\"apple\",\"orange\",\"banana\",\"strawberry\",\"kiwifruit\"]\n",
        "data1 = [10,5,8,12,3]\n",
        "data2 = [30,25,12,10,8]\n",
        "series1 = pd.Series(data1, index=index)\n",
        "series2 = pd.Series(data2, index=index)\n",
        "df = pd.DataFrame([series1,series2])\n",
        "\n",
        "# DataFrame형의 변수 df의 인덱스가 1부터 시작하도록 설정\n",
        "print(\"original df :\\n\",df)\n",
        "print(\"\\npost sorted :\\n\")\n",
        "print(\"현재 두 개의 시리즈가 인덱스 없이 포함되어, 오름차순 인덱스 0,1을 갖는다\\n\")\n",
        "df.index = [1,2]\n",
        "print(df)"
      ],
      "execution_count": 0,
      "outputs": [
        {
          "output_type": "stream",
          "text": [
            "original df :\n",
            "    apple  orange  banana  strawberry  kiwifruit\n",
            "0     10       5       8          12          3\n",
            "1     30      25      12          10          8\n",
            "\n",
            "post sorted :\n",
            "\n",
            "현재 두 개의 시리즈가 인덱스 없이 포함되어, 오름차순 인덱스 0,1을 갖는다\n",
            "\n",
            "   apple  orange  banana  strawberry  kiwifruit\n",
            "1     10       5       8          12          3\n",
            "2     30      25      12          10          8\n"
          ],
          "name": "stdout"
        }
      ]
    },
    {
      "cell_type": "markdown",
      "metadata": {
        "id": "09o08hmDWsfA",
        "colab_type": "text"
      },
      "source": [
        "### 8.3.3. 행 추가\n",
        "   - 새로운 관측 데이터나 거래정보 얻을 시, 기존 DataFrame에 추가할 수 있다\n",
        "   - DataFrame형 변수 df에 df.append(\"Series형 데이터\", ignore_index=True)를실행시\n",
        "   - 전달된 series형 데이터의 인덱스가 df의 컬럼에 대응해 새로운 행이 추가된 DataFrame이 생성된다. 다만, df의 컬럼과 df에 추가할 Series형 데이터의 인덱스가 일치하지 않으면, df에 새로운 칼럼이 추가되고, 값이 존재하지 않는 요소로 NaN으로 채워진다."
      ]
    },
    {
      "cell_type": "code",
      "metadata": {
        "id": "WclU078lYW4_",
        "colab_type": "code",
        "outputId": "dabdf67e-2af1-4d4b-ff78-20a0e338a7d5",
        "colab": {
          "base_uri": "https://localhost:8080/",
          "height": 349
        }
      },
      "source": [
        "# 8-30 행을 추가하는 예\n",
        "# 딕셔너리 형 데이터를 pandas.DataFrame으로 만든다음\n",
        "import pandas as pd\n",
        "\n",
        "data = {\"fruits\":[\"apple\",\"orange\",\"banana\",\"strawberry\",\"kiwifruit\"],\n",
        "        \"time\":[1,4,5,6,3]}\n",
        "print(\"dictionary data type define :\")\n",
        "print(data)\n",
        "print()\n",
        "\n",
        "df = pd.DataFrame(data)\n",
        "print(df)\n",
        "print()\n",
        "series = pd.Series([\"mango\",2008,7],index=[\"fruits\",\"year\",\"time\"])\n",
        "df = df.append(series, ignore_index=True)\n",
        "print(df)"
      ],
      "execution_count": 0,
      "outputs": [
        {
          "output_type": "stream",
          "text": [
            "dictionary data type define :\n",
            "{'fruits': ['apple', 'orange', 'banana', 'strawberry', 'kiwifruit'], 'time': [1, 4, 5, 6, 3]}\n",
            "\n",
            "       fruits  time\n",
            "0       apple     1\n",
            "1      orange     4\n",
            "2      banana     5\n",
            "3  strawberry     6\n",
            "4   kiwifruit     3\n",
            "\n",
            "       fruits  time    year\n",
            "0       apple     1     NaN\n",
            "1      orange     4     NaN\n",
            "2      banana     5     NaN\n",
            "3  strawberry     6     NaN\n",
            "4   kiwifruit     3     NaN\n",
            "5       mango     7  2008.0\n"
          ],
          "name": "stdout"
        },
        {
          "output_type": "execute_result",
          "data": {
            "text/plain": [
              "'\\nseries = pd.Series([\"mango\",2008,7], index=[\"fruits\",\"year\",\"time\"])\\ndf = df.appedn(series, ignore_index=True)\\nprint(df)\\n'"
            ]
          },
          "metadata": {
            "tags": []
          },
          "execution_count": 29
        }
      ]
    },
    {
      "cell_type": "code",
      "metadata": {
        "id": "BI4VJa_HZEnt",
        "colab_type": "code",
        "colab": {
          "base_uri": "https://localhost:8080/",
          "height": 155
        },
        "outputId": "d295d859-6ba8-4dfd-ef3a-0f82e3588ca6"
      },
      "source": [
        "# 8-31\n",
        "import pandas as pd\n",
        "\n",
        "index = [\"apple\",\"orange\",\"banana\",\"strawberry\",\"kiwifruit\"]\n",
        "data1 = [10,5,8,12,3]\n",
        "data2 = [30,25,12,10,8]\n",
        "data3 = [30,12,10,8,25,3]\n",
        "series1 = pd.Series(data1, index=index)\n",
        "series2 = pd.Series(data2, index=index)\n",
        "\n",
        "# df에 series3을 추가하고 df에 다시 대입\n",
        "index.append(\"pineapple\")\n",
        "series3 = pd.Series(data3, index=index)\n",
        "df = pd.DataFrame([series1, series2])\n",
        "\n",
        "# series3을 추가하여 df에 다시 대입하세요\n",
        "df = df.append(series3, ignore_index=True)\n",
        "print(df)\n",
        "# df와 추가할 Series의 인덱스가 일치하지 않을 떄의 동작을 확인\n",
        "print(df)"
      ],
      "execution_count": 3,
      "outputs": [
        {
          "output_type": "stream",
          "text": [
            "   apple  orange  banana  strawberry  kiwifruit  pineapple\n",
            "0     10       5       8          12          3        NaN\n",
            "1     30      25      12          10          8        NaN\n",
            "2     30      12      10           8         25        3.0\n",
            "   apple  orange  banana  strawberry  kiwifruit  pineapple\n",
            "0     10       5       8          12          3        NaN\n",
            "1     30      25      12          10          8        NaN\n",
            "2     30      12      10           8         25        3.0\n"
          ],
          "name": "stdout"
        }
      ]
    },
    {
      "cell_type": "markdown",
      "metadata": {
        "id": "gUXN2AxFHDYt",
        "colab_type": "text"
      },
      "source": [
        "### 8.3.4. 열 추가\n",
        "   - 새로운 데이터 추가시 DataFrame의 Colomn에 추가할 수 있음\n",
        "   - "
      ]
    },
    {
      "cell_type": "code",
      "metadata": {
        "id": "zvpO3LVvK5Pu",
        "colab_type": "code",
        "colab": {
          "base_uri": "https://localhost:8080/",
          "height": 242
        },
        "outputId": "21484154-0799-4960-e979-93eaee4bee6f"
      },
      "source": [
        "# 8-33 : 열을 추가하는 방법\n",
        "data = {\"fruits\":[\"apple\",\"orange\",\"banana\",\"strawberry\",\"kiwifruit\"],\n",
        "        \"year\" :[2001,2002,2001,2008,2006],\n",
        "        \"time\":[1,4,5,6,3]}\n",
        "df = pd.DataFrame(data)\n",
        "print(df)\n",
        "print()\n",
        "df[\"price\"] = [150,120,100,300,150]   # 데이터프레임변수명[\"추가열\"]\n",
        "print(df)"
      ],
      "execution_count": 5,
      "outputs": [
        {
          "output_type": "stream",
          "text": [
            "       fruits  year  time\n",
            "0       apple  2001     1\n",
            "1      orange  2002     4\n",
            "2      banana  2001     5\n",
            "3  strawberry  2008     6\n",
            "4   kiwifruit  2006     3\n",
            "\n",
            "       fruits  year  time  price\n",
            "0       apple  2001     1    150\n",
            "1      orange  2002     4    120\n",
            "2      banana  2001     5    100\n",
            "3  strawberry  2008     6    300\n",
            "4   kiwifruit  2006     3    150\n"
          ],
          "name": "stdout"
        }
      ]
    },
    {
      "cell_type": "code",
      "metadata": {
        "id": "zA_7fDaELcnK",
        "colab_type": "code",
        "colab": {
          "base_uri": "https://localhost:8080/",
          "height": 190
        },
        "outputId": "4cf58e2f-62b5-4882-f3b1-fe33c88bbadc"
      },
      "source": [
        "# 8-34 : df에 새로운 열 mango를 만들어 new_column의 데이터를 추가하세요\n",
        "import pandas as pd\n",
        "\n",
        "index = [\"apple\",\"orange\",\"banana\",\"strawberry\",\"kiwifruit\"]\n",
        "data1 = [10, 5,8,12,3]\n",
        "data2 = [30,25,12,10,8]\n",
        "series1 = pd.Series(data1,index=index)\n",
        "series2 = pd.Series(data2,index=index)\n",
        "\n",
        "new_column = pd.Series([15,7],index=[0,1])\n",
        "\n",
        "#series1과 series2로 DataFrame을 생성\n",
        "df = pd.DataFrame([series1,series2])\n",
        "print(df)\n",
        "print()\n",
        "print(new_column)\n",
        "# 8-34 : df에 새로운 열 mango를 만들어 new_column의 데이터를 추가하세요\n",
        "df[\"mango\"] = new_column\n",
        "print(df)"
      ],
      "execution_count": 10,
      "outputs": [
        {
          "output_type": "stream",
          "text": [
            "   apple  orange  banana  strawberry  kiwifruit\n",
            "0     10       5       8          12          3\n",
            "1     30      25      12          10          8\n",
            "\n",
            "0    15\n",
            "1     7\n",
            "dtype: int64\n",
            "   apple  orange  banana  strawberry  kiwifruit  mango\n",
            "0     10       5       8          12          3     15\n",
            "1     30      25      12          10          8      7\n"
          ],
          "name": "stdout"
        }
      ]
    },
    {
      "cell_type": "markdown",
      "metadata": {
        "id": "_Fbnx_8ORHKN",
        "colab_type": "text"
      },
      "source": [
        "#### df[\"새로운 열의 인덱스\"] = new_column"
      ]
    },
    {
      "cell_type": "markdown",
      "metadata": {
        "id": "-BBvta-VRY0B",
        "colab_type": "text"
      },
      "source": [
        "### 8.3.5. 데이터 참조\n",
        "   - loc :DataFrame형 변수를 이름으로 참조\n",
        "      * 이름 : 인덱스와 컬럼명\n",
        "      * df.loc[\"인덱스 리스트\",\"컬럼 리스트\"] 로 지정한 영역의 데이터프레임을 얻을 수 있다\n",
        "   - iloc : 번호로 참조"
      ]
    },
    {
      "cell_type": "code",
      "metadata": {
        "id": "5AyR2I8jRVL-",
        "colab_type": "code",
        "colab": {
          "base_uri": "https://localhost:8080/",
          "height": 245
        },
        "outputId": "8b58582c-106c-4d76-fa0e-e1a4b59cc445"
      },
      "source": [
        "# 8-36 : 이름에 의한 참조의 예\n",
        "import pandas as pd\n",
        "\n",
        "data = {\"fruit\":[\"apple\",\"orange\",\"banana\",\"strawberry\",\"kiwifruit\"],\n",
        "        \"year\":[2001,2002,2001,2008,2006],\n",
        "        \"time\":[1,4,5,6,3]}\n",
        "print(data,type(data),\"\\n\")\n",
        "df = pd.DataFrame(data)\n",
        "print(df, type(df),\"\\n\")\n",
        "\n",
        "# 8-37 : 이름에 의한 참조의 예2\n",
        "df = df.loc[[1,2],[\"time\",\"year\"]]\n",
        "print(df)"
      ],
      "execution_count": 15,
      "outputs": [
        {
          "output_type": "stream",
          "text": [
            "{'fruit': ['apple', 'orange', 'banana', 'strawberry', 'kiwifruit'], 'year': [2001, 2002, 2001, 2008, 2006], 'time': [1, 4, 5, 6, 3]} <class 'dict'> \n",
            "\n",
            "        fruit  year  time\n",
            "0       apple  2001     1\n",
            "1      orange  2002     4\n",
            "2      banana  2001     5\n",
            "3  strawberry  2008     6\n",
            "4   kiwifruit  2006     3 <class 'pandas.core.frame.DataFrame'> \n",
            "\n",
            "   time  year\n",
            "1     4  2002\n",
            "2     5  2001\n"
          ],
          "name": "stdout"
        }
      ]
    },
    {
      "cell_type": "code",
      "metadata": {
        "id": "h7RaGu_pTezF",
        "colab_type": "code",
        "colab": {
          "base_uri": "https://localhost:8080/",
          "height": 311
        },
        "outputId": "8cf12aac-48ef-4363-9d4f-e4ee8cf6ab52"
      },
      "source": [
        "# 8-38\n",
        "import numpy as np\n",
        "import pandas as pd\n",
        "np.random.seed(0)\n",
        "columns = [\"apple\",\"orange\",\"banana\",\"strawberry\",\"kiwifruit\"]\n",
        "#print(columns,type(columns))\n",
        "# DataFrame을 생성하고 열을 추가한다.\n",
        "df = pd.DataFrame()\n",
        "#print(df,type(df))\n",
        "for column in columns:\n",
        "  df[column] = np.random.choice(range(1,11),10)\n",
        "\n",
        "# range(시작행수, 종료행수-1)\n",
        "#df.index() = range(1,11)\n",
        "\n",
        "print(df)\n",
        "print()\n",
        "df.index=range(1,11)\n",
        "# DataFrame형 변수 df를 df.loc[\"인덱스리스트\",\"컬럼리스트\"]로 지정하여 해당범위의 DataFrame을 얻을 수 있다\n",
        "df = df.loc[range(2,6),[\"banana\",\"kiwifruit\"]]\n",
        "print(df)"
      ],
      "execution_count": 27,
      "outputs": [
        {
          "output_type": "stream",
          "text": [
            "   apple  orange  banana  strawberry  kiwifruit\n",
            "0      6       8       6           3         10\n",
            "1      1       7      10           4         10\n",
            "2      4       9       9           9          1\n",
            "3      4       9      10           2          5\n",
            "4      8       2       5           4          8\n",
            "5     10       7       4           4          4\n",
            "6      4       8       1           4          3\n",
            "7      6       8       4           8          8\n",
            "8      3       9       6           1          3\n",
            "9      5       2       1           2          1\n",
            "\n",
            "   banana  kiwifruit\n",
            "2      10         10\n",
            "3       9          1\n",
            "4      10          5\n",
            "5       5          8\n"
          ],
          "name": "stdout"
        }
      ]
    },
    {
      "cell_type": "markdown",
      "metadata": {
        "id": "x6hr3BL4enop",
        "colab_type": "text"
      },
      "source": [
        "   - 번호로 참조 : DataFrame형의 데이터를 번호(인덱스와 컬럼 번호)로 참조할 때는, iloc을 사용한다.\n",
        "   - DataFrame형 변수 df를 iloc[\"행번호리스트\",\"열번호 리스트\"]로 지정할수있음"
      ]
    },
    {
      "cell_type": "code",
      "metadata": {
        "id": "0W274XY7e3E0",
        "colab_type": "code",
        "colab": {
          "base_uri": "https://localhost:8080/",
          "height": 190
        },
        "outputId": "fb6bce54-57d6-4ccf-b603-d16c98eab896"
      },
      "source": [
        "# 8-40 : 번호에 의한 참조의 예1\n",
        "import pandas as pd\n",
        "\n",
        "data = {\"fruits\":[\"apple\",\"orange\",\"banana\",\"strawberry\",\"kiwifruit\"],\n",
        "        \"year\":[2001,2002,2001,2008,2006],\n",
        "        \"time\":[1,4,5,6,3]}\n",
        "df = pd.DataFrame(data)\n",
        "print(df)\n",
        "\n",
        "# 8-41\n",
        "#df = df.iloc[[1,3],[0,2]]\n",
        "#print()\n",
        "#print(df)\n",
        "df = df.iloc[[1,3],[0,1]]\n",
        "print()\n",
        "print(df)"
      ],
      "execution_count": 37,
      "outputs": [
        {
          "output_type": "stream",
          "text": [
            "       fruits  year  time\n",
            "0       apple  2001     1\n",
            "1      orange  2002     4\n",
            "2      banana  2001     5\n",
            "3  strawberry  2008     6\n",
            "4   kiwifruit  2006     3\n",
            "\n",
            "       fruits  year\n",
            "1      orange  2002\n",
            "3  strawberry  2008\n"
          ],
          "name": "stdout"
        }
      ]
    },
    {
      "cell_type": "code",
      "metadata": {
        "id": "M5golGK0f0Lx",
        "colab_type": "code",
        "colab": {
          "base_uri": "https://localhost:8080/",
          "height": 207
        },
        "outputId": "a1281732-bf58-4814-c1c6-76b41a94677d"
      },
      "source": [
        "# 8-42\n",
        "import pandas as pd\n",
        "import numpy as np\n",
        "\n",
        "np.random.seed(0)\n",
        "columns = [\"apple\",\"orange\",\"banana\",\"strawberry\",\"kiwifruit\"]\n",
        "# DataFrame을 생성하고 열을 추가\n",
        "df = pd.DataFrame()\n",
        "for column in columns:\n",
        "  df[column] = np.random.choice(range(1,11),10)\n",
        "\n",
        "df.index = range(1,11)\n",
        "df1 = df.iloc[range(1,5),[2,4]]\n",
        "df2 = df.iloc[1:5,[2,4]]\n",
        "print(df1)\n",
        "print()\n",
        "print(df2)"
      ],
      "execution_count": 43,
      "outputs": [
        {
          "output_type": "stream",
          "text": [
            "   banana  kiwifruit\n",
            "2      10         10\n",
            "3       9          1\n",
            "4      10          5\n",
            "5       5          8\n",
            "\n",
            "   banana  kiwifruit\n",
            "2      10         10\n",
            "3       9          1\n",
            "4      10          5\n",
            "5       5          8\n"
          ],
          "name": "stdout"
        }
      ]
    },
    {
      "cell_type": "markdown",
      "metadata": {
        "id": "lsDe-zuXiVAe",
        "colab_type": "text"
      },
      "source": [
        "### 8.3.6. 행 또는 열의 삭제\n",
        "   - df.drop()"
      ]
    },
    {
      "cell_type": "code",
      "metadata": {
        "id": "uR3peuCiig-_",
        "colab_type": "code",
        "colab": {
          "base_uri": "https://localhost:8080/",
          "height": 311
        },
        "outputId": "4f500e7a-bc83-4cb8-e2f5-a03f2112bf1f"
      },
      "source": [
        "# 8-44\n",
        "import pandas as pd\n",
        "data = {\"fruits\":[\"apple\",\"orange\",\"banana\",\"strawberry\",\"kiwifruit\"],\n",
        "        \"time\":[1,4,5,6,3],\n",
        "        \"year\":[2001,2003,2001,2008,2006]}\n",
        "df = pd.DataFrame(data)\n",
        "print(df)\n",
        "\n",
        "# using .drop() \n",
        "df_1 = df.drop(range(0,2))\n",
        "df_2 = df.drop(\"year\",axis=1)\n",
        "\n",
        "print(df_1)\n",
        "print()\n",
        "print(df_2)"
      ],
      "execution_count": 44,
      "outputs": [
        {
          "output_type": "stream",
          "text": [
            "       fruits  time  year\n",
            "0       apple     1  2001\n",
            "1      orange     4  2003\n",
            "2      banana     5  2001\n",
            "3  strawberry     6  2008\n",
            "4   kiwifruit     3  2006\n",
            "       fruits  time  year\n",
            "2      banana     5  2001\n",
            "3  strawberry     6  2008\n",
            "4   kiwifruit     3  2006\n",
            "\n",
            "       fruits  time\n",
            "0       apple     1\n",
            "1      orange     4\n",
            "2      banana     5\n",
            "3  strawberry     6\n",
            "4   kiwifruit     3\n"
          ],
          "name": "stdout"
        }
      ]
    },
    {
      "cell_type": "code",
      "metadata": {
        "id": "q5pYga2cjRmO",
        "colab_type": "code",
        "colab": {
          "base_uri": "https://localhost:8080/",
          "height": 277
        },
        "outputId": "934c2e8d-c792-4c9a-ca92-ab69458a8b61"
      },
      "source": [
        "# 8-45\n",
        "import numpy as np\n",
        "import pandas as pd\n",
        "np.random.seed(0)\n",
        "columns = [\"apple\",\"orange\",\"banana\",\"strawberry\",\"kiwifruit\"]\n",
        "\n",
        "# DataFrame Generate\n",
        "df = pd.DataFrame()\n",
        "for column in columns:\n",
        "  df[column] = np.random.choice(range(1,11),10)\n",
        "df.index = range(1,11)\n",
        "\n",
        "# drop()을 이용하여 df에서 홀수 인덱스가 붙은 행만 남겨 df에 대입\n",
        "df = df.drop(np.arange(2,11,2))\n",
        "# np.arange(2,11,2)는 2에서 10까지의 수열을 2의 간격으로 추출한 것이다\n",
        "print(np.arange(2,11,2))\n",
        "print()\n",
        "print(df)\n",
        "\n",
        "# drop()을 이용하여 df의 열 \"strawberry\"를 삭제하고 df에 대힙\n",
        "df = df.drop(\"strawberry\",axis=1)\n",
        "print()\n",
        "print(df)"
      ],
      "execution_count": 48,
      "outputs": [
        {
          "output_type": "stream",
          "text": [
            "[ 2  4  6  8 10]\n",
            "\n",
            "   apple  orange  banana  strawberry  kiwifruit\n",
            "1      6       8       6           3         10\n",
            "3      4       9       9           9          1\n",
            "5      8       2       5           4          8\n",
            "7      4       8       1           4          3\n",
            "9      3       9       6           1          3\n",
            "\n",
            "   apple  orange  banana  kiwifruit\n",
            "1      6       8       6         10\n",
            "3      4       9       9          1\n",
            "5      8       2       5          8\n",
            "7      4       8       1          3\n",
            "9      3       9       6          3\n"
          ],
          "name": "stdout"
        }
      ]
    },
    {
      "cell_type": "markdown",
      "metadata": {
        "id": "6Seu21SAlch9",
        "colab_type": "text"
      },
      "source": [
        "### 8.3.7. 정렬\n",
        "   - df.sort_values (by=\"컬럼 또는 컬럼리스트\",ascending=True) 오름차순 정렬"
      ]
    },
    {
      "cell_type": "code",
      "metadata": {
        "id": "1iSRuQTJlrK9",
        "colab_type": "code",
        "colab": {}
      },
      "source": [
        "# 8-47\n"
      ],
      "execution_count": 0,
      "outputs": []
    }
  ]
}