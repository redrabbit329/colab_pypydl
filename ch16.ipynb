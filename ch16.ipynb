{
 "cells": [
  {
   "cell_type": "markdown",
   "metadata": {},
   "source": [
    "# chapter 16. 지도학습(분류) 기초"
   ]
  },
  {
   "cell_type": "markdown",
   "metadata": {},
   "source": [
    "## 16.1. 지도학습(분류) 알아보기\n",
    "### 16.1.1. 분류란\n",
    "   - 머신러닝 학습방식의 3가지\n",
    "      (1) 지도학습 : 축적된 데이터를 바탕으로 새로운 예측/분류 수행\n",
    "      (2) 비지도학습 : 축적된 데이터의 구조나 관계성을 찾아내는 것\n",
    "      (3) 강화학습 : 보수및 환경설정으로 수익을 최대화하는 행동을 학습하는것\n",
    "   - 주로 다루는 [지도학습] 의 두 종류\n",
    "      (1) 회귀\n",
    "      (2) 분류\n",
    "   - 회귀 : 기존 데이터에서 관계를 읽고, 그 관계성을 바탕으로 연속적인 데이터의 예측을 실시\n",
    "   - 분류 : 데이터의 카테고리(이산값) 예측 실시가 주 목적\n",
    "   - 회귀는 주로 수치를 예측하며, 분류는 데이터가 어디에 속하는지 예측\n",
    "   \n",
    "### 16.1.2. 이항 분류와 다항 분류\n",
    "   - 분류 문제는 이항 분류와 다항 분류로 나눠진다.\n",
    "   - 이항분류/ 두 값 분류/ 2클래스 분류 :\n",
    "      분류할 클래스가 두 개인 분류 문제, 어느 한 그룹에 '속하거나', '속하지않거나' 만으로 식별\n",
    "      직선으로 두 클래스 사이를 구분가능한 경우 [선형분류] 그렇지 않으면 [비선형 분류]\n",
    "   - 다항 분류/ 다중 클래스 분류 :\n",
    "      분류할 클래스가 세 개 이상인 분류 문제로, 직선으로 구분하기 어려운 문제\n",
    "\n",
    "### 16.1.3. 분류의 흐름\n",
    "   - 머신러닝의 흐름 :\n",
    "      (1) 데이터 전처리 - 데이터 가공, 수정\n",
    "      (2) 모델 선택 - 분류기(학습모델) 선택\n",
    "      (3) 모델 학습 - 튜닝하는 하이퍼파라미터 선택, 파라미터 튜닝\n",
    "      (4) 모델에 의한 예측(추정) - 미지의 데이터를 사용하여 모델의 정확성 검증\n",
    "           웹 서비스 등에 포함시켜 AI모델을 실제로 운용\n",
    "### 16.1.4. 데이터 준비하기\n",
    "   (실무) 실제로 측정된 값부터 시작\n",
    "   - 가상의 분류용 데이터를 스스로 작성하는 것부터 시작\n",
    "   - 분류에 적합한 데이터 작성에 필요한 모듈 :\n",
    "      scikit-learn.datasets모듈의 make_classification()함수를 사용\n",
    "     "
   ]
  },
  {
   "cell_type": "markdown",
   "metadata": {},
   "source": [
    "# 16-1 : 분류용 데이터 작성의 예\n",
    "### 모듈 import\n",
    "> from sklearn.datasets import make_classification\n",
    "\n",
    "### 데이터 X와 라벨 y를 생성\n",
    "> X, y = make_classification(n_samples=xx, n_classes=xx, n_features=xx, n_redundant=xx, n_randomstat)\n",
    "   - n_samples : 준비할 데이터 수\n",
    "   - n_classes : 클래스 수, 지정하지 않으면 2\n",
    "   - n_features : 데이터의 특징량 수\n",
    "   - n_redundant : 분류에 불필요한 특징량(여분의 특징량)수\n",
    "   - random_state : 난수 시드(난수 패턴을 결정하는 요소)"
   ]
  },
  {
   "cell_type": "code",
   "execution_count": 7,
   "metadata": {},
   "outputs": [
    {
     "data": {
      "image/png": "[encoded data removed]",
      "text/plain": [
       "<Figure size 432x288 with 1 Axes>"
      ]
     },
     "metadata": {
      "needs_background": "light"
     },
     "output_type": "display_data"
    }
   ],
   "source": [
    "# 16-2\n",
    "from sklearn.datasets import make_classification\n",
    "\n",
    "# for plot\n",
    "import matplotlib.pyplot as plt\n",
    "import matplotlib\n",
    "\n",
    "%matplotlib inline\n",
    "\n",
    "# to Gen : Data X, Label y ----------------------------\n",
    "# make_classification()함수는 Data X와 label y값을 동시에 반환\n",
    "X, y = make_classification(\n",
    "    n_samples = 50,\n",
    "    n_features = 2,\n",
    "    n_redundant = 0,\n",
    "    random_state = 0\n",
    ")\n",
    "\n",
    "# plot, color\n",
    "plt.scatter(\n",
    "    X[:, 0], X[:, 1], c=y, marker=\".\", cmap=matplotlib.cm.get_cmap(name=\"bwr\"), alpha=0.7\n",
    ")\n",
    "plt.grid(True)\n",
    "plt.show()"
   ]
  },
  {
   "cell_type": "markdown",
   "metadata": {},
   "source": [
    "### 16.1.5. 학습과 예측\n",
    "   - 모델 : 지도 데이터로 학습을 실시해서 라벨을 예측하기까지의 일련의 흐름\n",
    "   - 분류기 : 머신러닝으로 데이터를 분류하는 프로그램\n",
    "   - 예제에서는 Classifier를 통해 scikit-learn머신러닝 라이브러리의 사용법을 살펴보게 되며, 실제 머신러닝코드 작성 시, Classifier부분을 실제 모델로 교체해야 한다."
   ]
  },
  {
   "cell_type": "code",
   "execution_count": 1,
   "metadata": {},
   "outputs": [
    {
     "name": "stderr",
     "output_type": "stream",
     "text": [
      "C:\\Users\\kaori\\Anaconda3\\envs\\PypyDL_book\\lib\\site-packages\\sklearn\\ensemble\\weight_boosting.py:29: DeprecationWarning: numpy.core.umath_tests is an internal NumPy module and should not be imported. It will be removed in a future NumPy release.\n",
      "  from numpy.core.umath_tests import inner1d\n"
     ]
    },
    {
     "ename": "NameError",
     "evalue": "name 'Classifier' is not defined",
     "output_type": "error",
     "traceback": [
      "\u001b[1;31m---------------------------------------------------------------------------\u001b[0m",
      "\u001b[1;31mNameError\u001b[0m                                 Traceback (most recent call last)",
      "\u001b[1;32m<ipython-input-1-ed8df1ec7b19>\u001b[0m in \u001b[0;36m<module>\u001b[1;34m\u001b[0m\n\u001b[0;32m      8\u001b[0m \u001b[1;33m\u001b[0m\u001b[0m\n\u001b[0;32m      9\u001b[0m \u001b[1;31m# 모델을 구축합니다.\u001b[0m\u001b[1;33m\u001b[0m\u001b[1;33m\u001b[0m\u001b[1;33m\u001b[0m\u001b[0m\n\u001b[1;32m---> 10\u001b[1;33m \u001b[0mmodel\u001b[0m \u001b[1;33m=\u001b[0m \u001b[0mClassifier\u001b[0m\u001b[1;33m(\u001b[0m\u001b[1;33m)\u001b[0m   \u001b[1;31m# 임시로 지정했습니다.\u001b[0m\u001b[1;33m\u001b[0m\u001b[1;33m\u001b[0m\u001b[0m\n\u001b[0m\u001b[0;32m     11\u001b[0m \u001b[1;33m\u001b[0m\u001b[0m\n\u001b[0;32m     12\u001b[0m \u001b[1;31m# 모델을 학습시킵니다.\u001b[0m\u001b[1;33m\u001b[0m\u001b[1;33m\u001b[0m\u001b[1;33m\u001b[0m\u001b[0m\n",
      "\u001b[1;31mNameError\u001b[0m: name 'Classifier' is not defined"
     ]
    }
   ],
   "source": [
    "# 가상 모델 Classifier의 사용법 : 정상 실행되지 않음\n",
    "# 모듈을 import합니다.\n",
    "# 모델별로 다름 모듈을 참조하고 있습니다.\n",
    "from sklearn.linear_model import LogisticRegression\n",
    "from sklearn.svm import LinearSVC, SVC\n",
    "from sklearn.tree import DecisionTreeClassifier\n",
    "from sklearn.ensemble import RandomForestClassifier\n",
    "\n",
    "# 모델을 구축합니다.\n",
    "model = Classifier()   # 임시로 지정했습니다.\n",
    "\n",
    "# 모델을 학습시킵니다.\n",
    "model.fit(train_X, train_y)\n",
    "\n",
    "# 모델로 데이터를 예측합니다\n",
    "model.predict(test_X)\n",
    "\n",
    "# 모델의 정확도\n",
    "# 정확도는 (모델이 예측한 분류와 실제 분류가 일치한 데이터의 수) / (데이터의 총수) 로 산출합니다.\n",
    "model.score(test_X, test_y)"
   ]
  },
  {
   "cell_type": "code",
   "execution_count": null,
   "metadata": {},
   "outputs": [],
   "source": [
    "# 16-5\n",
    "from sklearn.linear_model import LogisticRegression\n",
    "from sklearn.model_selection import train_test_split\n",
    "from sklearn.datasets import make_classification\n",
    "\n",
    "# Data Generation\n",
    "X, y = make_classification(\n",
    "                            n_samples=100,\n",
    "                            n_features=2,\n",
    "                            n_redundant=0,\n",
    "                            random_state=42\n",
    ")\n",
    "\n",
    "# Data Split for training and test dataset\n",
    "train_X, test_X, train_y, test_y = train_test_split(X, y, random_state=42)\n",
    "\n",
    "# Model을 구축\n",
    "model = LogisticRegression(random_state=42)\n",
    "\n",
    "# train_X와 train_y를 사용해서 모델을 학습시키세요\n",
    "model.fit(train_X, train_y)\n",
    "\n",
    "# test_X에 대한 모델의 분류 예측 결과입니다.\n",
    "pred_y = model.predict(test_X)\n",
    "print(pred_y)"
   ]
  },
  {
   "cell_type": "markdown",
   "metadata": {},
   "source": [
    "## 16.2. 주요 기법 소개\n",
    "## 16.2.1. 로지스틱 회귀\n",
    "\n",
    "   - 직선으로 데이터의 카테고리를 그룹으로 나눌 수 있는 데이터를 선형 분리 가능한 데이터\n",
    "   - 로지스틱 회귀는 선형 분리 가능한 데이터의 경계선을 학습을 통해 찾고, 데이터를 분류하는 방법\n",
    "   - 주로 일기 예보의 강수 확률\n",
    "   - 단점 : 학습(지도)데이터가 선형 분리되지 않으면 분류할 수 없다.\n",
    "   - 로지스틱 회귀 모델의 구현 : scikit-learn 의 leaner_medel 서브모듈에 LogisticRegression()메서드로 정의"
   ]
  },
  {
   "cell_type": "code",
   "execution_count": 11,
   "metadata": {},
   "outputs": [],
   "source": [
    "# 16-7 모델 호출의 예 : model.fit()입력을 정의하지 않았으므로 오류 실행됨\n",
    "from sklearn.linear_model import LogisticRegression\n",
    "\n",
    "# 모델 구축\n",
    "#model = LogisticRegression()\n",
    "\n",
    "# 모델을 학습시킵니다.\n",
    "# train_data_detail은 데이터의 카테고리 예측에 사용되는 정보를 정리한 것\n",
    "# train_data_label은 데이터가 속하는 클래스의 라벨\n",
    "#model.fit(train_data_detail, train_data_label)\n",
    "\n",
    "# 모델로 예측\n",
    "#model.predict(data_detail)\n",
    "\n",
    "# 모델 예측 결과의 정확도\n",
    "#model.score(data_detail, data_true_label)"
   ]
  },
  {
   "cell_type": "code",
   "execution_count": 12,
   "metadata": {},
   "outputs": [
    {
     "ename": "AttributeError",
     "evalue": "'LogisticRegression' object has no attribute 'coef_'",
     "output_type": "error",
     "traceback": [
      "\u001b[1;31m---------------------------------------------------------------------------\u001b[0m",
      "\u001b[1;31mAttributeError\u001b[0m                            Traceback (most recent call last)",
      "\u001b[1;32m<ipython-input-12-7cb8a27a0812>\u001b[0m in \u001b[0;36m<module>\u001b[1;34m\u001b[0m\n\u001b[0;32m     24\u001b[0m \u001b[1;31m# model.intercept_는 데이터 요소 전부에 대한 보정(절펴)을 나타냅니다.\u001b[0m\u001b[1;33m\u001b[0m\u001b[1;33m\u001b[0m\u001b[1;33m\u001b[0m\u001b[0m\n\u001b[0;32m     25\u001b[0m \u001b[0mXi\u001b[0m \u001b[1;33m=\u001b[0m \u001b[0mnp\u001b[0m\u001b[1;33m.\u001b[0m\u001b[0mlinspace\u001b[0m\u001b[1;33m(\u001b[0m\u001b[1;33m-\u001b[0m\u001b[1;36m10\u001b[0m\u001b[1;33m,\u001b[0m \u001b[1;36m10\u001b[0m\u001b[1;33m)\u001b[0m\u001b[1;33m\u001b[0m\u001b[1;33m\u001b[0m\u001b[0m\n\u001b[1;32m---> 26\u001b[1;33m \u001b[0mY\u001b[0m \u001b[1;33m=\u001b[0m \u001b[1;33m-\u001b[0m\u001b[0mmodel\u001b[0m\u001b[1;33m.\u001b[0m\u001b[0mcoef_\u001b[0m\u001b[1;33m[\u001b[0m\u001b[1;36m0\u001b[0m\u001b[1;33m]\u001b[0m\u001b[1;33m[\u001b[0m\u001b[1;36m0\u001b[0m\u001b[1;33m]\u001b[0m \u001b[1;33m/\u001b[0m \u001b[0mmodel\u001b[0m\u001b[1;33m.\u001b[0m\u001b[0mcoef_\u001b[0m\u001b[1;33m[\u001b[0m\u001b[1;36m0\u001b[0m\u001b[1;33m]\u001b[0m\u001b[1;33m[\u001b[0m\u001b[1;36m1\u001b[0m\u001b[1;33m]\u001b[0m \u001b[1;33m*\u001b[0m \u001b[0mXi\u001b[0m \u001b[1;33m-\u001b[0m \u001b[0mmodel\u001b[0m\u001b[1;33m.\u001b[0m\u001b[0mintercept_\u001b[0m \u001b[1;33m/\u001b[0m \u001b[0mmodel\u001b[0m\u001b[1;33m.\u001b[0m\u001b[0mcoef_\u001b[0m\u001b[1;33m[\u001b[0m\u001b[1;36m0\u001b[0m\u001b[1;33m]\u001b[0m\u001b[1;33m[\u001b[0m\u001b[1;36m1\u001b[0m\u001b[1;33m]\u001b[0m\u001b[1;33m\u001b[0m\u001b[1;33m\u001b[0m\u001b[0m\n\u001b[0m\u001b[0;32m     27\u001b[0m \u001b[0mplt\u001b[0m\u001b[1;33m.\u001b[0m\u001b[0mplot\u001b[0m\u001b[1;33m(\u001b[0m\u001b[0mXi\u001b[0m\u001b[1;33m,\u001b[0m \u001b[0mY\u001b[0m\u001b[1;33m)\u001b[0m\u001b[1;33m\u001b[0m\u001b[1;33m\u001b[0m\u001b[0m\n\u001b[0;32m     28\u001b[0m \u001b[1;33m\u001b[0m\u001b[0m\n",
      "\u001b[1;31mAttributeError\u001b[0m: 'LogisticRegression' object has no attribute 'coef_'"
     ]
    },
    {
     "data": {
      "image/png": "[encoded data removed]",
      "text/plain": [
       "<Figure size 432x288 with 1 Axes>"
      ]
     },
     "metadata": {
      "needs_background": "light"
     },
     "output_type": "display_data"
    }
   ],
   "source": [
    "# 16-8 : 로지스틱 회귀의 예 : AttributeError : 'LogisticRegression' object has no attribute 'coef_'오류가 표시된다고 함\n",
    "import numpy as np\n",
    "import matplotlib\n",
    "import matplotlib.pyplot as plt\n",
    "\n",
    "from sklearn.linear_model import LogisticRegression\n",
    "from sklearn.datasets import make_classification\n",
    "X, y = make_classification(n_samples=100, n_features=2, n_redundant=0, random_state=42)\n",
    "\n",
    "# 페이지에서 직접 그래프를 볼 수 있게 합니다\n",
    "%matplotlib inline\n",
    "\n",
    "# 생성된 데이터를 플롯합니다.\n",
    "plt.scatter(\n",
    "    X[:,0], X[:,1], \n",
    "    c=y, \n",
    "    marker=\".\",\n",
    "    cmap = matplotlib.cm.get_cmap(name=\"bwr\"),\n",
    "    alpha=0.7\n",
    ")\n",
    "\n",
    "# 학습해서 도출한 식별 경계선을 플롯합니다.\n",
    "# mdoel.coef_는 데이터의 각 요소의 가중치(기울기)를 나타냅니다.\n",
    "# model.intercept_는 데이터 요소 전부에 대한 보정(절펴)을 나타냅니다.\n",
    "Xi = np.linspace(-10, 10)\n",
    "Y = -model.coef_[0][0] / model.coef_[0][1] * Xi - model.intercept_ / model.coef_[0][1]\n",
    "plt.plot(Xi, Y)\n",
    "\n",
    "\n",
    "#Xi = np.linspace(-10, 10)\n",
    "#Y = -model.coef_[0][0] / model.coef_[0][1] * \\\n",
    "#    Xi - model.intercept_ / model.coef_[0][1]\n",
    "#plt.plot(Xi, Y)\n",
    "\n",
    "# 그래프의 스케일을 조정합니다.\n",
    "plt.xlim(min(X[:,0]) - 0.5, max(X[:,0]) + 0.5)\n",
    "plt.ylim(min(X[:,1]) - 0.5, max(X[:,1]) + 0.5)\n",
    "plt.axes().set_aspect(\"equal\", \"datalim\")\n",
    "\n",
    "# 그래프에 제목을 설정합니다.\n",
    "plt.title(\"classification data using LogisticRegression\")\n",
    "\n",
    "# x축과 y축 각각에 이름을 설정합니다.\n",
    "plt.xlabel(\"x-axis\")\n",
    "plt.ylabel(\"y-axis\")\n",
    "plt.show()"
   ]
  },
  {
   "cell_type": "code",
   "execution_count": 16,
   "metadata": {},
   "outputs": [
    {
     "data": {
      "image/png": "[encoded data removed]",
      "text/plain": [
       "<Figure size 432x288 with 1 Axes>"
      ]
     },
     "metadata": {
      "needs_background": "light"
     },
     "output_type": "display_data"
    }
   ],
   "source": [
    "# 16-9 : typical example !\n",
    "#-------------------------\n",
    "# Package를 import합니다.\n",
    "import numpy as np\n",
    "import matplotlib\n",
    "import matplotlib.pyplot as plt\n",
    "from sklearn.linear_model import LogisticRegression\n",
    "from sklearn.model_selection import train_test_split\n",
    "from sklearn.datasets import make_classification\n",
    "\n",
    "# 페이지에서 직접 그래프를 볼 수 있게 합니다.\n",
    "%matplotlib inline\n",
    "\n",
    "# 데이터를 생성합니다.\n",
    "X, y = make_classification(n_samples=100, n_features=2, n_redundant=0, random_state=42)\n",
    "train_X, test_X, train_y, test_y = train_test_split(X, y, random_state=42)\n",
    "\n",
    "# 다음 코드를 작성하세요\n",
    "# 모델을 구축하세요.\n",
    "model = LogisticRegression()\n",
    "\n",
    "# train_X와 train_y를 사용해서 모델을 학습 시키세요\n",
    "model.fit(train_X, train_y)\n",
    "\n",
    "# test_X에 대한 모델의 분류 예측 결과를 도출하세요.\n",
    "pred_y = model.predict(test_X)\n",
    "\n",
    "# 코드 편집은 여기까지 입니다.\n",
    "# 생성된 데이터를 플롯합니다.\n",
    "plt.scatter(\n",
    "    X[:,0], X[:, 1], \n",
    "    c=y, \n",
    "    marker=\".\",\n",
    "    cmap=matplotlib.cm.get_cmap(name=\"bwr\"),\n",
    "    alpha=0.7\n",
    ")\n",
    "\n",
    "# 학습해서 도출한 식별 경계선을 플롯합니다.\n",
    "Xi = np.linspace(-10, 10)\n",
    "Y = -model.coef_[0][0] / model.coef_[0][1] * \\\n",
    "    Xi - model.intercept_ / model.coef_[0][1]\n",
    "plt.plot(Xi, Y)\n",
    "\n",
    "# 그래프의 스케일을 조정합니다.\n",
    "plt.xlim(min(X[:, 0]) - 0.5, max(X[:, 0]) + 0.5)\n",
    "plt.ylim(min(X[:, 1]) - 0.5, max(X[:, 1]) + 0.5)\n",
    "plt.axes().set_aspect(\"equal\", \"datalim\")\n",
    "\n",
    "# 그래프에 제목을 설정합니다.\n",
    "plt.title(\"classification data using LogisticRegression\")\n",
    "\n",
    "# X축과 y축에 각각 이름을 설정합니다.\n",
    "plt.xlabel(\"x-axis\")\n",
    "plt.ylabel(\"y-axis\")\n",
    "plt.show()"
   ]
  },
  {
   "cell_type": "markdown",
   "metadata": {},
   "source": [
    "### 16.2.2. 선형 SVM\n",
    "   - SVM (Support Vector Machine) 은 로지스틱 회귀처럼 데이터의 경계선을 찾아 데이터를 분류하는 방법이며, 서포트 벡터를 가짐\n",
    "   - 서포트 벡터 : 각 클래스의 경계선에 가장 가까이 있는 데이터 및 경계선의 거리를 나타내는 벡터\n",
    "   - 이 서포트 벡터의 거리합을 최대회함으로써 경계선을 결정하는 방법\n",
    "   - 분류할 경계선이 두 클래스 중 가장 먼 곳에 그려지므로, 로지스틱 회귀에 비해 일반화하기 쉽고, 분류예측이 향상되며 설계가 쉬움\n",
    "   - 단점 : 데이터량 증가시 계산량 증가로, 다른 방법에 비해 학습과 예측이 느려짐\n",
    "   - 로지스틱 회귀와 마찬가지로, 직선의 경계선을 그릴 수 있는(선형 분리 가능한) 입력데이터여야 제대로 분리가 가능함\n",
    "   \n",
    "   **구현**\n",
    "   - scikit-learn의 svm서브모듈에 있는 LinearSVC()를 사용"
   ]
  },
  {
   "cell_type": "code",
   "execution_count": 17,
   "metadata": {},
   "outputs": [
    {
     "name": "stdout",
     "output_type": "stream",
     "text": [
      "1.0\n"
     ]
    }
   ],
   "source": [
    "# 16-11 선형 SVM의 예(1)\n",
    "from sklearn.svm import LinearSVC\n",
    "from sklearn.datasets import make_classification\n",
    "from sklearn.model_selection import train_test_split\n",
    "\n",
    "# 데이터를 생성합니다.\n",
    "X, y = make_classification(n_samples=100, n_features=2, n_redundant=0, random_state=42)\n",
    "\n",
    "# 데이터를 지도 데이터 및 예측 데이터로 나눕니다\n",
    "train_X, test_X, train_y, test_y = train_test_split(X, y, random_state=42)\n",
    "\n",
    "# 모델을 구축합니다.\n",
    "model = LinearSVC()\n",
    "\n",
    "# 모델을 학습시킵니다.\n",
    "model.fit(train_X, train_y)\n",
    "\n",
    "# 정확도를 출력합니다.\n",
    "print(model.score(test_X, test_y))"
   ]
  },
  {
   "cell_type": "markdown",
   "metadata": {},
   "source": [
    "####  SVM도 로지스틱 회귀처럼 경계선을 출력할 수 있다."
   ]
  },
  {
   "cell_type": "code",
   "execution_count": 19,
   "metadata": {},
   "outputs": [
    {
     "data": {
      "image/png": "[encoded data removed]",
      "text/plain": [
       "<Figure size 432x288 with 1 Axes>"
      ]
     },
     "metadata": {
      "needs_background": "light"
     },
     "output_type": "display_data"
    }
   ],
   "source": [
    "# 16-12 선형 SVM의 예(2)\n",
    "import matplotlib\n",
    "import matplotlib.pyplot as plt\n",
    "import numpy as np\n",
    "\n",
    "%matplotlib inline\n",
    "\n",
    "# 생성된 데이터를 플롯합니다.\n",
    "plt.scatter(\n",
    "    X[:, 0], X[:,1],\n",
    "    c=y,\n",
    "    marker=\".\",\n",
    "    cmap=matplotlib.cm.get_cmap(name=\"bwr\"),\n",
    "    alpha=0.7\n",
    ")\n",
    "\n",
    "# 학습해서 도출한 식별 경계선을 플롯합니다.\n",
    "Xi = np.linspace(-10, 10)\n",
    "Y = -model.coef_[0][0] / model.coef_[0][1] * Xi - model.intercept_ / model.coef_[0][1]\n",
    "\n",
    "# 그래프로 그립니다.\n",
    "plt.plot(Xi, Y)\n",
    "\n",
    "# 그래프의 스케일을 조정합니다.\n",
    "plt.xlim(min(X[:, 0]) - 0.5, max(X[:, 0]) + 0.5)\n",
    "plt.ylim(min(X[:, 1]) - 0.5, max(X[:, 1]) + 0.5)\n",
    "plt.axes().set_aspect(\"equal\", \"datalim\")\n",
    "\n",
    "# 그래프에 제목을 설정합니다.\n",
    "plt.title(\"classification data using LinearSVC\")\n",
    "\n",
    "# X축과 Y축 이름을 설정합니다.\n",
    "plt.xlabel(\"x-axis\")\n",
    "plt.ylabel(\"y-axis\")\n",
    "plt.show()"
   ]
  },
  {
   "cell_type": "code",
   "execution_count": 21,
   "metadata": {},
   "outputs": [
    {
     "name": "stdout",
     "output_type": "stream",
     "text": [
      "1.0\n"
     ]
    },
    {
     "data": {
      "image/png": "[encoded data removed]",
      "text/plain": [
       "<Figure size 432x288 with 1 Axes>"
      ]
     },
     "metadata": {
      "needs_background": "light"
     },
     "output_type": "display_data"
    }
   ],
   "source": [
    "# 16-13\n",
    "# 선형 SVM으로 데이터의 분류를 학습하고, test_X와 test_y를 사용하여 모델의 정확도를 출력하세요\n",
    "# 패키지를 import\n",
    "import numpy as np\n",
    "import matplotlib\n",
    "import matplotlib.pyplot as plt\n",
    "from sklearn.svm import LinearSVC\n",
    "from sklearn.model_selection import train_test_split\n",
    "from sklearn.datasets import make_classification  \n",
    "%matplotlib inline\n",
    "\n",
    "# 데이터를 생성합니다.\n",
    "X, y = make_classification(\n",
    "    n_samples=100,\n",
    "    n_features=2,\n",
    "    n_redundant=0,\n",
    "    random_state=42\n",
    ")\n",
    "train_X, test_X, train_y, test_y = train_test_split(X, y, random_state=42)\n",
    "\n",
    "# 다음 코드를 작성하세요\n",
    "# 모델을 구축하세요\n",
    "model = LinearSVC()\n",
    "\n",
    "# train_X와 train_y를 사용해서 모델을 학습시키세요\n",
    "model.fit(train_X, train_y)\n",
    "\n",
    "# test_X와 test_y를 이용한 모델의 정확도를 출력하세요\n",
    "print(model.score(test_X, test_y))\n",
    "\n",
    "# 코드 편집은 여기까지입니다.\n",
    "# 생성된 데이터를 플롯합니다.\n",
    "plt.scatter(\n",
    "    X[:, 0], X[:, 1],\n",
    "    c=y,\n",
    "    marker=\".\",\n",
    "    cmap=matplotlib.cm.get_cmap(name=\"bwr\"),\n",
    "    alpha=0.7\n",
    ")\n",
    "\n",
    "# 학습해서 도출한 식별 경계선을 플롯합니다.\n",
    "Xi = np.linspace(-10, 10)\n",
    "Y = -model.coef_[0][0] / model.coef_[0][1] * Xi - model.intercept_ / model.coef_[0][1]\n",
    "plt.plot(Xi, Y)\n",
    "\n",
    "# 그래프의 스케일을 조정합니다.\n",
    "plt.xlim(min(X[:, 0]) - 0.5, max(X[:, 0]) + 0.5)\n",
    "plt.ylim(min(X[:, 1]) - 0.5, max(X[:, 1]) + 0.5)\n",
    "plt.axes().set_aspect(\"equal\", \"datalim\")\n",
    "\n",
    "# 그래프에 제목을 설정합니다.\n",
    "plt.title(\"classification data using LinearSVC\")\n",
    "\n",
    "# x축과 y축 이름을 설정합니다.\n",
    "plt.xlabel(\"x-axis\")\n",
    "plt.ylabel(\"y-axis\")\n",
    "plt.show()\n",
    "         "
   ]
  },
  {
   "cell_type": "markdown",
   "metadata": {},
   "source": [
    "### 16.2.3. 비선형 SVM\n",
    " **특징**\n",
    "   - 커널함수(kernel function)라 불리는 변환 공식에 따라, 수학적처리로 데이터 조작 : 비선형 입력데이터가 선형 분리가능해짐\n",
    "   - 이러한 처리를 실시해 SVM을 이용하는 모델이 비선형 SVM\n",
    "   - 데이터 조작 후, 내적 계산이 가능하면 분류가 가능하므로, 커널 트릭kernel trick이라고도 부름\n",
    " **구현**\n",
    "   - scikit-learn의 svm서브모듈에 있는 SVC()메서드를 사용"
   ]
  },
  {
   "cell_type": "code",
   "execution_count": 1,
   "metadata": {},
   "outputs": [
    {
     "name": "stdout",
     "output_type": "stream",
     "text": [
      "0.991\n"
     ]
    }
   ],
   "source": [
    "# 16-15 : 비선형 SVM의 예\n",
    "import matplotlib\n",
    "from sklearn.svm import SVC\n",
    "from sklearn.datasets import make_gaussian_quantiles\n",
    "import matplotlib.pyplot as plt\n",
    "%matplotlib inline\n",
    "\n",
    "# 데이터를 생성합니다\n",
    "# 이 데이터는 선형분리되지 않으므로 다른 데이터를 준비합니다.\n",
    "data, label = make_gaussian_quantiles(\n",
    "    n_samples=1000,\n",
    "    n_classes=2,\n",
    "    n_features=2,\n",
    "    random_state=42\n",
    ")\n",
    "\n",
    "# 모델을 구축합니다.\n",
    "# 선형 분리 가능하지 않은 데이터의 분류에는 LinearSVC대신 SVC를 사용합니다.\n",
    "model = SVC()\n",
    "\n",
    "# 모델을 학습시킵니다\n",
    "model.fit(data, label)\n",
    "\n",
    "# 정확도를 산출합니다\n",
    "print(model.score(data, label))"
   ]
  },
  {
   "cell_type": "code",
   "execution_count": 5,
   "metadata": {},
   "outputs": [
    {
     "name": "stdout",
     "output_type": "stream",
     "text": [
      "비선형 SVM : 0.976\n",
      "선형 SVM : 0.528\n"
     ]
    }
   ],
   "source": [
    "# 16-16\n",
    "from sklearn.svm import LinearSVC\n",
    "from sklearn.svm import SVC\n",
    "from sklearn.model_selection import train_test_split\n",
    "from sklearn.datasets import make_gaussian_quantiles\n",
    "\n",
    "# 데이터를 생성합니다.\n",
    "X, y = make_gaussian_quantiles(\n",
    "    n_samples=1000,\n",
    "    n_classes=2,\n",
    "    n_features=2,\n",
    "    random_state=42\n",
    ")\n",
    "train_X, test_X, train_y, test_y = train_test_split(X, y, random_state=42)\n",
    "\n",
    "# 다음 코드를 작성하세요.\n",
    "# 비선형 SVM을 이용하여 데이터의 분류를 학습하고, test_X와 test_y를 사용하여 모델의 정확도를 출력하세요\n",
    "# 또한 선형 SVM으로도 정확도를 출력해서 두 값을 비교하세요.\n",
    "# 모델을 구축하세요\n",
    "model1 = SVC()\n",
    "model2 = LinearSVC()\n",
    "\n",
    "# train_X와 train_y를 사용해서 모델을 학습시키세요.\n",
    "model1.fit(train_X, train_y)\n",
    "model2.fit(train_X, train_y)\n",
    "\n",
    "# 코드 편집은 여기까지입니다.\n",
    "# 정확도를 산출합니다.\n",
    "print(\"비선형 SVM : {}\".format(model1.score(test_X, test_y)))\n",
    "print(\"선형 SVM : {}\".format(model2.score(test_X, test_y)))"
   ]
  },
  {
   "cell_type": "markdown",
   "metadata": {},
   "source": [
    "### 16.2.4. 결정 트리\n",
    "   - 결정트리decision tree : 지금까지의 로지스틱 회귀나 SVM과는 달리 데이터 요소(독립변수) 각각에 주목한다.\n",
    "   - 요소 내의 값을 경계로 데이터를 분할하여, 데이터가 속하는 클래스를 결정하는 방법이다.\n",
    "   - decision tree에서는 각 독립변수가 종속변수에 얼마나 영향을 미치는지 볼 수 있다.\n",
    "   - 분할을 반복함으로써 갈라져 나가지만, 먼저 분할된 변수가 영향력이 크다고 볼 수 있다.\n",
    "   - 단점 : 선형 분리 가능한 데이터를 받아들이기 힘든 점. 학습이 지도 데이터에 치우치는 점, 일반화 어려운점\n",
    "   \n",
    "  **구현**\n",
    "   - scikit-learn의 tree서브모듈에 있는 DecisionTreeClassfier()를 사용한다"
   ]
  },
  {
   "cell_type": "code",
   "execution_count": 6,
   "metadata": {},
   "outputs": [
    {
     "name": "stdout",
     "output_type": "stream",
     "text": [
      "0.96\n"
     ]
    }
   ],
   "source": [
    "# 16-18 결정 트리의 예\n",
    "from sklearn.datasets import make_classification\n",
    "from sklearn.model_selection import train_test_split\n",
    "\n",
    "X, y = make_classification(\n",
    "    n_samples=100,\n",
    "    n_features=2,\n",
    "    n_redundant=0,\n",
    "    random_state=42\n",
    ")\n",
    "\n",
    "# 학습 데이터와 테스트 데이터로 나눕니다.\n",
    "train_X, test_X, train_y, test_y = train_test_split(X, y, random_state=42)\n",
    "\n",
    "# 모델을 읽어 들입니다.\n",
    "from sklearn.tree import DecisionTreeClassifier\n",
    "\n",
    "# 모델을 구축합니다.\n",
    "model = DecisionTreeClassifier()\n",
    "\n",
    "# 모델을 학습시킵니다.\n",
    "model.fit(train_X, train_y)\n",
    "\n",
    "# 정확도를 산출합니다\n",
    "print(model.score(test_X, test_y))"
   ]
  },
  {
   "cell_type": "code",
   "execution_count": 14,
   "metadata": {},
   "outputs": [
    {
     "name": "stdout",
     "output_type": "stream",
     "text": [
      "0.9094042343673068\n"
     ]
    }
   ],
   "source": [
    "# 16-19 : 결정 트리를 이용하여 데이터 분류를 학습하고, test_X와 test_y를 사용하여 모델의 정확도를 출력하세요\n",
    "# 버섯 데이터를 가져옵니다\n",
    "# 필요한 패키지를 import합니다.\n",
    "import requests\n",
    "import zipfile\n",
    "from io import StringIO\n",
    "import io\n",
    "import pandas as pd\n",
    "\n",
    "# 데이터의 전처리에 필요한 패키지를 import합니다.\n",
    "from sklearn.model_selection import train_test_split\n",
    "from sklearn import preprocessing\n",
    "\n",
    "# url을 지정합니다.\n",
    "mush_data_url = \"https://archive.ics.uci.edu/ml/machine-learning-databases/mushroom/agaricus-lepiota.data\"\n",
    "s = requests.get(mush_data_url).content\n",
    "\n",
    "# 데이터 형식을 변환합니다.\n",
    "mush_data = pd.read_csv(io.StringIO(s.decode(\"utf-8\")), header=None)\n",
    "\n",
    "# 데이터에 이름을 붙입니다 (데이터를 쉽게 취급하기 위해)\n",
    "mush_data.columns = [\n",
    "    \"classes\", \"cap_shape\", \"cap_surface\",\n",
    "    \"cap_color\", \"odor\", \"bruises\",\n",
    "    \"gill_attachment\", \"gill_spacing\",\n",
    "    \"gill_size\", \"gill_color\", \"stalk_shape\",\n",
    "    \"stalk_root\", \"stalk_surface_above_ring\",\n",
    "    \"stalk_surface_below_ring\",\n",
    "    \"stalk_color_above_ring\",\n",
    "    \"stalk_color_below_ring\",\n",
    "    \"veil_type\", \"veil_color\",\"ring_number\",\n",
    "    \"ring_type\", \"spore_print_color\",\n",
    "    \"population\", \"habitat\"\n",
    "]\n",
    "\n",
    "# 카테고리 변수(색상의 종류 등 숫자의 크고 작음을 결정할 수 없는 것) 를 더미 특징량(yes or no)으로 변환합니다.\n",
    "mush_data_dummy = pd.get_dummies(\n",
    "    mush_data[\n",
    "        [\"gill_color\", \"gill_attachment\", \"odor\", \"cap_color\"]\n",
    "    ]\n",
    ")\n",
    "\n",
    "# 종속 변수 : flg(플래그)를 세웁니다.\n",
    "mush_data_dummy[\"flg\"] = mush_data[\"classes\"].map(\n",
    "    lambda x: 1 if x== \"p\" else 0\n",
    ")\n",
    "\n",
    "# 독립변수와 종속변수를 지정합니다.\n",
    "X = mush_data_dummy.drop(\"flg\", axis=1)\n",
    "Y = mush_data_dummy[\"flg\"]\n",
    "\n",
    "# 학습 데이터와 테스트 데이터로 나눕니다.\n",
    "train_X, test_X, train_y, test_y = train_test_split(X, Y, random_state=42)\n",
    "\n",
    "# 다음 코드를 작성하세요\n",
    "# 모델을 읽어 들이세요\n",
    "from sklearn.tree import DecisionTreeClassifier\n",
    "\n",
    "# 모델을 구축하세요\n",
    "model = DecisionTreeClassifier()\n",
    "\n",
    "# 모델을 학습 시키세요\n",
    "model.fit(train_X, train_y)\n",
    "\n",
    "# 코드 편집은 여기까지입니다.\n",
    "\n",
    "# 정확도를 산출합니다.\n",
    "print(model.score(test_X, test_y))\n"
   ]
  },
  {
   "cell_type": "markdown",
   "metadata": {},
   "source": [
    "### 16.2.5. 랜덤 포레스트\n",
    "   - 특징 : 랜덤포레스트random forest는 결정트리의 단순 버전을 여러 개 만들어 분류 결과를 다수결로 결정하는 방법\n",
    "   - 다수의 간이 분류기를 하나의 분류기에 몰아서 학습시키는 앙상블 학습의 일종이다.\n",
    "   - 결정트리에서는 독립변수를 모두 사용하는 반면, 랜덤 포레스트의 각 결정 트리는 랜덤으로 정해진 소수의 독립변수만 사용하여 데이터가 속하는 클래스를 결정한다.\n",
    "   - 결정트리와 마찬가지로 선형분리가 불가능한(복잡한 식별범위를 가진) 데이터셋의 분류가 가능\n",
    "   - 다수의 분류기를 통해 다수결로 결과를 출력하기 때문에 빗나간 값에 의해 예측결과가 좌우되기 힘듬??? (개녕 추가 정리 필요)\n",
    "   - 단점 : 독립변수의 수에 대한 데이터수가 적으면, 결정트리가 분할되지 않아 예측정확도가 떨어짐\n",
    "   \n",
    "  **구현**\n",
    "   - scikit-learn의 ensemble서브모듈에 있는 RandomForestClassifier()를 사용하여 구현한다."
   ]
  },
  {
   "cell_type": "code",
   "execution_count": 15,
   "metadata": {},
   "outputs": [
    {
     "name": "stdout",
     "output_type": "stream",
     "text": [
      "0.96\n"
     ]
    },
    {
     "name": "stderr",
     "output_type": "stream",
     "text": [
      "C:\\Users\\kaori\\Anaconda3\\envs\\PypyDL_book\\lib\\site-packages\\sklearn\\ensemble\\weight_boosting.py:29: DeprecationWarning: numpy.core.umath_tests is an internal NumPy module and should not be imported. It will be removed in a future NumPy release.\n",
      "  from numpy.core.umath_tests import inner1d\n"
     ]
    }
   ],
   "source": [
    "# 랜덤 포레스트의 예\n",
    "from sklearn.datasets import make_classification\n",
    "from sklearn.model_selection import train_test_split\n",
    "\n",
    "X, y = make_classification(\n",
    "    n_samples=100,\n",
    "    n_features=2,\n",
    "    n_redundant=0,\n",
    "    random_state=42\n",
    ")\n",
    "\n",
    "# 학습 데이터와 테스트 데이터로 나눕니다\n",
    "train_X, test_X, train_y, test_y = train_test_split(X, y, random_state=42)\n",
    "\n",
    "# 모델을 읽어 들입니다.\n",
    "from sklearn.ensemble import RandomForestClassifier\n",
    "\n",
    "# 모델을 구축합니다.\n",
    "model = RandomForestClassifier()\n",
    "\n",
    "# 모델을 학습시킵니다\n",
    "model.fit(train_X, train_y)\n",
    "\n",
    "# 정확도를 산출합니다.\n",
    "print(model.score(test_X, test_y))"
   ]
  },
  {
   "cell_type": "code",
   "execution_count": 24,
   "metadata": {},
   "outputs": [
    {
     "name": "stdout",
     "output_type": "stream",
     "text": [
      "RandomForeset :\t 0.9094042343673068\n",
      "DecisionTree  :\t 0.9094042343673068\n"
     ]
    }
   ],
   "source": [
    "# 16-22\n",
    "# 버섯 데이터를 가져옵니다.\n",
    "# 필요한 패키지를 import합니다\n",
    "import requests\n",
    "import zipfile\n",
    "from io import StringIO\n",
    "import io\n",
    "import pandas as pd\n",
    "\n",
    "# 데이터의 전처리에 필요한 패키지를 import\n",
    "from sklearn.model_selection import train_test_split\n",
    "from sklearn import preprocessing\n",
    "\n",
    "# url을 지정합니다.\n",
    "mush_data_url = \"https://archive.ics.uci.edu/ml/machine-learning-databases/mushroom/agaricus-lepiota.data\"\n",
    "s = requests.get(mush_data_url).content\n",
    "\n",
    "# 데이터 형식을 변환합니다.\n",
    "mush_data = pd.read_csv(io.StringIO(s.decode(\"utf-8\")), header=None)\n",
    "\n",
    "# 데이터에 이름을 붙입니다. (데이터를 쉽게 취급하기 위해)\n",
    "mush_data.columns = [\n",
    "    \"classes\", \"cap_shape\", \"cap_surface\",\n",
    "    \"cap_color\", \"odor\", \"bruises\",\n",
    "    \"gill_attachment\", \"gill_spacing\",\n",
    "    \"gill_size\", \"gill_color\", \"stalk_shape\",\n",
    "    \"stalk_root\", \"stalk_surface_above_ring\",\n",
    "    \"stalk_surface_below_ring\",\n",
    "    \"stalk_color_above_ring\",\n",
    "    \"stalk_color_below_ring\",\n",
    "    \"veil_type\", \"veil_color\",\"ring_number\",\n",
    "    \"ring_type\", \"spore_print_color\",\n",
    "    \"population\", \"habitat\"\n",
    "]\n",
    "\n",
    "# 카테고리 변수(색상의 종류 등 숫자의 크고 작음을 결정할 수 없는 것)를 더미 특징량(yes or no)으로 변환합니다.\n",
    "mush_data_dummy = pd.get_dummies(\n",
    "    mush_data[\n",
    "        [\"gill_color\", \"gill_attachment\", \"odor\", \"cap_color\"]\n",
    "    ]\n",
    ")\n",
    "\n",
    "# 종속변수 : flg(플래그)를 세웁니다\n",
    "mush_data_dummy[\"flg\"] = mush_data[\"classes\"].map(\n",
    "    lambda x: 1 if x == \"p\" else 0\n",
    ")\n",
    "\n",
    "# 독립변수와 종속변수를 지정합니다.\n",
    "X = mush_data_dummy.drop(\"flg\", axis=1)\n",
    "Y = mush_data_dummy[\"flg\"]\n",
    "\n",
    "# 학습 데이터와 테스트 데이터로 나눕니다.\n",
    "train_X, test_X, train_y, test_y = train_test_split(X, Y, random_state=42)\n",
    "\n",
    "# 모델을 읽어 들이세요\n",
    "from sklearn.ensemble import RandomForestClassifier\n",
    "from sklearn.tree import DecisionTreeClassifier\n",
    "\n",
    "# 모델을 구축하세요\n",
    "model = RandomForestClassifier()\n",
    "modeltree = DecisionTreeClassifier()\n",
    "\n",
    "# 모델을 학습 시키세요\n",
    "model.fit(train_X, train_y)\n",
    "modeltree.fit(train_X, train_y)\n",
    "\n",
    "# 정확도를 산출하세요\n",
    "print(\"RandomForeset :\\t\", model.score(test_X, test_y))\n",
    "print(\"DecisionTree  :\\t\", modeltree.score(test_X, test_y))"
   ]
  },
  {
   "cell_type": "markdown",
   "metadata": {},
   "source": [
    "### 16.2.6. k-NN\n",
    "   - 특징 : k-NN : k-nearest neighbor algorithm은 k-최근접 이웃 알고리즘이라 부름\n",
    "   - 예측할 데이터와 유사한 데이터 몇 개를 찾아내 다수결로 분류 결과를 결정하는 게으른 학습lazy learning\n",
    "   - 학습 비용(학습에 소요되는 계산량)이 0이다.\n",
    "   - k-NN은 지금까지 소개한 방식과 달리, 지도 데이터로 학습하는 것이 아니라, 지도데이터를 직접 참조하여, 라벨을 예측한다\n",
    "   - 결과 예측방법 :\n",
    "      (1) 지도 데이터를 예측에 사용될 데이터와의 유사도로 재정렬한다.\n",
    "      (2) 분류기에 설정된 k개의 데이터를 유사도가 높은 순으로 참조한다.\n",
    "      (3) 참조된 지도 데이터가 속한 클래스 중 가장 많았던 것을 예측 결과로 출력한다.\n",
    "      \n",
    "   - 단점 : 분류기로 지정한 자연수 k수를 늘리면 식별 범위의 평균화가 진행되어 예측정확도가 저하, 계산량증가(느린 알고리즘)\n",
    "   \n",
    "   **구현**\n",
    "   - scikit-learn의 neighbor서브모듈에 있는 KNeighborsClassifier()를 사용"
   ]
  },
  {
   "cell_type": "code",
   "execution_count": 28,
   "metadata": {},
   "outputs": [
    {
     "name": "stdout",
     "output_type": "stream",
     "text": [
      "1.0\n"
     ]
    }
   ],
   "source": [
    "# 16-24 : k-NN의 예\n",
    "from sklearn.datasets import make_classification\n",
    "from sklearn.model_selection import train_test_split\n",
    "\n",
    "X, y = make_classification(\n",
    "    n_samples=100,\n",
    "    n_features=2,\n",
    "    n_redundant=0,\n",
    "    random_state=42\n",
    ")\n",
    "\n",
    "# 학습 데이터와 테스트 데이터로 나눕니다\n",
    "train_X, test_X, train_y, test_y = train_test_split(X, y, random_state=42)\n",
    "\n",
    "# 모델을 읽어 들입니다\n",
    "from sklearn.neighbors import KNeighborsClassifier\n",
    "\n",
    "# 모델을 구축합니다\n",
    "model = KNeighborsClassifier()\n",
    "\n",
    "# 모델을 학습시킵니다\n",
    "model.fit(train_X, train_y)\n",
    "\n",
    "# 정확도를 산출합니다\n",
    "print(model.score(test_X, test_y))"
   ]
  },
  {
   "cell_type": "code",
   "execution_count": 30,
   "metadata": {},
   "outputs": [
    {
     "name": "stdout",
     "output_type": "stream",
     "text": [
      "0.9039881831610044\n"
     ]
    }
   ],
   "source": [
    "# 16-25\n",
    "# 버섯 데이터를 가져옵니다\n",
    "# 필요한 패키지를 import합니다\n",
    "import requests\n",
    "import zipfile\n",
    "from io import StringIO\n",
    "import io\n",
    "import pandas as pd\n",
    "from sklearn.model_selection import train_test_split\n",
    "from sklearn import preprocessing\n",
    "\n",
    "# url을 지정합니다.\n",
    "mush_data_url =\"https://archive.ics.uci.edu/ml/machine-learning-databases/mushroom/agaricus-lepiota.data\"\n",
    "s= requests.get(mush_data_url).content\n",
    "\n",
    "# 데이터 형식을 변환합니다.\n",
    "mush_data = pd.read_csv(io.StringIO(s.decode(\"utf-8\")), header=None)\n",
    "\n",
    "# 데이터에 이름을 붙입니다 (데이터를 쉽게 취급하기 위해)\n",
    "mush_data.columns = [\n",
    "    \"classes\", \"cap_shape\", \"cap_surface\",\n",
    "    \"cap_color\", \"odor\", \"bruises\",\n",
    "    \"gill_attachment\", \"gill_spacing\",\n",
    "    \"gill_size\", \"gill_color\", \"stalk_shape\",\n",
    "    \"stalk_root\", \"stalk_surface_above_ring\",\n",
    "    \"stalk_surface_below_ring\",\n",
    "    \"stalk_color_above_ring\",\n",
    "    \"stalk_color_below_ring\",\n",
    "    \"veil_type\", \"veil_color\",\"ring_number\",\n",
    "    \"ring_type\", \"spore_print_color\",\n",
    "    \"population\", \"habitat\"\n",
    "]\n",
    "\n",
    "# 카테고리 변수 (색상의 종류 등 숫자의 크고 작음을 결정할 수 없는 것)를 더미 특징량(yes or no)으로 변환합니다\n",
    "mush_data_dummy = pd.get_dummies(\n",
    "    mush_data[\n",
    "        [\"gill_color\", \"gill_attachment\", \"odor\", \"cap_color\"]\n",
    "    ]\n",
    ")\n",
    "\n",
    "# 종속변수 : flag(플래그)를 세웁니다\n",
    "mush_data_dummy[\"flg\"] = mush_data[\"classes\"].map(\n",
    "    lambda x: 1 if x==\"p\" else 0\n",
    ")\n",
    "\n",
    "# 독립변수와 종속변수를 지정합니다.\n",
    "X = mush_data_dummy.drop(\"flg\", axis=1)\n",
    "Y = mush_data_dummy[\"flg\"]\n",
    "\n",
    "# 학습 데이터와 테스트 데이터로 나눕니다.\n",
    "train_X, test_X, train_y, test_y = train_test_split(X, Y, random_state=42)\n",
    "\n",
    "# 모델을 읽어 들이세요\n",
    "from sklearn.neighbors import KNeighborsClassifier\n",
    "\n",
    "# 모델을 구축하세요\n",
    "model = KNeighborsClassifier()\n",
    "\n",
    "\n",
    "# 모델을 학습시키세요\n",
    "model.fit(train_X, train_y)\n",
    "\n",
    "# 정확도를 표시하세요\n",
    "print(model.score(test_X, test_y))"
   ]
  },
  {
   "cell_type": "markdown",
   "metadata": {},
   "source": [
    "## 연습문제"
   ]
  },
  {
   "cell_type": "code",
   "execution_count": 31,
   "metadata": {},
   "outputs": [
    {
     "name": "stdout",
     "output_type": "stream",
     "text": [
      "로지스틱회귀\n",
      "정확도 :0.88\n",
      "\n",
      "선형 SVM\n",
      "정확도 :0.88\n",
      "\n",
      "비선형 SVM\n",
      "정확도 :0.915\n",
      "\n",
      "결정 트리\n",
      "정확도 :0.92\n",
      "\n",
      "랜덤 포레스트\n",
      "정확도 :0.94\n",
      "\n"
     ]
    }
   ],
   "source": [
    "# 16-27\n",
    "from sklearn.datasets import make_classification\n",
    "from sklearn.model_selection import train_test_split\n",
    "from sklearn.linear_model import LogisticRegression\n",
    "from sklearn.svm import LinearSVC\n",
    "from sklearn.svm import SVC\n",
    "from sklearn.tree import DecisionTreeClassifier\n",
    "from sklearn.ensemble import RandomForestClassifier\n",
    "\n",
    "# 데이터 X, 라벨 y를 생성하세요\n",
    "# sample = 1000, feature=2, random_state=42\n",
    "X, y = make_classification(\n",
    "    n_samples=1000,\n",
    "    n_features=2,\n",
    "    n_redundant=0,\n",
    "    random_state=42\n",
    ")\n",
    "\n",
    "# 학습 데이터와 테스트 데이터로 나누세요\n",
    "train_X, test_X, train_y, test_y = train_test_split(X, y, test_size=0.2, random_state=42)\n",
    "\n",
    "# 모델을 구축하세요\n",
    "model_list = {\n",
    "    '로지스틱회귀': LogisticRegression(),\n",
    "    '선형 SVM': LinearSVC(),\n",
    "    '비선형 SVM': SVC(),\n",
    "    '결정 트리': DecisionTreeClassifier(),\n",
    "    '랜덤 포레스트': RandomForestClassifier()\n",
    "}\n",
    "\n",
    "# for문으로 모델을 학습시키고, 정확도를 출력하세요\n",
    "for model_name, model in model_list.items():\n",
    "    # 모델을 학습시킵니다\n",
    "    model.fit(train_X, train_y)\n",
    "    print(model_name)\n",
    "    # 정확도를 출력하세요\n",
    "    print('정확도 :'+ str(model.score(test_X, test_y)))\n",
    "    print()\n",
    "\n",
    "#"
   ]
  },
  {
   "cell_type": "code",
   "execution_count": null,
   "metadata": {},
   "outputs": [],
   "source": []
  }
 ],
 "metadata": {
  "kernelspec": {
   "display_name": "Python 3",
   "language": "python",
   "name": "python3"
  },
  "language_info": {
   "codemirror_mode": {
    "name": "ipython",
    "version": 3
   },
   "file_extension": ".py",
   "mimetype": "text/x-python",
   "name": "python",
   "nbconvert_exporter": "python",
   "pygments_lexer": "ipython3",
   "version": "3.6.10"
  }
 },
 "nbformat": 4,
 "nbformat_minor": 4
}
