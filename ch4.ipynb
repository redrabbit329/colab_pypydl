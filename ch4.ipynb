{
  "nbformat": 4,
  "nbformat_minor": 0,
  "metadata": {
    "colab": {
      "name": "Untitled0.ipynb의 사본",
      "provenance": [],
      "authorship_tag": "ABX9TyMNCMgGKVEFQghj1cbnNI3m",
      "include_colab_link": true
    },
    "kernelspec": {
      "name": "python3",
      "display_name": "Python 3"
    }
  },
  "cells": [
    {
      "cell_type": "markdown",
      "metadata": {
        "id": "view-in-github",
        "colab_type": "text"
      },
      "source": [
        "<a href=\"https://colab.research.google.com/github/redrabbit329/colab_pypydl/blob/master/ch4.ipynb\" target=\"_parent\"><img src=\"https://colab.research.google.com/assets/colab-badge.svg\" alt=\"Open In Colab\"/></a>"
      ]
    },
    {
      "cell_type": "code",
      "metadata": {
        "id": "v7FfkqfGCZIE",
        "colab_type": "code",
        "outputId": "cd23e240-7adc-4658-b35b-38d7a41ce19a",
        "colab": {
          "base_uri": "https://localhost:8080/",
          "height": 51
        }
      },
      "source": [
        "print('Hello world')\n",
        "print(\"Hello world\")"
      ],
      "execution_count": 5,
      "outputs": [
        {
          "output_type": "stream",
          "text": [
            "Hello world\n",
            "Hello world\n"
          ],
          "name": "stdout"
        }
      ]
    },
    {
      "cell_type": "code",
      "metadata": {
        "id": "80q5jj5UDWTQ",
        "colab_type": "code",
        "colab": {
          "base_uri": "https://localhost:8080/",
          "height": 51
        },
        "outputId": "a468fcf9-029f-4096-e329-78c8e8627131"
      },
      "source": [
        "# 5+2 의 결과를 출력합니다\n",
        "print(5+2)\n",
        "# 8+3의 결과를 출력합니다\n",
        "print(8+3)   "
      ],
      "execution_count": 4,
      "outputs": [
        {
          "output_type": "stream",
          "text": [
            "7\n",
            "11\n"
          ],
          "name": "stdout"
        }
      ]
    },
    {
      "cell_type": "markdown",
      "metadata": {
        "id": "jNNQJ1DYEPqy",
        "colab_type": "text"
      },
      "source": [
        "4.1.4. 숫자와 문자열"
      ]
    },
    {
      "cell_type": "markdown",
      "metadata": {
        "id": "ajWUhto4EMUt",
        "colab_type": "text"
      },
      "source": [
        ""
      ]
    },
    {
      "cell_type": "code",
      "metadata": {
        "id": "xDPvSx1xEYEw",
        "colab_type": "code",
        "colab": {
          "base_uri": "https://localhost:8080/",
          "height": 51
        },
        "outputId": "9ca229f1-87cf-41c5-f6a5-cef3dc155f5c"
      },
      "source": [
        "print(3+6)\n",
        "print(\"8 - 3\")"
      ],
      "execution_count": 6,
      "outputs": [
        {
          "output_type": "stream",
          "text": [
            "9\n",
            "8 - 3\n"
          ],
          "name": "stdout"
        }
      ]
    },
    {
      "cell_type": "markdown",
      "metadata": {
        "id": "Fb5ewjogFCes",
        "colab_type": "text"
      },
      "source": [
        "따옴표로 묶여 있는 경우 문자열(str)이 되며, 묶여있지 않은 경우 정수형(int)으로 출력됨"
      ]
    },
    {
      "cell_type": "code",
      "metadata": {
        "id": "GtvuPFPWE3Qq",
        "colab_type": "code",
        "colab": {
          "base_uri": "https://localhost:8080/",
          "height": 69
        },
        "outputId": "64e51592-d155-4483-ea4f-7a9b036f05b5"
      },
      "source": [
        "# 모두 print()함수를 이용하여 출력하기\n",
        "# 숫자 18을 출력하기\n",
        "print('18')\n",
        "# 2+6 을 계산하고 결과를 출력하기\n",
        "print(2+6)\n",
        "# '2+6'이라는 문자열을 출력하기\n",
        "print('2+6')"
      ],
      "execution_count": 10,
      "outputs": [
        {
          "output_type": "stream",
          "text": [
            "18\n",
            "8\n",
            "2+6\n"
          ],
          "name": "stdout"
        }
      ]
    },
    {
      "cell_type": "markdown",
      "metadata": {
        "id": "0AfMFH8uGoW2",
        "colab_type": "text"
      },
      "source": [
        "4.1.5. 연산자 : 산술 연산자 +-*/ %(나머지), **(지수)\n"
      ]
    },
    {
      "cell_type": "code",
      "metadata": {
        "id": "XrPa4OKWFTsF",
        "colab_type": "code",
        "colab": {
          "base_uri": "https://localhost:8080/",
          "height": 121
        },
        "outputId": "be0c1df6-a66a-434e-8c77-3b9779551e1b"
      },
      "source": [
        "# 3+5 의 결과를 출력하세요\n",
        "print(3+5)\n",
        "# 3-5 의 결과를 출력하세요\n",
        "print(3-5)\n",
        "# 3x5 의 결과를 출력하세요\n",
        "print(3*5)\n",
        "# 3/5 의 결과를 출력하세요\n",
        "print(3/5)\n",
        "# 3을 5로 나눈 나머지를 출력하세요\n",
        "print(3%5)\n",
        "# 3의 5승의 결과를 출력하세요\n",
        "print(3**5)\n",
        "# 모두 print()함수를 이용하여 출력하세요"
      ],
      "execution_count": 11,
      "outputs": [
        {
          "output_type": "stream",
          "text": [
            "8\n",
            "-2\n",
            "15\n",
            "0.6\n",
            "3\n",
            "243\n"
          ],
          "name": "stdout"
        }
      ]
    },
    {
      "cell_type": "markdown",
      "metadata": {
        "id": "QMgnXjLBH81a",
        "colab_type": "text"
      },
      "source": [
        "4.2. 변수\n",
        "4.2.1. 변수 정의 : '변수명 = 값' , 우변의 값을 좌변의 변수명에 대입(저장)"
      ]
    },
    {
      "cell_type": "code",
      "metadata": {
        "id": "5jyRzS3HISIy",
        "colab_type": "code",
        "colab": {
          "base_uri": "https://localhost:8080/",
          "height": 34
        },
        "outputId": "ac6f47fe-432b-4718-cd82-49b6d9d9650a"
      },
      "source": [
        "n = \"강아지\"\n",
        "print(n)"
      ],
      "execution_count": 12,
      "outputs": [
        {
          "output_type": "stream",
          "text": [
            "강아지\n"
          ],
          "name": "stdout"
        }
      ]
    },
    {
      "cell_type": "markdown",
      "metadata": {
        "id": "FkLBUewEI7_E",
        "colab_type": "text"
      },
      "source": [
        "변수명의 규칙 : 1. 알파벳(대문자/소문자),2. 숫자, 3. _ (밑줄 문자)\n",
        "예약어, 키워드, 함수명을 변수명으로 사용해도 당장 에러가 나지 않지만, 같은 이름의 처리문을 사용할 때 오류가 발생"
      ]
    },
    {
      "cell_type": "code",
      "metadata": {
        "id": "IUx_ZpeuJE1P",
        "colab_type": "code",
        "colab": {}
      },
      "source": [
        "# print를 변수명에 사용555"
      ],
      "execution_count": 0,
      "outputs": []
    }
  ]
}