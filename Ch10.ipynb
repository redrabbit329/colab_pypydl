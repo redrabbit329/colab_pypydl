{
  "nbformat": 4,
  "nbformat_minor": 0,
  "metadata": {
    "kernelspec": {
      "display_name": "Python 3",
      "language": "python",
      "name": "python3"
    },
    "language_info": {
      "codemirror_mode": {
        "name": "ipython",
        "version": 3
      },
      "file_extension": ".py",
      "mimetype": "text/x-python",
      "name": "python",
      "nbconvert_exporter": "python",
      "pygments_lexer": "ipython3",
      "version": "3.6.10"
    },
    "colab": {
      "name": "Ch10.ipynb",
      "provenance": [],
      "include_colab_link": true
    }
  },
  "cells": [
    {
      "cell_type": "markdown",
      "metadata": {
        "id": "view-in-github",
        "colab_type": "text"
      },
      "source": [
        "<a href=\"https://colab.research.google.com/github/redrabbit329/colab_pypydl/blob/master/Ch10.ipynb\" target=\"_parent\"><img src=\"https://colab.research.google.com/assets/colab-badge.svg\" alt=\"Open In Colab\"/></a>"
      ]
    },
    {
      "cell_type": "markdown",
      "metadata": {
        "id": "kgp67RmX1BFe",
        "colab_type": "text"
      },
      "source": [
        "# Chapter10. 데이터 시각화\n",
        "## 10.1. 다양한 그래프\n",
        "### 10.1.1. 꺾은선 그래프\n",
        "   - 꺾은선 그래프는 가로축에 시간, 세로축에 추세를 대응시켜 보기 좋다\n",
        "\n",
        "### 10.1.2. 막대 그래프\n",
        "   - 항목을 가로축에 나열하고, 해당 항목의 값을 수직으로 나타낸 그래프\n",
        "   \n",
        "### 10.1.3. 히스토그램\n",
        "   - 데이터를 계급별로 나눈 도수(같은 계급에 속하는 자료 수)를 시각화한 그래프\n",
        "   - 도수분포표 라고도 한다.\n",
        "   - 1차원 데이터(제품 길이 측정자료) 분포를 시각화할 때 적합하다\n",
        "   \n",
        "### 10.1.4. 산포도\n",
        "   - 한 데이터의 두 가지 항목을 평면상의 x축과 y축에 각각 대응시켜 점을 찍은그래프\n",
        "   - 점의 색상과 크기를 활용하여 총 세 개의 항목을 평면상에 시각화 가능\n",
        "   \n",
        "### 10.1.5. 원그래프\n",
        "   - 파이차트Pie Chart : 전체에 대한 각 부분의 비율에 따라 중심각도를 할당한그래프\n",
        "   - 어떤 항목의 비율을 전체와 비교할 때, 적합한 시각화\n",
        "   \n",
        "## 10.2. 난수 생성\n",
        "### 10.2.1. 시드 설정\n",
        "   - 컴퓨터는 Seed를 바탕으로 난수를 생성한다.\n",
        "   - Seed는 난수 생성의 기반이 되는 설정값이다.\n",
        "   - Sedd값을 고정하면 [동일한 난수열]을 생성할 수 있다.\n",
        "     즉, 동일한 난수열을 사용해 같은 결과를 재현할 수 있다.\n",
        "     \n",
        "   - 시드를 직접설정하지 않으면, 컴퓨터의 현재 시간을 시드로 사용하기 떄문에\n",
        "     매번 다른 난수가 출력된다.\n",
        "   - numpy.random.seed()에 정수값을 전달하여 시드를 설정할 수 있다."
      ]
    },
    {
      "cell_type": "code",
      "metadata": {
        "id": "Vw4W-U7x1BFf",
        "colab_type": "code",
        "colab": {},
        "outputId": "6f58acc3-ec24-4159-c631-0c1cd0315a46"
      },
      "source": [
        "# 10-1\n",
        "import numpy as np\n",
        "\n",
        "# Seed를 설정하지 않았을 때, 난수가 일치하는지 확인\n",
        "# X와 Y에 각각 다섯 개의 난수를 저장한다.\n",
        "X = np.random.randn(5)\n",
        "Y = np.random.randn(5)\n",
        "\n",
        "# X, Y값을 출력한다\n",
        "print(\"시드를 설정하지 않았을 때\")\n",
        "print(\"X : \", X)\n",
        "print(\"Y : \", Y)\n",
        "\n",
        "# Seed를 설정\n",
        "np.random.seed(0)\n",
        "\n",
        "# 난수열을 변수에 대입한다\n",
        "x = np.random.randn(5)\n",
        "\n",
        "# 동일한 시드를 설정하여 초기화\n",
        "np.random.seed(0)\n",
        "\n",
        "# 다시 난수열을 만들어 다른 변수에 대입\n",
        "y = np.random.randn(5)\n",
        "\n",
        "# x, y값이 일치하는지 확인\n",
        "print(\"시드를 설정했을 때\")\n",
        "print(\"x : \", x)\n",
        "print(\"y : \", y)\n"
      ],
      "execution_count": 0,
      "outputs": [
        {
          "output_type": "stream",
          "text": [
            "시드를 설정하지 않았을 때\n",
            "X :  [-1.06874908 -0.41523397  0.41802967  0.2129372   1.17133288]\n",
            "Y :  [-0.84165108  1.78592679  0.52354729  1.24609137  0.34531925]\n",
            "시드를 설정했을 때\n",
            "x :  [1.76405235 0.40015721 0.97873798 2.2408932  1.86755799]\n",
            "y :  [1.76405235 0.40015721 0.97873798 2.2408932  1.86755799]\n"
          ],
          "name": "stdout"
        }
      ]
    },
    {
      "cell_type": "markdown",
      "metadata": {
        "id": "IjnqBeRW1BFi",
        "colab_type": "text"
      },
      "source": [
        "### 10.2.2. 정규분포에 따른 난수 생성\n",
        "   - numpy.random.randn()으로 생성한 수치를 플롯한 히스토그램은 정규분포"
      ]
    },
    {
      "cell_type": "code",
      "metadata": {
        "id": "YRpgxEWE1BFi",
        "colab_type": "code",
        "colab": {},
        "outputId": "9a233bfd-a3f1-4488-af3c-cb600fc57b29"
      },
      "source": [
        "# 10-3\n",
        "import numpy as np\n",
        "import matplotlib.pyplot as plt\n",
        "\n",
        "%matplotlib inline\n",
        "np.random.seed(0)\n",
        "x = np.random.randn(10000)\n",
        "\n",
        "plt.hist(x, bins='auto')\n",
        "plt.show()"
      ],
      "execution_count": 0,
      "outputs": [
        {
          "output_type": "display_data",
          "data": {
            "image/png": "[encoded data removed]",
            "text/plain": [
              "<Figure size 432x288 with 1 Axes>"
            ]
          },
          "metadata": {
            "tags": [],
            "needs_background": "light"
          }
        }
      ]
    },
    {
      "cell_type": "markdown",
      "metadata": {
        "id": "3VHAHaHI1BFl",
        "colab_type": "text"
      },
      "source": [
        "###  10.2.3. 이항분포에 따른 난수 생성\n",
        "   - numpy.random.binomial()은 어떤 시도의 결과로 성공과 실패 중 하나를 반환\n",
        "   - numpy.random.binomial(실험반복횟수,성공확률,size=정수값)"
      ]
    },
    {
      "cell_type": "code",
      "metadata": {
        "id": "uRxyuVBQ1BFl",
        "colab_type": "code",
        "colab": {},
        "outputId": "a1f2c579-e88a-4d86-8e6f-a5a257b9556e"
      },
      "source": [
        "# 10-5\n",
        "import numpy as np\n",
        "#시드를 설정합니다\n",
        "np.random.seed(0)\n",
        "# 성공확률 0.5로 100번 시도했을 때 성공 횟수를 구하는 실험을 10000회 반복하여 변수 nums에 대입하세요\n",
        "nums = np.random.binomial(100,0.5,size=10000)\n",
        "# nums의 성공횟수에서 성공확률의 평균을 출력하세요\n",
        "print(nums.mean()/100)"
      ],
      "execution_count": 0,
      "outputs": [
        {
          "output_type": "stream",
          "text": [
            "0.49832\n"
          ],
          "name": "stdout"
        }
      ]
    },
    {
      "cell_type": "markdown",
      "metadata": {
        "id": "Vgb2uWwS1BFn",
        "colab_type": "text"
      },
      "source": [
        "###  10.2.4. 리스트에서 무작위로 선택\n",
        "   - numpy.random.choice()에 리스트형의 데이터x와 정수값n을 전달하면 리스트형의 데이터 중에서 랜덤으로 뽑은 결과를 전달한 정수개만큼 반환한다\n",
        "   - numpy.random.choice(listX,N)"
      ]
    },
    {
      "cell_type": "code",
      "metadata": {
        "id": "_RBznp_21BFo",
        "colab_type": "code",
        "colab": {},
        "outputId": "1b663008-4c9a-473c-9082-c9a112f1bba3"
      },
      "source": [
        "# 10-7\n",
        "import numpy as np\n",
        "\n",
        "x = ['Apple','Orange','Banana','Pineapple','Kiwifruit','Strawberry']\n",
        "\n",
        "# 시드를 설정한다.\n",
        "np.random.seed(0)\n",
        "\n",
        "# x에서 무작위로 5개 선택하여 y에 대입\n",
        "y = np.random.choice(x,5)\n",
        "print(y)"
      ],
      "execution_count": 0,
      "outputs": [
        {
          "output_type": "stream",
          "text": [
            "['Kiwifruit' 'Strawberry' 'Apple' 'Pineapple' 'Pineapple']\n"
          ],
          "name": "stdout"
        }
      ]
    },
    {
      "cell_type": "markdown",
      "metadata": {
        "id": "Eisxae5M1BFq",
        "colab_type": "text"
      },
      "source": [
        "##  10.3. 시간 데이터\n",
        "### 10.3.1. datetime형\n",
        "   - 시계열 데이터를 다룰 때 datetime.datetime(년,월,일,시,분,초,밀리초)를 지정하면 시각데이터 datetime객체를 반환한다.\n",
        "   - 년,월,일을 순차적으로 전달하지않고, 'day=일','month=월','year=년'처럼 별도로 지정해서 설정할 수도 있다."
      ]
    },
    {
      "cell_type": "code",
      "metadata": {
        "id": "plIy6WPQ1BFr",
        "colab_type": "code",
        "colab": {},
        "outputId": "e8a95a72-0527-483c-e185-d2098368cc98"
      },
      "source": [
        "# 10-10\n",
        "import datetime as dt\n",
        "\n",
        "# 1992년 10월 22일을 나타내는 datetime객체를 생성하여 x에 할당하세요\n",
        "x = dt.datetime(1992,10,22)\n",
        "print(x)\n",
        "print(dt.datetime(2014,9,17,13,37))"
      ],
      "execution_count": 0,
      "outputs": [
        {
          "output_type": "stream",
          "text": [
            "1992-10-22 00:00:00\n",
            "2014-09-17 13:37:00\n"
          ],
          "name": "stdout"
        }
      ]
    },
    {
      "cell_type": "markdown",
      "metadata": {
        "id": "qHV0hJFd1BFs",
        "colab_type": "text"
      },
      "source": [
        "###  10.3.2. timedelta형\n",
        "   - datetime.timedelta형은 시간의 길이를 나타내는 데이터형이다\n",
        "   - datetime.timedelta(일,초)를 지정하면, 시간 데이터를 나타내는 timedelta객체를 반환한다."
      ]
    },
    {
      "cell_type": "code",
      "metadata": {
        "id": "BKTL_s6C1BFt",
        "colab_type": "code",
        "colab": {},
        "outputId": "b652784d-6193-4aa5-a407-1067bd4e84a7"
      },
      "source": [
        "# 10-11\n",
        "import datetime as dt\n",
        "# 한시간 반을 나타내는 timedelta 객체를 만들어 x에 대입하세요\n",
        "x = dt.timedelta(hours=1, minutes=30)\n",
        "print(x)"
      ],
      "execution_count": 0,
      "outputs": [
        {
          "output_type": "stream",
          "text": [
            "1:30:00\n"
          ],
          "name": "stdout"
        }
      ]
    },
    {
      "cell_type": "markdown",
      "metadata": {
        "id": "VuLtT89v1BFv",
        "colab_type": "text"
      },
      "source": [
        "###  10.3.3. datatime형과 timedelta형의 연산\n",
        "   - datetime객체와 timedelta객체는 서로 더하거나 뺼 수 있다.\n",
        "   - timedelta형은 정수와 곱할수 있으며, timedelta끼리 연산할 수 있다"
      ]
    },
    {
      "cell_type": "code",
      "metadata": {
        "id": "5GQybOK51BFv",
        "colab_type": "code",
        "colab": {},
        "outputId": "473a117e-bbc8-4fcc-80df-dfe8b4c48def"
      },
      "source": [
        "# 10-13\n",
        "import datetime as dt\n",
        "\n",
        "# 1992년 10월 22일을 나타내는 datetime객체를 생성하여 x에 대입하세요\n",
        "x = dt.datetime(1992,10,22)\n",
        "print(x)\n",
        "# x에서 1일 후를 나타내는 datetime객체를 y에 대입하세요\n",
        "print(dt.timedelta(1)) \n",
        "y = x + dt.timedelta(1)\n",
        "print(y)"
      ],
      "execution_count": 0,
      "outputs": [
        {
          "output_type": "stream",
          "text": [
            "1992-10-22 00:00:00\n",
            "1 day, 0:00:00\n",
            "1992-10-23 00:00:00\n"
          ],
          "name": "stdout"
        }
      ]
    },
    {
      "cell_type": "markdown",
      "metadata": {
        "id": "oHq7NQGr1BFx",
        "colab_type": "text"
      },
      "source": [
        "###  10.3.4. 시각을 나타내는 문자열로 datetime객체 만들기\n",
        "   - datetime을 사용하여 문자열에서 datetime객체를 완성할 수 있다.\n",
        "   - 문자열 s가 \"년-월-일 시-분-초\"형식일 경우, dt.datetime.strptime(s,\"%Y-%m-%d %H-%M-%S\")로 datetime객체를생성하여 반환한다."
      ]
    },
    {
      "cell_type": "code",
      "metadata": {
        "id": "-uutMmAc1BFx",
        "colab_type": "code",
        "colab": {},
        "outputId": "ce8ed749-355c-4a1f-efcb-2f83f81818a4"
      },
      "source": [
        "# 10-15\n",
        "import datetime as dt\n",
        "# 1992년 10월 22일을 나타내는 문자열을 \"년-월-일\" 형식으로 s에 대입하세요\n",
        "s = \"1992-10-22\"\n",
        "print(s)\n",
        "print()\n",
        "\n",
        "# s를 변환하여 1992년 10월 22일을 나타내는 datetime객체를 x에 대입하세요\n",
        "x = dt.datetime.strptime(s, \"%Y-%m-%d\")\n",
        "print(x)"
      ],
      "execution_count": 0,
      "outputs": [
        {
          "output_type": "stream",
          "text": [
            "1992-10-22\n",
            "\n",
            "1992-10-22 00:00:00\n"
          ],
          "name": "stdout"
        }
      ]
    },
    {
      "cell_type": "markdown",
      "metadata": {
        "id": "W6PBuriZ1BFz",
        "colab_type": "text"
      },
      "source": [
        "##  10.4. 데이터 조작\n",
        "### 10.4.1. 문자열을 숫자로 형 변환하기\n",
        "   - 숫자로만 이루어진 문자열을 int()와 float()에 전달하면 수치형으로 변환할 수 있다"
      ]
    },
    {
      "cell_type": "code",
      "metadata": {
        "id": "KrfuHQhb1BFz",
        "colab_type": "code",
        "colab": {},
        "outputId": "5d0e3c1a-b184-4a1d-f337-4a7b122fec56"
      },
      "source": [
        "# 10-17\n",
        "# 문자열을 대입\n",
        "x = '64'\n",
        "y = '16'\n",
        "\n",
        "# x와 y를 int()를 사용하여 변환한 뒤, x와 y의 합을 z에 대입\n",
        "z = int(x) + int(y)\n",
        "print(z)"
      ],
      "execution_count": 0,
      "outputs": [
        {
          "output_type": "stream",
          "text": [
            "80\n"
          ],
          "name": "stdout"
        }
      ]
    },
    {
      "cell_type": "markdown",
      "metadata": {
        "id": "S3XXNNV71BF1",
        "colab_type": "text"
      },
      "source": [
        "###  10.4.2. 같은 간격의 수열 생성하기(1)\n",
        "   - 리스트 요소에 순서를 매기거나 짝수열(0.2.4....)만 원할 경우 등에는 numpy.arange()를 사용하면 편리하다.\n",
        "   - numpy.arange(시작값, 끝값-1, 간격) 으로 시작값부터 끝값까지의 수열을 지정한 간격으로 반환한다.\n",
        "   - numpy.arange(0,5,2) 끝값은 직전 값까지이므로, np.arange(0,4,2)으로 지정하면 0부터 2까지의 짝수열이 되므로 주의할것\""
      ]
    },
    {
      "cell_type": "code",
      "metadata": {
        "id": "oyGUsPuZ1BF1",
        "colab_type": "code",
        "colab": {},
        "outputId": "c66d8b87-414e-4502-8c32-e2b50ca37fc0"
      },
      "source": [
        "# 10-19\n",
        "import numpy as np\n",
        "x = np.arange(0,11,2)\n",
        "print(x)"
      ],
      "execution_count": 0,
      "outputs": [
        {
          "output_type": "stream",
          "text": [
            "[ 0  2  4  6  8 10]\n"
          ],
          "name": "stdout"
        }
      ]
    },
    {
      "cell_type": "markdown",
      "metadata": {
        "id": "hgv4ua071BF4",
        "colab_type": "text"
      },
      "source": [
        "###  10.4.3. 같은 간격의 수열 생성하기(2)\n",
        "   - 원하는 범위의 임의의 개수로 분할하고 싶을 때, numpy.linspace()를 사용해 등간격으로 수열을 생성한다\n",
        "   - numpy.linspace(시작값, 끝값, 분할 개수)를 전달시, 지정한 개수로 분할한 결과를 반환한다."
      ]
    },
    {
      "cell_type": "code",
      "metadata": {
        "id": "lwXDvlHx1BF4",
        "colab_type": "code",
        "colab": {},
        "outputId": "f5dd92f7-8a57-45cd-aef9-abe91230bb92"
      },
      "source": [
        "# 10-21\n",
        "import numpy as np\n",
        "# 0~10, 5\n",
        "x = np.linspace(1,10,5)\n",
        "print(x)"
      ],
      "execution_count": 0,
      "outputs": [
        {
          "output_type": "stream",
          "text": [
            "[ 1.    3.25  5.5   7.75 10.  ]\n"
          ],
          "name": "stdout"
        }
      ]
    },
    {
      "cell_type": "markdown",
      "metadata": {
        "id": "ncfVqDgl1BF6",
        "colab_type": "text"
      },
      "source": [
        "# 연습문제\n",
        "### matplotlib를 이용한 히스토그램 작성"
      ]
    },
    {
      "cell_type": "code",
      "metadata": {
        "id": "o-dEbp3Z1BF6",
        "colab_type": "code",
        "colab": {},
        "outputId": "3326d55c-85bc-458c-819a-0b82d7058fc1"
      },
      "source": [
        "# 10-23\n",
        "import matplotlib.pyplot as plt\n",
        "import numpy as np\n",
        "\n",
        "np.random.seed(0)\n",
        "\n",
        "# 균등 난수를 10000개 생성하여 random_number_1에 대입\n",
        "random_number_1 = np.random.rand(10000)\n",
        "\n",
        "# 정규분포를 따르는 난수를 10000개 생성하여 random_number_2에 대입\n",
        "random_number_2 = np.random.randn(10000)\n",
        "\n",
        "# 이항분포를 따르는 난수를 10000개 생성하여 random_number_3에 대입, 성공확률은 0.5\n",
        "random_number_3 = np.random.binomial(100,0.5,size=(10000))\n",
        "\n",
        "plt.figure(figsize=(5,5))\n",
        "\n",
        "# 균등 난수를 히스토그램으로 표시한다. bins는 50으로 지정한다\n",
        "plt.hist(random_number_1, bins=50)\n",
        "\n",
        "plt.title('uniform_distribution')\n",
        "plt.grid(True)\n",
        "plt.show()\n",
        "\n",
        "plt.figure(figsize=(5,5))\n",
        "\n",
        "# 정규분포를 따르는 난수를 히스토그램으로 표시. bins는 50으로 지정\n",
        "plt.hist(random_number_2, bins=50)\n",
        "\n",
        "plt.title('normal_distribution')\n",
        "plt.grid(True)\n",
        "plt.show()\n",
        "\n",
        "plt.figure(figsize=(5,5))\n",
        "\n",
        "# 이항분포를 따르는 난수를 히스토그램으로 표시함. bins는 50으로 지정\n",
        "plt.hist(random_number_3, bins=50)\n",
        "\n",
        "plt.title('binomial_distribution')\n",
        "plt.grid(True)\n",
        "plt.show()\n"
      ],
      "execution_count": 0,
      "outputs": [
        {
          "output_type": "display_data",
          "data": {
            "image/png": "[encoded data removed]",
            "text/plain": [
              "<Figure size 360x360 with 1 Axes>"
            ]
          },
          "metadata": {
            "tags": [],
            "needs_background": "light"
          }
        },
        {
          "output_type": "display_data",
          "data": {
            "image/png": "[encoded data removed]",
            "text/plain": [
              "<Figure size 360x360 with 1 Axes>"
            ]
          },
          "metadata": {
            "tags": [],
            "needs_background": "light"
          }
        },
        {
          "output_type": "display_data",
          "data": {
            "image/png": "[encoded data removed]",
            "text/plain": [
              "<Figure size 360x360 with 1 Axes>"
            ]
          },
          "metadata": {
            "tags": [],
            "needs_background": "light"
          }
        }
      ]
    },
    {
      "cell_type": "code",
      "metadata": {
        "id": "fiB6oPsL1BF8",
        "colab_type": "code",
        "colab": {}
      },
      "source": [
        ""
      ],
      "execution_count": 0,
      "outputs": []
    }
  ]
}