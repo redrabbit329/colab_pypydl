{
  "nbformat": 4,
  "nbformat_minor": 0,
  "metadata": {
    "colab": {
      "name": "Untitled1.ipynb",
      "provenance": [],
      "collapsed_sections": [],
      "authorship_tag": "ABX9TyM1cLxrFPVnazArZ2ZS6gZ6",
      "include_colab_link": true
    },
    "kernelspec": {
      "name": "python3",
      "display_name": "Python 3"
    }
  },
  "cells": [
    {
      "cell_type": "markdown",
      "metadata": {
        "id": "view-in-github",
        "colab_type": "text"
      },
      "source": [
        "<a href=\"https://colab.research.google.com/github/redrabbit329/colab_pypydl/blob/master/Ch5.ipynb\" target=\"_parent\"><img src=\"https://colab.research.google.com/assets/colab-badge.svg\" alt=\"Open In Colab\"/></a>"
      ]
    },
    {
      "cell_type": "code",
      "metadata": {
        "id": "pFV-j09KJQpQ",
        "colab_type": "code",
        "colab": {}
      },
      "source": [
        ""
      ],
      "execution_count": 0,
      "outputs": []
    },
    {
      "cell_type": "markdown",
      "metadata": {
        "id": "sXRtku2GJWz0",
        "colab_type": "text"
      },
      "source": [
        "5.1.6. 리스트 요소 갱신 및 추가 : '리스트[값덱스 번호] = 값' 을 사용하면, 지정한 인덱스 요소의 값을 갱신할 수 있음\n",
        "- 리스트에 요소를 추가하고 싶은 경우 : 리스트와 리스트를 + 기호로 연결\n",
        "-  '리스트명.append(추가할 요소)' 로 추가할 수도 있음\n",
        "- append() 메서드를 사용 시 동시에 여러 개를 추가할 수 있음"
      ]
    },
    {
      "cell_type": "code",
      "metadata": {
        "id": "x7A6IRi9KKJy",
        "colab_type": "code",
        "colab": {
          "base_uri": "https://localhost:8080/",
          "height": 51
        },
        "outputId": "2f5aa229-c94a-4330-89c2-fbba024023e4"
      },
      "source": [
        "# 리스트 요소 갱신 및 추가\n",
        "alphabet = [\"a\",\"b\",\"c\",\"d\",\"e\"]\n",
        "alphabet[0] = \"A\"\n",
        "alphabet[1:3] = [\"B\", \"C\"]\n",
        "print(alphabet)\n",
        "\n",
        "alphabet = alphabet + [\"f\"]\n",
        "alphabet += [\"g\",\"h\"]\n",
        "alphabet.append(\"i\")\n",
        "print(alphabet)"
      ],
      "execution_count": 1,
      "outputs": [
        {
          "output_type": "stream",
          "text": [
            "['A', 'B', 'C', 'd', 'e']\n",
            "['A', 'B', 'C', 'd', 'e', 'f', 'g', 'h', 'i']\n"
          ],
          "name": "stdout"
        }
      ]
    },
    {
      "cell_type": "code",
      "metadata": {
        "id": "tgK3q7IoLAar",
        "colab_type": "code",
        "colab": {
          "base_uri": "https://localhost:8080/",
          "height": 34
        },
        "outputId": "6b4e84ad-5210-47cd-aaba-4d147e5aa885"
      },
      "source": [
        "d=[\"dog\",\"blud\",\"yellow\"]\n",
        "# 변수 c의 첫 요소를 \"red\"로 갱신하세요\n",
        "d[0] = \"red\"\n",
        "print(d)"
      ],
      "execution_count": 15,
      "outputs": [
        {
          "output_type": "stream",
          "text": [
            "['red', 'blud', 'yellow']\n"
          ],
          "name": "stdout"
        }
      ]
    },
    {
      "cell_type": "code",
      "metadata": {
        "id": "zqTibknqLbOL",
        "colab_type": "code",
        "colab": {
          "base_uri": "https://localhost:8080/",
          "height": 34
        },
        "outputId": "6e72b71a-c6d9-49ad-add2-21a0676e7205"
      },
      "source": [
        "# 리스트 끝에 문자열 'green'을 추가하세요\n",
        "d = d + [\"green\"]\n",
        "print(d)\n"
      ],
      "execution_count": 16,
      "outputs": [
        {
          "output_type": "stream",
          "text": [
            "['red', 'blud', 'yellow', 'green']\n"
          ],
          "name": "stdout"
        }
      ]
    },
    {
      "cell_type": "code",
      "metadata": {
        "id": "ako3sPvpLxEN",
        "colab_type": "code",
        "colab": {}
      },
      "source": [
        "d.append(\"purple\")"
      ],
      "execution_count": 0,
      "outputs": []
    },
    {
      "cell_type": "code",
      "metadata": {
        "id": "Wioomz_dMzl0",
        "colab_type": "code",
        "colab": {
          "base_uri": "https://localhost:8080/",
          "height": 34
        },
        "outputId": "bf88de94-4e26-41a3-ee23-a179b4f65cad"
      },
      "source": [
        "print(d)"
      ],
      "execution_count": 18,
      "outputs": [
        {
          "output_type": "stream",
          "text": [
            "['red', 'blud', 'yellow', 'green', 'purple']\n"
          ],
          "name": "stdout"
        }
      ]
    },
    {
      "cell_type": "code",
      "metadata": {
        "id": "7pFcMdtJM1bm",
        "colab_type": "code",
        "colab": {
          "base_uri": "https://localhost:8080/",
          "height": 34
        },
        "outputId": "2594eddd-10fa-486f-9820-cb3dea389b8b"
      },
      "source": [
        "d.append(\"brown\")\n",
        "print(d)"
      ],
      "execution_count": 21,
      "outputs": [
        {
          "output_type": "stream",
          "text": [
            "['red', 'blud', 'yellow', 'green', 'purple', 'brown']\n"
          ],
          "name": "stdout"
        }
      ]
    },
    {
      "cell_type": "code",
      "metadata": {
        "id": "jJuqCW0RM7ZJ",
        "colab_type": "code",
        "colab": {}
      },
      "source": [
        ""
      ],
      "execution_count": 0,
      "outputs": []
    },
    {
      "cell_type": "markdown",
      "metadata": {
        "id": "0rxlh-wcNDtP",
        "colab_type": "text"
      },
      "source": [
        "5.1.7. 텍스트 요소 삭제\n",
        "- 리스트 요소를 삭제하려면 'del 리스트[인덱스번호]'라고 기술한다.\n",
        "- 그러면 지정한 인덱스 번호의 요소가 삭제된다.\n",
        "- 인덱스 번호는 슬라이스로 지정할 수도 있다."
      ]
    },
    {
      "cell_type": "code",
      "metadata": {
        "id": "ZMsXdNj2Nal-",
        "colab_type": "code",
        "colab": {
          "base_uri": "https://localhost:8080/",
          "height": 34
        },
        "outputId": "6ed82374-5d36-496f-8eaf-b29594ae67d8"
      },
      "source": [
        "# 리스트에서 요소를 삭제하는 방법\n",
        "alphabet = [\"a\",\"b\",\"c\",\"d\",\"e\"]\n",
        "del alphabet[3:]\n",
        "print(alphabet)"
      ],
      "execution_count": 22,
      "outputs": [
        {
          "output_type": "stream",
          "text": [
            "['a', 'b', 'c']\n"
          ],
          "name": "stdout"
        }
      ]
    },
    {
      "cell_type": "code",
      "metadata": {
        "id": "MFGnul5kQ2N1",
        "colab_type": "code",
        "colab": {
          "base_uri": "https://localhost:8080/",
          "height": 34
        },
        "outputId": "60b7077b-9641-4a9f-f6c8-feefbb018a33"
      },
      "source": [
        "del alphabet[0]\n",
        "print(alphabet)"
      ],
      "execution_count": 23,
      "outputs": [
        {
          "output_type": "stream",
          "text": [
            "['b', 'c']\n"
          ],
          "name": "stdout"
        }
      ]
    },
    {
      "cell_type": "code",
      "metadata": {
        "id": "LgGU6aDdREKM",
        "colab_type": "code",
        "colab": {
          "base_uri": "https://localhost:8080/",
          "height": 34
        },
        "outputId": "a5bc5460-ef2c-4bee-fd7f-8f4f2fd03d28"
      },
      "source": [
        "# 변수 C의 첫 번째 요소를 제거하세요\n",
        "c = [\"dog\",\"blue\",\"yellow\"]\n",
        "del c[0]\n",
        "print(c)"
      ],
      "execution_count": 25,
      "outputs": [
        {
          "output_type": "stream",
          "text": [
            "['blue', 'yellow']\n"
          ],
          "name": "stdout"
        }
      ]
    },
    {
      "cell_type": "code",
      "metadata": {
        "id": "_xdFUdEjRS8W",
        "colab_type": "code",
        "colab": {}
      },
      "source": [
        ""
      ],
      "execution_count": 0,
      "outputs": []
    },
    {
      "cell_type": "markdown",
      "metadata": {
        "id": "zl-einzcRX28",
        "colab_type": "text"
      },
      "source": [
        "5.1.8. 리스트형의 주의점\n",
        "리스트 변수를 다른 변수에 대입한 뒤, 대입한 변수에서 값을 바꾸면, 원래의 변수의 값도 바뀌어 버린다. 이를 막기 위해 y = x 대신 y = x[:] 또는 y = list(x)라고 쓰면 된다."
      ]
    },
    {
      "cell_type": "code",
      "metadata": {
        "id": "-3C9z89uR2Vb",
        "colab_type": "code",
        "colab": {
          "base_uri": "https://localhost:8080/",
          "height": 34
        },
        "outputId": "4e4d56cc-fd41-4cf1-a226-1acf8cfb59d1"
      },
      "source": [
        "alphabet = [\"a\",\"b\",\"c\"]\n",
        "alphabet_copy = alphabet\n",
        "alphabet_copy[0] = \"A\"\n",
        "print(alphabet)   # 원래 리스트의 요소가 같이 변경되어 버림"
      ],
      "execution_count": 28,
      "outputs": [
        {
          "output_type": "stream",
          "text": [
            "['A', 'b', 'c']\n"
          ],
          "name": "stdout"
        }
      ]
    },
    {
      "cell_type": "code",
      "metadata": {
        "id": "RYoUdWvmSFfC",
        "colab_type": "code",
        "colab": {
          "base_uri": "https://localhost:8080/",
          "height": 34
        },
        "outputId": "99993d1e-09aa-4fce-eb4c-68904fe1ca7c"
      },
      "source": [
        "alphabet = [\"a\",\"b\",\"c\"]\n",
        "alphabet_copy = alphabet[:]\n",
        "alphabet_copy[0] = \"A\"\n",
        "print(alphabet)   # 원래 리스트의 요소는 변경되지 않음"
      ],
      "execution_count": 29,
      "outputs": [
        {
          "output_type": "stream",
          "text": [
            "['a', 'b', 'c']\n"
          ],
          "name": "stdout"
        }
      ]
    },
    {
      "cell_type": "code",
      "metadata": {
        "id": "zbzNKy0cSSVV",
        "colab_type": "code",
        "colab": {
          "base_uri": "https://localhost:8080/",
          "height": 34
        },
        "outputId": "99631b23-1f63-4aae-f8c3-5d89c429f929"
      },
      "source": [
        "alphabet = [\"a\",\"b\",\"c\"]\n",
        "alphabet_copy = list(alphabet)\n",
        "alphabet_copy[0] = \"A\"\n",
        "print(alphabet)   # 원래 리스트의 요소는 변경되지 않음"
      ],
      "execution_count": 30,
      "outputs": [
        {
          "output_type": "stream",
          "text": [
            "['a', 'b', 'c']\n"
          ],
          "name": "stdout"
        }
      ]
    },
    {
      "cell_type": "code",
      "metadata": {
        "id": "qIDR4tXMScdk",
        "colab_type": "code",
        "colab": {
          "base_uri": "https://localhost:8080/",
          "height": 34
        },
        "outputId": "dab9ecef-ab5b-47c3-dace-d3d351b4679a"
      },
      "source": [
        "# 변수 c의 값이 변하지 않도록 c_copy = c 부분을 록정하세요\n",
        "c=[\"red\",\"blue\",\"yellow\"]\n",
        "c_copy = list(c)   # copy to list c value\n",
        "c_copy[1] = \"green\"\n",
        "print(c)"
      ],
      "execution_count": 32,
      "outputs": [
        {
          "output_type": "stream",
          "text": [
            "['red', 'blue', 'yellow']\n"
          ],
          "name": "stdout"
        }
      ]
    },
    {
      "cell_type": "code",
      "metadata": {
        "id": "vXSzh_4WS_QL",
        "colab_type": "code",
        "colab": {}
      },
      "source": [
        ""
      ],
      "execution_count": 0,
      "outputs": []
    },
    {
      "cell_type": "markdown",
      "metadata": {
        "id": "GI1106OhTKyn",
        "colab_type": "text"
      },
      "source": [
        "5.2 딕셔너리\n",
        "5.2.1. 딕셔너리 형\n",
        " - 리스트처럼 여러 데이터를 다룰 때 쓰인다.\n",
        " - 리스트와 달리, 키와 값이 쌍으로 연겨되어 있어, 키값을 통해 연결되어 있는 값을 얻는다. JSON과 비슷한 자료형이라고 기억해 두면 좋겠다.\n",
        " - 작성방법 : {키1: 값1, 키2: 값2, ...}\n",
        " - 문자열의 경우에는 따옴표로 감싸준다."
      ]
    },
    {
      "cell_type": "code",
      "metadata": {
        "id": "Xr9sFqwfT38P",
        "colab_type": "code",
        "colab": {
          "base_uri": "https://localhost:8080/",
          "height": 34
        },
        "outputId": "777c2e51-2c63-4c06-bc60-734a03e21ba3"
      },
      "source": [
        "dic = {\"Japen\":\"Tokyu\",\"Korea\":\"Seoul\"}\n",
        "print(dic)"
      ],
      "execution_count": 33,
      "outputs": [
        {
          "output_type": "stream",
          "text": [
            "{'Japen': 'Tokyu', 'Korea': 'Seoul'}\n"
          ],
          "name": "stdout"
        }
      ]
    },
    {
      "cell_type": "code",
      "metadata": {
        "id": "JBzLi6R_UNl6",
        "colab_type": "code",
        "colab": {
          "base_uri": "https://localhost:8080/",
          "height": 51
        },
        "outputId": "b30f3d51-bc76-466c-ffe7-506d27eba2c3"
      },
      "source": [
        "# 변수 'town'에 다음 키와 값을 가진 딕셔너리를 만들어 저장하세요\n",
        "# 키1:경기도, 값1:수원, 키2:서울, 값2:중구\n",
        "town = {\"경기도\":\"수원\", \"서울\":\"중구\"}\n",
        "print(town)\n",
        "print(type(town))"
      ],
      "execution_count": 35,
      "outputs": [
        {
          "output_type": "stream",
          "text": [
            "{'경기도': '수원', '서울': '중구'}\n",
            "<class 'dict'>\n"
          ],
          "name": "stdout"
        }
      ]
    },
    {
      "cell_type": "code",
      "metadata": {
        "id": "03biy2iVU2Iv",
        "colab_type": "code",
        "colab": {}
      },
      "source": [
        ""
      ],
      "execution_count": 0,
      "outputs": []
    },
    {
      "cell_type": "markdown",
      "metadata": {
        "id": "vgLCYmAQU76C",
        "colab_type": "text"
      },
      "source": [
        "5.2.2. 딕셔너리 요소 추출\n",
        "- 딕셔너리 요소를 추출할 때는 딕셔너리명[\"키\"]라고 입력합니다."
      ]
    },
    {
      "cell_type": "code",
      "metadata": {
        "id": "oXHCxeWZVKRz",
        "colab_type": "code",
        "colab": {
          "base_uri": "https://localhost:8080/",
          "height": 34
        },
        "outputId": "1db9d213-2c46-4bb1-bb83-39657347cbcf"
      },
      "source": [
        "# 딕셔너리 요소를 추출하는 예\n",
        "dic = {\"Japan\":\"Tokyo\", \"Korea\":\"Seoul\"}\n",
        "print(dic[\"Japan\"])"
      ],
      "execution_count": 37,
      "outputs": [
        {
          "output_type": "stream",
          "text": [
            "Tokyo\n"
          ],
          "name": "stdout"
        }
      ]
    },
    {
      "cell_type": "code",
      "metadata": {
        "id": "5JYKLQJ6VjT7",
        "colab_type": "code",
        "colab": {
          "base_uri": "https://localhost:8080/",
          "height": 51
        },
        "outputId": "0a0109f4-7271-4d87-c020-179efb4cfe0e"
      },
      "source": [
        "# 딕셔너리 town의 값을 이용하여 \" 경기도의 중심 도시는 수원입니다\"라고 출력하세요\n",
        "# 딕셔너리 town의 값을 이용하여, \"서울의 중심 도시는 중구입니다\" 라고 출력하세요\n",
        "# 출력은 print()함수를 이용하세요\n",
        "town = {\"경기도\":\"수원\",\"서울\":\"중구\"}\n",
        "print(\"경기도의 중심 도시는 \"+town[\"경기도\"]+\"입니다\")\n",
        "print(\"서울의 중심 도시는 \"+town[\"서울\"]+\"입니다\")"
      ],
      "execution_count": 41,
      "outputs": [
        {
          "output_type": "stream",
          "text": [
            "경기도의 중심 도시는 수원입니다\n",
            "서울의 중심 도시는 중구입니다\n"
          ],
          "name": "stdout"
        }
      ]
    },
    {
      "cell_type": "code",
      "metadata": {
        "id": "3ZIaMV-bWrm6",
        "colab_type": "code",
        "colab": {}
      },
      "source": [
        ""
      ],
      "execution_count": 0,
      "outputs": []
    },
    {
      "cell_type": "markdown",
      "metadata": {
        "id": "RPYlakh5W7rT",
        "colab_type": "text"
      },
      "source": [
        "5.2.3. 딕셔너리 갱신 및 추가\n",
        "- 딕셔너리 요소를 갱신할 때는 '딕셔너리명[\"값을 갱신할 키\"]=값'이라쓰고\n",
        "- 딕셔너리 요소를 추가할 때는 '딕셔너리명[\"추가할 키\"]='이라 쓴다."
      ]
    },
    {
      "cell_type": "code",
      "metadata": {
        "id": "in-PVZdpXW86",
        "colab_type": "code",
        "colab": {
          "base_uri": "https://localhost:8080/",
          "height": 34
        },
        "outputId": "b27aa934-d400-47ba-cc43-210de72aab4c"
      },
      "source": [
        "# 딕셔너리 갱신 및 추가의 예\n",
        "dic = {\"Japan\":\"Tokyo\", \"Korea\":\"Seoul\"}\n",
        "# 딕셔너리 갱신\n",
        "dic[\"Japan\"] = \"Osaka\"\n",
        "# 추가\n",
        "dic[\"China\"]=\"Beijin\"\n",
        "print(dic)"
      ],
      "execution_count": 43,
      "outputs": [
        {
          "output_type": "stream",
          "text": [
            "{'Japan': 'Osaka', 'Korea': 'Seoul', 'China': 'Beijin'}\n"
          ],
          "name": "stdout"
        }
      ]
    },
    {
      "cell_type": "code",
      "metadata": {
        "id": "iASoJa0QZxFo",
        "colab_type": "code",
        "colab": {
          "base_uri": "https://localhost:8080/",
          "height": 34
        },
        "outputId": "a8d0cb18-0c9f-473f-ef5d-f883b0c9fea0"
      },
      "source": [
        "town = {\"경기도\":\"수원\", \"서울\":\"중구\"}\n",
        "# 키 \"제주도\" 키값 \"제주시\"를 추가 후 출력\n",
        "town[\"제주도\"] = \"제주시\"\n",
        "print(town)"
      ],
      "execution_count": 44,
      "outputs": [
        {
          "output_type": "stream",
          "text": [
            "{'경기도': '수원', '서울': '중구', '제주도': '제주시'}\n"
          ],
          "name": "stdout"
        }
      ]
    },
    {
      "cell_type": "code",
      "metadata": {
        "id": "5WqwVpslaWzh",
        "colab_type": "code",
        "colab": {
          "base_uri": "https://localhost:8080/",
          "height": 34
        },
        "outputId": "80369e5f-839b-4de6-b030-fe1a89fc9572"
      },
      "source": [
        "# 경기도 값을 분당으로 변경한 후 출력하세요\n",
        "town[\"경기도\"] = \"분당\"\n",
        "print(town)"
      ],
      "execution_count": 45,
      "outputs": [
        {
          "output_type": "stream",
          "text": [
            "{'경기도': '분당', '서울': '중구', '제주도': '제주시'}\n"
          ],
          "name": "stdout"
        }
      ]
    },
    {
      "cell_type": "code",
      "metadata": {
        "id": "hzBLFLHbai0M",
        "colab_type": "code",
        "colab": {}
      },
      "source": [
        ""
      ],
      "execution_count": 0,
      "outputs": []
    },
    {
      "cell_type": "markdown",
      "metadata": {
        "id": "ytQsEssYaqIV",
        "colab_type": "text"
      },
      "source": [
        "5.2.4. 딕셔너리 요소의 삭제\n",
        "- 딕셔너리 삭제도 리스트와 같이 '딕셔너리명[\"삭제할 키\"]'라고 적는다."
      ]
    },
    {
      "cell_type": "code",
      "metadata": {
        "id": "TT_L7vd4a3da",
        "colab_type": "code",
        "colab": {
          "base_uri": "https://localhost:8080/",
          "height": 34
        },
        "outputId": "208bb59d-ee71-4468-8ac3-8656f437ee6c"
      },
      "source": [
        "# 딕셔너리 요소 삭제의 예\n",
        "dic = {\"Japen\":\"Tokyo\",\"Korea\":\"Seoul\",\"China\":\"Beijin\"}\n",
        "del dic[\"China\"]\n",
        "print(dic)"
      ],
      "execution_count": 46,
      "outputs": [
        {
          "output_type": "stream",
          "text": [
            "{'Japen': 'Tokyo', 'Korea': 'Seoul'}\n"
          ],
          "name": "stdout"
        }
      ]
    },
    {
      "cell_type": "code",
      "metadata": {
        "id": "kaB3Z37qbRoA",
        "colab_type": "code",
        "colab": {
          "base_uri": "https://localhost:8080/",
          "height": 34
        },
        "outputId": "8d6b1dcf-9efa-4fc8-a59a-15553b20f946"
      },
      "source": [
        "# 키가 '경기도'인 요소를 삭제하세요.\n",
        "town = {\"경기도\":\"분당\",\"서울\":\"중구\",\"제주도\":\"제주시\"}\n",
        "del town[\"경기도\"]\n",
        "print(town)"
      ],
      "execution_count": 47,
      "outputs": [
        {
          "output_type": "stream",
          "text": [
            "{'서울': '중구', '제주도': '제주시'}\n"
          ],
          "name": "stdout"
        }
      ]
    },
    {
      "cell_type": "code",
      "metadata": {
        "id": "hIRGm7VDbm_L",
        "colab_type": "code",
        "colab": {}
      },
      "source": [
        ""
      ],
      "execution_count": 0,
      "outputs": []
    },
    {
      "cell_type": "markdown",
      "metadata": {
        "id": "4LXcutZfbpYn",
        "colab_type": "text"
      },
      "source": [
        "5.3. while문\n",
        "5.3.1. while문 1\n",
        "- while문을 이용하면, 주어진 조건식이 false가 될 때까지 전처리를 반복(루프)할 수 있다. \n",
        "- if처럼, while 조건식:...이라고 기술한다.\n",
        "- 조건식이 True인 동안 While문의 처리가 반복된다."
      ]
    },
    {
      "cell_type": "code",
      "metadata": {
        "id": "qg3xv07NeSrP",
        "colab_type": "code",
        "colab": {
          "base_uri": "https://localhost:8080/",
          "height": 51
        },
        "outputId": "3dcc9e64-49e5-47ea-fca7-c6d02b20110a"
      },
      "source": [
        "# While문의 예\n",
        "n=2\n",
        "while n>0:\n",
        "  print(n)\n",
        "  n-=1\n",
        "  "
      ],
      "execution_count": 48,
      "outputs": [
        {
          "output_type": "stream",
          "text": [
            "2\n",
            "1\n"
          ],
          "name": "stdout"
        }
      ]
    },
    {
      "cell_type": "code",
      "metadata": {
        "id": "s85txnQAeZ30",
        "colab_type": "code",
        "colab": {
          "base_uri": "https://localhost:8080/",
          "height": 69
        },
        "outputId": "030d44bd-c3f5-4771-d5f3-68c87d44bb18"
      },
      "source": [
        "x=5\n",
        "while x>0:\n",
        "  print(\"Hanbit\")\n",
        "  x-=2"
      ],
      "execution_count": 49,
      "outputs": [
        {
          "output_type": "stream",
          "text": [
            "Hanbit\n",
            "Hanbit\n",
            "Hanbit\n"
          ],
          "name": "stdout"
        }
      ]
    },
    {
      "cell_type": "code",
      "metadata": {
        "id": "So1bsFmleshr",
        "colab_type": "code",
        "colab": {}
      },
      "source": [
        ""
      ],
      "execution_count": 0,
      "outputs": []
    },
    {
      "cell_type": "markdown",
      "metadata": {
        "id": "SuNmQlagetyV",
        "colab_type": "text"
      },
      "source": [
        "5.3.2. while문 2\n",
        "문제 : while문을 사용하여 변수 x가 0이 아닌 동안 반복하도록 만드세요\n",
        "반복문 안에서는 변수 x에서 1을 빼고, x 값을 출력하세요\n",
        "출력은 print()함수를 사용\n",
        "다음처럼 실행결과가 나오게 만드세요\n",
        "4\n",
        "3\n",
        "2\n",
        "1\n",
        "0"
      ]
    },
    {
      "cell_type": "code",
      "metadata": {
        "id": "r5YUI3IefBFw",
        "colab_type": "code",
        "colab": {
          "base_uri": "https://localhost:8080/",
          "height": 103
        },
        "outputId": "e245fd7f-0da9-40e6-fee6-ab4b0be5bfbc"
      },
      "source": [
        "x=5\n",
        "while x !=0:\n",
        "  x-=1\n",
        "  print(x)"
      ],
      "execution_count": 50,
      "outputs": [
        {
          "output_type": "stream",
          "text": [
            "4\n",
            "3\n",
            "2\n",
            "1\n",
            "0\n"
          ],
          "name": "stdout"
        }
      ]
    },
    {
      "cell_type": "code",
      "metadata": {
        "id": "fjC3e5jAfKox",
        "colab_type": "code",
        "colab": {}
      },
      "source": [
        ""
      ],
      "execution_count": 0,
      "outputs": []
    },
    {
      "cell_type": "markdown",
      "metadata": {
        "id": "0ZEvzg5lfM7f",
        "colab_type": "text"
      },
      "source": [
        "5.3.3. while과 if"
      ]
    },
    {
      "cell_type": "code",
      "metadata": {
        "id": "7P4Po6infUbZ",
        "colab_type": "code",
        "colab": {
          "base_uri": "https://localhost:8080/",
          "height": 103
        },
        "outputId": "e07920c0-645d-4f54-a15c-8cb7351428bc"
      },
      "source": [
        "x=5\n",
        "while x !=0:\n",
        "  x-=1\n",
        "  print(x)\n",
        "  if x==1:\n",
        "    print(\"Bang\")\n",
        "    break;"
      ],
      "execution_count": 51,
      "outputs": [
        {
          "output_type": "stream",
          "text": [
            "4\n",
            "3\n",
            "2\n",
            "1\n",
            "Bang\n"
          ],
          "name": "stdout"
        }
      ]
    },
    {
      "cell_type": "code",
      "metadata": {
        "id": "rO4NseQ5fpTG",
        "colab_type": "code",
        "colab": {
          "base_uri": "https://localhost:8080/",
          "height": 103
        },
        "outputId": "9a04d858-393f-427d-8b29-8628646c2119"
      },
      "source": [
        "# 해답은 나랑 달랐음\n",
        "x=5\n",
        "while x !=0:\n",
        "  x-=1\n",
        "  if x != 0:\n",
        "    print(x)\n",
        "  else:\n",
        "    print(\"Bang\")"
      ],
      "execution_count": 52,
      "outputs": [
        {
          "output_type": "stream",
          "text": [
            "4\n",
            "3\n",
            "2\n",
            "1\n",
            "Bang\n"
          ],
          "name": "stdout"
        }
      ]
    },
    {
      "cell_type": "code",
      "metadata": {
        "id": "TLWggu18f7hc",
        "colab_type": "code",
        "colab": {}
      },
      "source": [
        ""
      ],
      "execution_count": 0,
      "outputs": []
    },
    {
      "cell_type": "markdown",
      "metadata": {
        "id": "XHIDVP97f-Ab",
        "colab_type": "text"
      },
      "source": [
        "5.4 for문 \n",
        " - 리스트의 요소를 모두 출력하고 싶을 때 자주 사용하는 for문\n",
        " - for 변수 in 데이터셋: 이라고 작성하면, 데이터셋의 요소 수만큼 처리반복\n",
        " - 데이터셋 : 리스트형이나 딕셔너리형처럼 복수의 요소를 가진 것\n",
        " - for문 뒤의 콜론(:), 들여쓰기로 처리 범위를 나타낸다."
      ]
    },
    {
      "cell_type": "code",
      "metadata": {
        "id": "cD4MccD-gWKY",
        "colab_type": "code",
        "colab": {
          "base_uri": "https://localhost:8080/",
          "height": 69
        },
        "outputId": "08083e5d-de2e-48bf-da49-d9b2e8c0b2da"
      },
      "source": [
        "# for문의 예\n",
        "animals = [\"tiger\",\"dog\",\"elephant\"]\n",
        "for animal in animals:\n",
        "  print(animal)"
      ],
      "execution_count": 53,
      "outputs": [
        {
          "output_type": "stream",
          "text": [
            "tiger\n",
            "dog\n",
            "elephant\n"
          ],
          "name": "stdout"
        }
      ]
    },
    {
      "cell_type": "code",
      "metadata": {
        "id": "TH0QxKW5gipW",
        "colab_type": "code",
        "colab": {
          "base_uri": "https://localhost:8080/",
          "height": 86
        },
        "outputId": "49c21599-034c-4dec-e790-e3caabb3df58"
      },
      "source": [
        "# for문을 사용하여 변수 storages의 요소를 하나씩 출력하세요\n",
        "# 출력은 print()함수를 사용하세요\n",
        "# for문에서 사용할 변수명은 임의로 지정하세요\n",
        "storages = [1,2,3,4]\n",
        "for story in storages:\n",
        "  print(story)"
      ],
      "execution_count": 54,
      "outputs": [
        {
          "output_type": "stream",
          "text": [
            "1\n",
            "2\n",
            "3\n",
            "4\n"
          ],
          "name": "stdout"
        }
      ]
    },
    {
      "cell_type": "code",
      "metadata": {
        "id": "MJt3VRbJg2HJ",
        "colab_type": "code",
        "colab": {}
      },
      "source": [
        ""
      ],
      "execution_count": 0,
      "outputs": []
    },
    {
      "cell_type": "markdown",
      "metadata": {
        "id": "V-aLOdhrg3-F",
        "colab_type": "text"
      },
      "source": [
        "5.4.2. break\n",
        "break를 이용하여 반복 처리를 종료할 수 있다. if와 같이 사용된다"
      ]
    },
    {
      "cell_type": "code",
      "metadata": {
        "id": "tmhJ0j8Cg9qL",
        "colab_type": "code",
        "colab": {
          "base_uri": "https://localhost:8080/",
          "height": 121
        },
        "outputId": "d8e4d3f1-6553-4ceb-c75c-0014cd4ee938"
      },
      "source": [
        "# break의 예\n",
        "storages = [1,2,3,4,5,6,7,8,9,10]\n",
        "for n in storages:\n",
        "  print(n)\n",
        "  if n>=5:\n",
        "    print(\"끝\")\n",
        "    break"
      ],
      "execution_count": 55,
      "outputs": [
        {
          "output_type": "stream",
          "text": [
            "1\n",
            "2\n",
            "3\n",
            "4\n",
            "5\n",
            "끝\n"
          ],
          "name": "stdout"
        }
      ]
    },
    {
      "cell_type": "code",
      "metadata": {
        "id": "njaLL0XlhMCF",
        "colab_type": "code",
        "colab": {
          "base_uri": "https://localhost:8080/",
          "height": 86
        },
        "outputId": "095771c5-cc5d-470c-d6ad-1c150ab7a59f"
      },
      "source": [
        "# 변수의 값이 4 일 때, 처리를 종료하세요\n",
        "storages = [1,2,3,4,5,6]\n",
        "for n in storages:\n",
        "  print(n)\n",
        "  if n == 4:\n",
        "    break"
      ],
      "execution_count": 58,
      "outputs": [
        {
          "output_type": "stream",
          "text": [
            "1\n",
            "2\n",
            "3\n",
            "4\n"
          ],
          "name": "stdout"
        }
      ]
    },
    {
      "cell_type": "code",
      "metadata": {
        "id": "oVUVZeVqhbc8",
        "colab_type": "code",
        "colab": {}
      },
      "source": [
        ""
      ],
      "execution_count": 0,
      "outputs": []
    },
    {
      "cell_type": "markdown",
      "metadata": {
        "id": "Khpz68QFhidj",
        "colab_type": "text"
      },
      "source": [
        "5.4.3. continue \n",
        "-continue는 break와 마찬가지로 if문과 조합하여 사용가능하지만, break와 달리 특정 조건일 때 루프를 한 번 건너뛴다"
      ]
    },
    {
      "cell_type": "code",
      "metadata": {
        "id": "LkaNXmoihtBK",
        "colab_type": "code",
        "colab": {
          "base_uri": "https://localhost:8080/",
          "height": 51
        },
        "outputId": "7f63a9c4-7716-4b9a-da77-98b645b2c075"
      },
      "source": [
        "# continue의 예\n",
        "storages = [1,2,3]\n",
        "for n in storages:\n",
        "  if n == 2:\n",
        "    continue\n",
        "  print(n)"
      ],
      "execution_count": 59,
      "outputs": [
        {
          "output_type": "stream",
          "text": [
            "1\n",
            "3\n"
          ],
          "name": "stdout"
        }
      ]
    },
    {
      "cell_type": "code",
      "metadata": {
        "id": "ls6QmiuXh4sN",
        "colab_type": "code",
        "colab": {
          "base_uri": "https://localhost:8080/",
          "height": 69
        },
        "outputId": "709e91cc-e63c-49ab-e7c5-e891b9ad348c"
      },
      "source": [
        "# 변수 n이 2의 배수일 때는 continue를 사용하여 처리를 생략하세요\n",
        "storages = [1,2,3,4,5,6]\n",
        "for n in storages:\n",
        "  # continue를 적을 때는 건너 뛰고 계속하는 조건으로, 중단하고 나가는 게 아님...\n",
        "  if (n%2)==0:\n",
        "    continue\n",
        "  print(n)"
      ],
      "execution_count": 62,
      "outputs": [
        {
          "output_type": "stream",
          "text": [
            "1\n",
            "3\n",
            "5\n"
          ],
          "name": "stdout"
        }
      ]
    },
    {
      "cell_type": "code",
      "metadata": {
        "id": "b85kUM6wiL7P",
        "colab_type": "code",
        "colab": {}
      },
      "source": [
        ""
      ],
      "execution_count": 0,
      "outputs": []
    },
    {
      "cell_type": "markdown",
      "metadata": {
        "id": "xVqYi5uPijYI",
        "colab_type": "text"
      },
      "source": [
        "5.5 추가 설명\n",
        "5.5.1. for문에서 index표시\n",
        "- for문을 사용한 루프에서 리스트의 인덱스 확인이 필요할 때가 있다.\n",
        "- enumerate()함수를 사용하면, 인덱스가 포함된 요소를 얻을 수 있다."
      ]
    },
    {
      "cell_type": "code",
      "metadata": {
        "id": "y1ZOBcgkiyut",
        "colab_type": "code",
        "colab": {}
      },
      "source": [
        ""
      ],
      "execution_count": 0,
      "outputs": []
    }
  ]
}