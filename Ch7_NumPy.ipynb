{
  "nbformat": 4,
  "nbformat_minor": 0,
  "metadata": {
    "colab": {
      "name": "Untitled의 사본",
      "provenance": [],
      "collapsed_sections": [],
      "authorship_tag": "ABX9TyOggMMY6TH8EaAX6y1/2jwP",
      "include_colab_link": true
    },
    "kernelspec": {
      "name": "python3",
      "display_name": "Python 3"
    }
  },
  "cells": [
    {
      "cell_type": "markdown",
      "metadata": {
        "id": "view-in-github",
        "colab_type": "text"
      },
      "source": [
        "<a href=\"https://colab.research.google.com/github/redrabbit329/colab_pypydl/blob/master/Ch7_NumPy.ipynb\" target=\"_parent\"><img src=\"https://colab.research.google.com/assets/colab-badge.svg\" alt=\"Open In Colab\"/></a>"
      ]
    },
    {
      "cell_type": "markdown",
      "metadata": {
        "id": "7Dtv6r7X74wj",
        "colab_type": "text"
      },
      "source": [
        "# Ch7. NumPy\n",
        "## 7.1. NumPy 개요\n",
        "### 7.1.1. NumPy가 하는 일\n",
        "   - NumPy : 파이썬으로 벡터, 행렬계산을 빠르게 하도록 특화된 기본 라이브러리(파이썬코드묶음)\n",
        "   - 자주 사용되는 라이브러리 : SciPy, Pandas, scikit-learn, Matplotlib etc,.\n",
        "### 7.1.2. NumPy의 고속 처리 경험하기"
      ]
    },
    {
      "cell_type": "code",
      "metadata": {
        "id": "IKAw7gP575-M",
        "colab_type": "code",
        "outputId": "2ce1528e-3fa6-45e4-8b3c-c1d43140c0f0",
        "colab": {
          "base_uri": "https://localhost:8080/",
          "height": 51
        }
      },
      "source": [
        "# 7-1\n",
        "# 필요한 라이브러리를 import합니다.\n",
        "import numpy as np\n",
        "import time\n",
        "from numpy.random import rand\n",
        "\n",
        "# 행, 열의 크기\n",
        "N = 150\n",
        "\n",
        "# 행렬을 초기화합니다\n",
        "matA = np.array(rand(N,N))\n",
        "matB = np.array(rand(N,N))\n",
        "matC = np.array([[0] * N for _ in range(N)])\n",
        "\n",
        "# 파이썬의 리스트를 사용하여 계산합니다.\n",
        "# 시작 시간을 저장합니다.\n",
        "start = time.time()\n",
        "\n",
        "# for문을 사용하여 행렬 곱셈을 실행합니다.\n",
        "for i in range(N):\n",
        "  for j in range(N):\n",
        "    for k in range(N):\n",
        "      matC[i][j] = matA[i][k] * matB[k][j]\n",
        "\n",
        "print(\"파이썬 기능만으로 계산한 결과: %.2f[sec]\" % float(time.time() - start))\n",
        "\n",
        "# NumPy를 사용하여 계산합니다.\n",
        "# 시작 시간을 저장합니다.\n",
        "start = time.time()\n",
        "\n",
        "# NumPy를 사용하여 행렬 곱셈을 실행합니다.\n",
        "matC = np.dot(matA, matB)\n",
        "\n",
        "# 소수점 이하 두 자리까지 표시되므로, NumPy는 0.00[sec]으로 표시됩니다.\n",
        "print(\"NumPy를 사용하여 계산한 결과: %.2f[sec]\" % float(time.time() - start))"
      ],
      "execution_count": 0,
      "outputs": [
        {
          "output_type": "stream",
          "text": [
            "파이썬 기능만으로 계산한 결과: 3.76[sec]\n",
            "NumPy를 사용하여 계산한 결과: 0.00[sec]\n"
          ],
          "name": "stdout"
        }
      ]
    },
    {
      "cell_type": "markdown",
      "metadata": {
        "id": "DZc4Bjk2_nj0",
        "colab_type": "text"
      },
      "source": [
        "## 7.2. NumPy 1차원 배열\n",
        "### 7.2.1. import\n",
        "   - import numpy로 임포용 (import numpy as np)\n",
        "   - numpy.모듈명 형태로 사용 (np.모듈명)"
      ]
    },
    {
      "cell_type": "markdown",
      "metadata": {
        "id": "aFVjd7YyAJMk",
        "colab_type": "text"
      },
      "source": [
        "### 7.2.2. 1차원 배열\n",
        "   - NumPy 라이브러리 안에는 배열을 고속으로 처리하는 ndarray클래스가 준비되어 있음\n",
        "   - np.array(리스트) 로 리스트를 전달하여 ndarray를 생성할 수 있음 : np.arry([1,2,3])\n",
        "   - np.arange() 함수를 이용할수도 있음 : np.arange(X) 로 표ㅣ하여 일정한 간격으로 증감시킨 값의 요소를 X개 만들어줌 : np.arange(4)\n",
        "   - ndarray 클래스는 1차원을 벡터, 2차원을 행렬, 3차원 이상을 텐서 라고 함"
      ]
    },
    {
      "cell_type": "code",
      "metadata": {
        "id": "b1F9bYPhA4w3",
        "colab_type": "code",
        "outputId": "e2f12857-b5ad-45a5-d523-8a50fd5196ea",
        "colab": {
          "base_uri": "https://localhost:8080/",
          "height": 51
        }
      },
      "source": [
        "# 7-3\n",
        "import numpy as np\n",
        "print(np.array([1,2,3]))\n",
        "print(np.arange(4))     # 요소 수 4개, 0부터 시작\n",
        "array_1d = np.array([1,2,3,4,5,6,7,8])        # 1차원 ndarray 클래스\n",
        "array_2d = np.array([[1,2,3,4],[5,6,7,8]])    # 2차원 ndarray 클래스\n",
        "array_3d = np.array([[[1,2],[3,4]],[[5,6],[7,8]]])\n"
      ],
      "execution_count": 0,
      "outputs": [
        {
          "output_type": "stream",
          "text": [
            "[1 2 3]\n",
            "[0 1 2 3]\n"
          ],
          "name": "stdout"
        }
      ]
    },
    {
      "cell_type": "code",
      "metadata": {
        "id": "8mXhWR56BJuk",
        "colab_type": "code",
        "outputId": "a16516ce-2fa2-4f3b-c6f3-2f77486f8552",
        "colab": {
          "base_uri": "https://localhost:8080/",
          "height": 51
        }
      },
      "source": [
        "# 7-5\n",
        "import numpy as np\n",
        "\n",
        "storages = [24,3,4,23,10,12]\n",
        "print(storages)\n",
        "\n",
        "np_storages = np.array(storages)\n",
        "print(type(np_storages))"
      ],
      "execution_count": 0,
      "outputs": [
        {
          "output_type": "stream",
          "text": [
            "[24, 3, 4, 23, 10, 12]\n",
            "<class 'numpy.ndarray'>\n"
          ],
          "name": "stdout"
        }
      ]
    },
    {
      "cell_type": "markdown",
      "metadata": {
        "id": "1K6nQvHiCq_N",
        "colab_type": "text"
      },
      "source": [
        "### 7.2.3. 1차원 배열의 계산\n",
        "   - 리스트에서는 요소별로 계산하기 위해 루프시킨 뒤 하나씩 더했지만, ndarray에서는 루프를 사용하지 않아도 된다. ndarray의 산술 연산은 같은 위치에 있는 요소끼리 계산된다."
      ]
    },
    {
      "cell_type": "code",
      "metadata": {
        "id": "vZKEBfGUDAQs",
        "colab_type": "code",
        "outputId": "fac53ff3-8bd2-4f2c-e50f-5b920cf9a164",
        "colab": {
          "base_uri": "https://localhost:8080/",
          "height": 34
        }
      },
      "source": [
        "# 7-7 1차원 배열 계산의 예\n",
        "# NumPy를 사용하지 않고 실행\n",
        "storages = [1,2,3,4]\n",
        "new_storages =[]\n",
        "for n in storages:\n",
        "  n += n\n",
        "  new_storages.append(n)\n",
        "print(new_storages)"
      ],
      "execution_count": 0,
      "outputs": [
        {
          "output_type": "stream",
          "text": [
            "[2, 4, 6, 8]\n"
          ],
          "name": "stdout"
        }
      ]
    },
    {
      "cell_type": "code",
      "metadata": {
        "id": "-LoYemuLDYiG",
        "colab_type": "code",
        "outputId": "5429bc64-798b-4272-b4b1-7847603cd82d",
        "colab": {
          "base_uri": "https://localhost:8080/",
          "height": 34
        }
      },
      "source": [
        "# 7-8 : 1차원 배열 계산의 예 \n",
        "# NumPy를 사용하여 실행함\n",
        "import numpy as np\n",
        "storages = np.array([1,2,3,4])\n",
        "storages += storages\n",
        "print(storages)"
      ],
      "execution_count": 0,
      "outputs": [
        {
          "output_type": "stream",
          "text": [
            "[2 4 6 8]\n"
          ],
          "name": "stdout"
        }
      ]
    },
    {
      "cell_type": "code",
      "metadata": {
        "id": "rEmusxWVD6cZ",
        "colab_type": "code",
        "outputId": "96eef16f-e2c4-4834-81a5-dff2fab99775",
        "colab": {
          "base_uri": "https://localhost:8080/",
          "height": 86
        }
      },
      "source": [
        "# 7-9\n",
        "import numpy as np\n",
        "\n",
        "arr = np.array([2,5,3,4,8])\n",
        "# arr + arr\n",
        "print(arr+arr)\n",
        "print(arr-arr)\n",
        "print(arr**3)\n",
        "print(1/arr)"
      ],
      "execution_count": 0,
      "outputs": [
        {
          "output_type": "stream",
          "text": [
            "[ 4 10  6  8 16]\n",
            "[0 0 0 0 0]\n",
            "[  8 125  27  64 512]\n",
            "[0.5        0.2        0.33333333 0.25       0.125     ]\n"
          ],
          "name": "stdout"
        }
      ]
    },
    {
      "cell_type": "code",
      "metadata": {
        "id": "pX1MfZZTEK4S",
        "colab_type": "code",
        "outputId": "8e1640d6-0f89-4c8f-94ec-d1b42742ddaa",
        "colab": {
          "base_uri": "https://localhost:8080/",
          "height": 34
        }
      },
      "source": [
        "# 7.2.4. 인덱스 참조와 슬라이스\n",
        "# 7-11 : 슬라이스의 예\n",
        "import numpy as np\n",
        "arr = np.arange(10)\n",
        "print(arr)"
      ],
      "execution_count": 0,
      "outputs": [
        {
          "output_type": "stream",
          "text": [
            "[0 1 2 3 4 5 6 7 8 9]\n"
          ],
          "name": "stdout"
        }
      ]
    },
    {
      "cell_type": "code",
      "metadata": {
        "id": "ZbuFmBKAhw02",
        "colab_type": "code",
        "outputId": "068a39eb-d1e3-4586-bcd2-ba570b4f4ab0",
        "colab": {
          "base_uri": "https://localhost:8080/",
          "height": 34
        }
      },
      "source": [
        "import numpy as np \n",
        "arr = np.arange(10)\n",
        "arr[0:3] = 1\n",
        "print(arr)"
      ],
      "execution_count": 0,
      "outputs": [
        {
          "output_type": "stream",
          "text": [
            "[1 1 1 3 4 5 6 7 8 9]\n"
          ],
          "name": "stdout"
        }
      ]
    },
    {
      "cell_type": "code",
      "metadata": {
        "id": "o26Via4TiGi2",
        "colab_type": "code",
        "outputId": "333ab5fa-ae00-41f7-df09-ab3ff04cdca5",
        "colab": {
          "base_uri": "https://localhost:8080/",
          "height": 51
        }
      },
      "source": [
        "# 7-13\n",
        "import numpy as np\n",
        "arr = np.arange(10)\n",
        "print(arr)\n",
        "# print 3,4,5 (3:6)\n",
        "print(arr[3:6])"
      ],
      "execution_count": 0,
      "outputs": [
        {
          "output_type": "stream",
          "text": [
            "[0 1 2 3 4 5 6 7 8 9]\n",
            "[3 4 5]\n"
          ],
          "name": "stdout"
        }
      ]
    },
    {
      "cell_type": "code",
      "metadata": {
        "id": "PxTY46jLijSh",
        "colab_type": "code",
        "outputId": "a1069551-1b90-4ae7-98d9-28e79201f104",
        "colab": {
          "base_uri": "https://localhost:8080/",
          "height": 51
        }
      },
      "source": [
        "# 7.2.5. ndarray사용 시 주의 사항\n",
        "# 파이썬의 리스트와 동일하게, nparray 배열을 다른 변수에 그대로 대입한 경우, 해당 변수의 값을 변경하면, 원래 ndarray배열의 값도 변경된다.\n",
        "# 복사할 배열.copy() 메서드를 사용하여 복사하여 사용하여야 ndarray배열을 복사하여 독립적인 변수로 사용이 가능하다.\n",
        "# ndarray를 그대로 arr1변수에 대입한 경우를 살펴본다.\n",
        "import numpy as np\n",
        "\n",
        "arr1 = np.array([1,2,3,4,5])\n",
        "print(\"arr1 :\", arr1)\n",
        "arr2 = arr1\n",
        "arr2[0] = 100\n",
        "print(arr1)"
      ],
      "execution_count": 0,
      "outputs": [
        {
          "output_type": "stream",
          "text": [
            "arr1 : [1 2 3 4 5]\n",
            "[100   2   3   4   5]\n"
          ],
          "name": "stdout"
        }
      ]
    },
    {
      "cell_type": "code",
      "metadata": {
        "id": "cLFEjKzfkAYF",
        "colab_type": "code",
        "outputId": "56d74ffd-0116-483c-d92d-fb75a6f57ba0",
        "colab": {
          "base_uri": "https://localhost:8080/",
          "height": 69
        }
      },
      "source": [
        "# 7-15 : ndarray를 copy()를 사용하여 arr2에 대입한 경우를 살펴 본다.\n",
        "import numpy as np\n",
        "arr1 = np.array([1,2,3,4,5])\n",
        "print(\"arr1 :\",arr1)\n",
        "arr2 = arr1.copy()\n",
        "arr2[0] = 100\n",
        "print(\"arr2 :\",arr2)\n",
        "print(\"arr1 :\",arr1,\"copy()메서드로 복사하면, 변경이 원래 배열값에 음향을 주지 않음\")"
      ],
      "execution_count": 0,
      "outputs": [
        {
          "output_type": "stream",
          "text": [
            "arr1 : [1 2 3 4 5]\n",
            "arr2 : [100   2   3   4   5]\n",
            "arr1 : [1 2 3 4 5] copy()메서드로 복사하면, 변경이 원래 배열값에 음향을 주지 않음\n"
          ],
          "name": "stdout"
        }
      ]
    },
    {
      "cell_type": "markdown",
      "metadata": {
        "id": "5tqu1-zBlgIo",
        "colab_type": "text"
      },
      "source": [
        "### 7.2.6. view와 copy\n",
        "   - 파이썬 리스트와 넘파이의 ndarray의 차이 : \n",
        "        ndarray의 슬라이스는 배열의 복사본이 아닌, view라는 점\n",
        "        view란, 원래 배열의 데이터를 가리키는 원본참조\n",
        "        즉, ndarray의 슬라이스는 원본뎅터를 변경하게 된다.\n",
        "        슬라이스를 복사본으로 만들려면 copy()메서드를 사용하여, arr[:].copy()로 사용한다."
      ]
    },
    {
      "cell_type": "code",
      "metadata": {
        "id": "0y8t7jgJmS-P",
        "colab_type": "code",
        "outputId": "4d508e15-3fbe-4ad7-9b58-47a6e241859d",
        "colab": {
          "base_uri": "https://localhost:8080/",
          "height": 362
        }
      },
      "source": [
        "# 7-17 : 아래 예제실행으로 파이썬의 리스트와 넘파이의 ndarray의 슬라이스의 차이를 확인한다.\n",
        "import numpy as np\n",
        "\n",
        "# 파이썬의 리스트에 넘파이를 대입한 경우를 살펴본다\n",
        "arr_List = [x for x in range(10)]\n",
        "print(\"리스트형 데이터입니다.\")\n",
        "print(arr_List)\n",
        "print()\n",
        "\n",
        "arr_List_copy = arr_List[:]\n",
        "arr_List_copy[0] = 100\n",
        "\n",
        "print(\"리스트 슬라이스는 복사본이 생성되므로, arr_List에는 arr_List_copy의 변경이 반영되지 않습니다\")\n",
        "print(\"arr_List :\", arr_List)\n",
        "print(\"arr_List_copy :\", arr_List_copy)\n",
        "\n",
        "# NumPy의 ndarray의 슬라이스를 이용한 경우를 살펴봅니다.\n",
        "arr_NumPy = np.arange(10);\n",
        "print(\"NumPy의 ndarray데이터입니다.\")\n",
        "print(\"arr_NumPy :\", arr_NumPy)\n",
        "print()\n",
        "\n",
        "arr_NumPy_view = arr_NumPy[:]\n",
        "arr_NumPy_view[0] = 100\n",
        "\n",
        "print(\"NumPy의 슬라이스는 View(데이터가 저장된 위치 정보)가 대입되므로, arr_NumPy_view의 정보를 변경하면, 원본인 arr_NumPy에도 반영된다.\")\n",
        "print(\"arr_NumPy_view :\", arr_NumPy_view)\n",
        "print(\"arr_NumPy :\", arr_NumPy)\n",
        "print()\n",
        "\n",
        "# NumPy의 ndarray에서 copy를 사용한 경우를 살펴봅니다.\n",
        "arr_NumPy = np.arange(10)\n",
        "print(\"NumPy의 ndarray에서 copy를 사용한 경우를 살펴봅니다.\")\n",
        "print(\"arr_NumPy :\", arr_NumPy)\n",
        "\n",
        "arr_NumPy_copy = arr_NumPy[:].copy()\n",
        "arr_NumPy_copy[0] = 100\n",
        "\n",
        "print(\"copy()를 사용하면 복사본이 생성되기 때문에 arr_NumPy_copy는 원본 arr_NumPy에 영향을 미치지 않는다.\")\n",
        "print(\"arr_NumPy :\", arr_NumPy)\n"
      ],
      "execution_count": 0,
      "outputs": [
        {
          "output_type": "stream",
          "text": [
            "리스트형 데이터입니다.\n",
            "[0, 1, 2, 3, 4, 5, 6, 7, 8, 9]\n",
            "\n",
            "리스트 슬라이스는 복사본이 생성되므로, arr_List에는 arr_List_copy의 변경이 반영되지 않습니다\n",
            "arr_List : [0, 1, 2, 3, 4, 5, 6, 7, 8, 9]\n",
            "arr_List_copy : [100, 1, 2, 3, 4, 5, 6, 7, 8, 9]\n",
            "NumPy의 ndarray데이터입니다.\n",
            "arr_NumPy : [0 1 2 3 4 5 6 7 8 9]\n",
            "\n",
            "NumPy의 슬라이스는 View(데이터가 저장된 위치 정보)가 대입되므로, arr_NumPy_view의 정보를 변경하면, 원본인 arr_NumPy에도 반영된다.\n",
            "arr_NumPy_view : [100   1   2   3   4   5   6   7   8   9]\n",
            "arr_NumPy : [100   1   2   3   4   5   6   7   8   9]\n",
            "\n",
            "NumPy의 ndarray에서 copy를 사용한 경우를 살펴봅니다.\n",
            "arr_NumPy : [0 1 2 3 4 5 6 7 8 9]\n",
            "copy()를 사용하면 복사본이 생성되기 때문에 arr_NumPy_copy는 원본 arr_NumPy에 영향을 미치지 않는다.\n",
            "arr_NumPy : [0 1 2 3 4 5 6 7 8 9]\n"
          ],
          "name": "stdout"
        }
      ]
    },
    {
      "cell_type": "code",
      "metadata": {
        "id": "-Wg1tB6lqE4R",
        "colab_type": "code",
        "colab": {}
      },
      "source": [
        ""
      ],
      "execution_count": 0,
      "outputs": []
    },
    {
      "cell_type": "markdown",
      "metadata": {
        "id": "cHvN7-xjtzUm",
        "colab_type": "text"
      },
      "source": [
        "### 7.2.7. 부울 인덱스 참조\n",
        "   - 부울 인덱스 참조란, []안에 논리값(True/False값) 배열을 사용하여 요소를 추출하는 방법을 말한다.\n",
        "   - arr[ndarray 논리값 배열] 로 표기하면 논리값(부울)배열의 True에 해당하는 배열의 요소의 ndarray를 만들어 반환해준다."
      ]
    },
    {
      "cell_type": "code",
      "metadata": {
        "id": "vBIqh_6uuaxg",
        "colab_type": "code",
        "outputId": "d61279c3-e731-40ca-e4eb-0bea9db8ab31",
        "colab": {
          "base_uri": "https://localhost:8080/",
          "height": 34
        }
      },
      "source": [
        "# 7-19 부울 인덱스 참조의 예\n",
        "import numpy as np\n",
        "arr = np.array([2,4,6,7])\n",
        "print(arr[np.array([True, True, True, False])])"
      ],
      "execution_count": 0,
      "outputs": [
        {
          "output_type": "stream",
          "text": [
            "[2 4 6]\n"
          ],
          "name": "stdout"
        }
      ]
    },
    {
      "cell_type": "code",
      "metadata": {
        "id": "J_5HXDIGu1HV",
        "colab_type": "code",
        "outputId": "e88050ca-557b-44bc-f6c2-df7d88a87e47",
        "colab": {
          "base_uri": "https://localhost:8080/",
          "height": 34
        }
      },
      "source": [
        "# 7-20 부울 인덱스 참조의 예\n",
        "import numpy as np\n",
        "arr = np.array([2,4,6,7])\n",
        "print(arr[arr%3 == True]) # True == 1, 나머지가 1인것을 참으로 하여, "
      ],
      "execution_count": 0,
      "outputs": [
        {
          "output_type": "stream",
          "text": [
            "[4 7]\n"
          ],
          "name": "stdout"
        }
      ]
    },
    {
      "cell_type": "code",
      "metadata": {
        "id": "MjEF9i4ovU2h",
        "colab_type": "code",
        "outputId": "a9b24a8b-c28e-4d40-dcb3-287748179710",
        "colab": {
          "base_uri": "https://localhost:8080/",
          "height": 69
        }
      },
      "source": [
        "# 7-21\n",
        "import numpy as np\n",
        "\n",
        "arr = np.array([2,3,4,5,6,7])\n",
        "# 변수 arr 의 각 요소가 2로 나누어 떨어지는지 나타내는 부울 배열을 출력하세요\n",
        "print(arr)\n",
        "print(arr%2 == 0)       # print(조건) 은 ndarray가 조건에 대해 참True인지 거짓False인지 출력해주고\n",
        "print(arr[arr%2 == False])  # print(arr[인덱스에 대한 조건]) 은 조건이 참인 요소만 출력한다."
      ],
      "execution_count": 0,
      "outputs": [
        {
          "output_type": "stream",
          "text": [
            "[2 3 4 5 6 7]\n",
            "[ True False  True False  True False]\n",
            "[2 4 6]\n"
          ],
          "name": "stdout"
        }
      ]
    },
    {
      "cell_type": "markdown",
      "metadata": {
        "id": "c6I1SnEB3whV",
        "colab_type": "text"
      },
      "source": [
        "### 7.2.8. 범용 함수 universal function\n",
        "   - 범용함수 : ndarray 배열의 각 요소에 대한 연산 결과를 반환하는 함수\n",
        "   - 요소별로 계산하므로 다차원 배열에도 사용가능\n",
        "   - 범용함수는 인수가 하나인 경우와 두 개인 경우가 있다\n",
        "   - 인수가 하나인 경우 : 요소의 절댓값을 반환하는 np.abs()함수,요소의 exp반환하는 np.exp(), 요소의 제곱근을 반환하는 np.sqrt() 등이 있음\n",
        "   - 인수가 두 개인 경우 : 요소간의 합을 반환하는 np.add(), 요소간의 차를 반환하는 np.subtract(), 요소간의 최대값을 저장한 배열을 반환하는 np.maximum()"
      ]
    },
    {
      "cell_type": "code",
      "metadata": {
        "id": "i2GuEz1y7GHX",
        "colab_type": "code",
        "outputId": "fe2fdee3-3d1c-4811-e758-60db9a9f9b8f",
        "colab": {
          "base_uri": "https://localhost:8080/",
          "height": 103
        }
      },
      "source": [
        "# 7-23\n",
        "import numpy as np\n",
        "arr = np.array([4,-9,16,-4,20])\n",
        "print(arr)\n",
        "\n",
        "# 변수 arr의 각 요소를 절댓값으로 하여, 변수 arr_abs에 대입하세요.\n",
        "arr_abs = np.abs(arr)\n",
        "print(arr_abs)\n",
        "\n",
        "# 변수 arr_abs의 각 요소의 e의 거듭제곱근과 제곱근을 출력하세요\n",
        "print(np.exp(arr_abs))\n",
        "print(np.sqrt(arr_abs))"
      ],
      "execution_count": 0,
      "outputs": [
        {
          "output_type": "stream",
          "text": [
            "[ 4 -9 16 -4 20]\n",
            "[ 4  9 16  4 20]\n",
            "[5.45981500e+01 8.10308393e+03 8.88611052e+06 5.45981500e+01\n",
            " 4.85165195e+08]\n",
            "[2.         3.         4.         2.         4.47213595]\n"
          ],
          "name": "stdout"
        }
      ]
    },
    {
      "cell_type": "code",
      "metadata": {
        "id": "AwIf-WOc7bEj",
        "colab_type": "code",
        "colab": {}
      },
      "source": [
        ""
      ],
      "execution_count": 0,
      "outputs": []
    },
    {
      "cell_type": "markdown",
      "metadata": {
        "id": "ewZAMwVs8AZI",
        "colab_type": "text"
      },
      "source": [
        "### 7.2.9. 집합 함수\n",
        "   - 집합 함수란  수학의 집합 연산을 수행하는 함수 (1차원 배열만을 대상으로 한다)\n",
        "   - 대표적인 집합 함수로는 배열 요소에서 중복을 제거하고 정렬한 결과를 반환하는 np.unique()\n",
        "   - 배열x와 y의 합집합을 정렬해서 반환하는 np.union1d(x, y) 함수\n",
        "   - 배열 x와 y의 교집합을 정렬해서 반환하는 np.intersect1d(x,y)함수\n",
        "   - 배열 x에서 배열 y를 뺀 차집합을 정렬해서 반환하는 np.setdiff1d(x,y)함수"
      ]
    },
    {
      "cell_type": "code",
      "metadata": {
        "id": "miJha_1C8tj1",
        "colab_type": "code",
        "outputId": "9da7723d-0111-4e07-fa94-ce8b7bf0e034",
        "colab": {
          "base_uri": "https://localhost:8080/",
          "height": 86
        }
      },
      "source": [
        "# 7-25\n",
        "import numpy as np\n",
        "\n",
        "arr1 = [2,5,7,9,5,2]\n",
        "arr2 = [2,5,8,3,1]\n",
        "\n",
        "# np.unique()함수를 사용하여 변수 arr1에서 중복을 제거한 배열을 변수 new_arr1에 대입\n",
        "new_arr1 = np.unique(arr1)\n",
        "print(new_arr1)\n",
        "\n",
        "# 변수 new_arr1과 변수 arr2의 합집합을 출력하세요\n",
        "print(np.union1d(new_arr1, arr2))\n",
        "\n",
        "# 변수 new_arr1과 arr2의 교집합\n",
        "print(np.intersect1d(new_arr1,arr2))\n",
        "\n",
        "# 변수 new_arr1에서 변수 arr2를 뺀 차집합\n",
        "print(np.setdiff1d(new_arr1,arr2))"
      ],
      "execution_count": 0,
      "outputs": [
        {
          "output_type": "stream",
          "text": [
            "[2 5 7 9]\n",
            "[1 2 3 5 7 8 9]\n",
            "[2 5]\n",
            "[7 9]\n"
          ],
          "name": "stdout"
        }
      ]
    },
    {
      "cell_type": "markdown",
      "metadata": {
        "id": "MJwRR2-h-O7h",
        "colab_type": "text"
      },
      "source": [
        "### 7.2.10. 난수\n",
        "   - NumPy는 np.random 모듈로 난수(정의된 범위 내에서 무작위로 추출된 수)를 생성할 수 있다\n",
        "   - np.random() 은 0이상, 1미만의 난수를 생성하는 np.random.rand()함수\n",
        "   - x이상, y미만의 정수를 z개 생성하는 np.random.randint(x,y,z)함수\n",
        "   - 가우스 분포를 따르는 난수를 생성하는 np.random.normal()함수가 있다.\n",
        "   - np.random.rand()함수는 ()안에 넣은 정수의 횟수만큼 난수가 생성된다.\n",
        "   - np.random.randint(x,y,z)함수는 x이상, y미만의 정수를 생성하는 점에 주의\n",
        "   - z에는 (2, 3)등의 인수를 넣을 수도 있어, 2x3행렬을 쉽게 생성 가능\n",
        "   - 일반적으로는 np.random.randint() 로 난수를 생성하는 경우가 많음\n",
        "   - 매번 사용하는 np.random.randint()와 같이 np.random을 반복하지 않기 위해\n",
        "   - from numpy.random import randint 기술해 두면, randint만으로 함수를 사용가능\n",
        "   - from 모듈명 import 모듈내 함수명"
      ]
    },
    {
      "cell_type": "code",
      "metadata": {
        "id": "kCUHX1lZ_8vH",
        "colab_type": "code",
        "outputId": "892ea760-5b4e-415b-fdf8-a50291163119",
        "colab": {
          "base_uri": "https://localhost:8080/",
          "height": 121
        }
      },
      "source": [
        "# 7-27\n",
        "import numpy as np\n",
        "from numpy.random import randint\n",
        "arr1 = randint(0,10,(5,2))\n",
        "print(arr1)\n",
        "arr2 = np.random.rand(3)\n",
        "print(arr2)"
      ],
      "execution_count": 0,
      "outputs": [
        {
          "output_type": "stream",
          "text": [
            "[[0 7]\n",
            " [3 4]\n",
            " [7 1]\n",
            " [1 2]\n",
            " [1 1]]\n",
            "[0.75168608 0.20446933 0.93673687]\n"
          ],
          "name": "stdout"
        }
      ]
    },
    {
      "cell_type": "markdown",
      "metadata": {
        "id": "bM6fZCIiBD5i",
        "colab_type": "text"
      },
      "source": [
        "## 7.3. NumPy 2차원 배열\n",
        "### 7.3.1. 2차원 배열\n",
        "   - 1차원 배열에서 언급하였듯이 2차원 배열은 행렬. np.arry([list,list])로 2차원 배열생성\n",
        "   - ndarray배열의 내부에는 shape라는 변수가 있어, ndarray배열.shape로 각 차원의 요소수를 반환할 수 있음\n",
        "   - ndarray배열.reshape(a,b)로 지정한 인수와 같은 모양의 행렬로 변환\n",
        "   - ndarray변수를 넣지 않고 ndarray배열 자체를 넣어도 마찬가지로 반환"
      ]
    },
    {
      "cell_type": "code",
      "metadata": {
        "id": "Ji7Ol6owDmzG",
        "colab_type": "code",
        "outputId": "1f77f581-1071-40f9-8e87-fc7e3843672b",
        "colab": {
          "base_uri": "https://localhost:8080/",
          "height": 138
        }
      },
      "source": [
        "# 7-29\n",
        "import numpy as np\n",
        "\n",
        "# 변수 arr에 2차원 배열을 대입\n",
        "arr = np.array([[1,2,3,4],[5,6,7,8]])\n",
        "print(arr)\n",
        "\n",
        "# 변수 arr행렬의 각 차원의 요소 수를 출력\n",
        "print(np.shape(arr))\n",
        "\n",
        "# 변수 arr을 4행 2열의 행렬로 변환\n",
        "print(arr.reshape(4,2))"
      ],
      "execution_count": 0,
      "outputs": [
        {
          "output_type": "stream",
          "text": [
            "[[1 2 3 4]\n",
            " [5 6 7 8]]\n",
            "(2, 4)\n",
            "[[1 2]\n",
            " [3 4]\n",
            " [5 6]\n",
            " [7 8]]\n"
          ],
          "name": "stdout"
        }
      ]
    },
    {
      "cell_type": "markdown",
      "metadata": {
        "id": "rs6Bzu-CE8g4",
        "colab_type": "text"
      },
      "source": [
        "### 7.3.2. 인덱스 참조와 슬라이스\n",
        "   - 2차원 배열의 경우, 인덱스를 하나만 지정하면, 임의의 행을 배열로 가져올 수 있다.\n",
        "   - 개별 요소, 즉 스칼라값에 도달하려면, 인덱스를 두 개 지정해야 한다.\n",
        "   - arr[1][2] 또는 arr[1,2]와 같이 접근할 필요가 있음.\n",
        "   - arr[1][2]는 arr[1]에서 꺼낸 배열의 세 번째 요소에 접근하고, arr[1,2]는 2차원 배열의 축을 지정하여 요소에 접근하게 됨"
      ]
    },
    {
      "cell_type": "code",
      "metadata": {
        "id": "cZmsYCoDFvOB",
        "colab_type": "code",
        "outputId": "fac6964c-26e3-44e6-d1df-d1f511f94106",
        "colab": {
          "base_uri": "https://localhost:8080/",
          "height": 69
        }
      },
      "source": [
        "# 7-31 : 인덱스 참조의 예\n",
        "import numpy as np\n",
        "arr = np.array([[1,2,3],[4,5,6]])\n",
        "print(arr)\n",
        "print(arr[1])"
      ],
      "execution_count": 0,
      "outputs": [
        {
          "output_type": "stream",
          "text": [
            "[[1 2 3]\n",
            " [4 5 6]]\n",
            "[4 5 6]\n"
          ],
          "name": "stdout"
        }
      ]
    },
    {
      "cell_type": "code",
      "metadata": {
        "id": "3dEg7yffF9eL",
        "colab_type": "code",
        "outputId": "596328ad-9c62-4b2e-e98e-516423698e79",
        "colab": {
          "base_uri": "https://localhost:8080/",
          "height": 34
        }
      },
      "source": [
        "# 7-32 : 인덱스 참조의 예 2\n",
        "import numpy as np\n",
        "arr = np.array([[1,2,3],[4,5,6]])\n",
        "print(arr[1,2])"
      ],
      "execution_count": 0,
      "outputs": [
        {
          "output_type": "stream",
          "text": [
            "6\n"
          ],
          "name": "stdout"
        }
      ]
    },
    {
      "cell_type": "code",
      "metadata": {
        "id": "fVpaow1MGQWV",
        "colab_type": "code",
        "outputId": "e23238f3-baea-4207-fb01-0a6595d7067f",
        "colab": {
          "base_uri": "https://localhost:8080/",
          "height": 34
        }
      },
      "source": [
        "# 2차원 배열 참조 시, 슬라이스를 사용할 수 있다.\n",
        "# 7-33 : 슬라이스의 예\n",
        "import numpy as np\n",
        "arr = np.array([[1,2,3],[4,5,6]])\n",
        "print(arr[1,1:])"
      ],
      "execution_count": 0,
      "outputs": [
        {
          "output_type": "stream",
          "text": [
            "[5 6]\n"
          ],
          "name": "stdout"
        }
      ]
    },
    {
      "cell_type": "code",
      "metadata": {
        "id": "nnLRYIc2Gs7E",
        "colab_type": "code",
        "outputId": "f8446ec6-4860-4ab7-8df0-bffdb954fd89",
        "colab": {
          "base_uri": "https://localhost:8080/",
          "height": 121
        }
      },
      "source": [
        "# 7-34\n",
        "import numpy as np\n",
        "\n",
        "arr = np.array([[1,2,3],[4,5,6],[7,8,9]])\n",
        "print(arr)\n",
        "\n",
        "# 변수 arr의 요소 중 3을 출력하세요\n",
        "print(arr[0,2])\n",
        "# 변수 arr에서 부분적으로 요소를 추출해서 출력하세요\n",
        "print(arr[1:, :2])"
      ],
      "execution_count": 0,
      "outputs": [
        {
          "output_type": "stream",
          "text": [
            "[[1 2 3]\n",
            " [4 5 6]\n",
            " [7 8 9]]\n",
            "3\n",
            "[[4 5]\n",
            " [7 8]]\n"
          ],
          "name": "stdout"
        }
      ]
    },
    {
      "cell_type": "markdown",
      "metadata": {
        "id": "5jMPeST8IHEM",
        "colab_type": "text"
      },
      "source": [
        "### 7.3.3. axis (좌표축)\n",
        "   - NumPy 함수의 인수로 axis를 설정하는 경우가 많음.\n",
        "   - 열마다 처리하는 축이 axis=0, 행마다 처리하는 축이 axis=1\n",
        "   - ndarray배열의 sum()메서드인 경우, ndarray.sum)을 요소를 모두 더할수있음"
      ]
    },
    {
      "cell_type": "code",
      "metadata": {
        "id": "C2_55fSxJEXd",
        "colab_type": "code",
        "outputId": "94cf6926-a799-48a9-b6f5-abed36a52f54",
        "colab": {
          "base_uri": "https://localhost:8080/",
          "height": 121
        }
      },
      "source": [
        "# 7-36 : axis의 예\n",
        "import numpy as np\n",
        "\n",
        "arr = np.array([[1,2,3],[4,5,6]])\n",
        "\n",
        "print(arr)\n",
        "print(1+2+3+4+5+6)\n",
        "print(arr.sum())    # sum()메서드에 인수를 지정하지 않으면, 단순합계가 스칼라 반환됨\n",
        "print(arr.sum(axis=0)) # sum()메서드에 axis=0을 지정하면 세로로 더해진다. 행\n",
        "print(arr.sum(axis=1)) # sum()메서드에 axis=1을 지정하면 가로로 더해진다.열"
      ],
      "execution_count": 0,
      "outputs": [
        {
          "output_type": "stream",
          "text": [
            "[[1 2 3]\n",
            " [4 5 6]]\n",
            "21\n",
            "21\n",
            "[5 7 9]\n",
            "[ 6 15]\n"
          ],
          "name": "stdout"
        }
      ]
    },
    {
      "cell_type": "code",
      "metadata": {
        "id": "LhkKgfe6JU1c",
        "colab_type": "code",
        "outputId": "9fe2a8be-df8f-42b5-9207-e8c8c1b5133a",
        "colab": {
          "base_uri": "https://localhost:8080/",
          "height": 86
        }
      },
      "source": [
        "# 7-37\n",
        "import numpy as np\n",
        "\n",
        "arr = np.array([[1,2,3],[4,5,12],[15,20,22]])\n",
        "print(arr)\n",
        "\n",
        "# arr행의 합을 구하여 문제에서 제시한 1차원 배열을 반환\n",
        "print(arr.sum(axis=1))"
      ],
      "execution_count": 0,
      "outputs": [
        {
          "output_type": "stream",
          "text": [
            "[[ 1  2  3]\n",
            " [ 4  5 12]\n",
            " [15 20 22]]\n",
            "[ 6 21 57]\n"
          ],
          "name": "stdout"
        }
      ]
    },
    {
      "cell_type": "markdown",
      "metadata": {
        "id": "70BIqR1sK9fh",
        "colab_type": "text"
      },
      "source": [
        "### 7.3.4. 팬시 인덱스 참조\n",
        "   - 팬시 인덱스 참조는 인덱스 참조로 인덱스의 배열을 이용하는 방법이다.\n",
        "   - ndarray배열에서 특정 순서로 행을 추출하려면, 그 순서를 나타내는 배열을 인덱스 참조로 전달한다.\n",
        "   - 팬시 인덱스 참조는 슬라이스와는 달리, 항상 원본 데이터의 복사본을 반환하여 새로운 요소를 작성한다."
      ]
    },
    {
      "cell_type": "code",
      "metadata": {
        "id": "1qUxw_YHKXlC",
        "colab_type": "code",
        "outputId": "80c1389d-e503-4d1b-c593-676405e26bf0",
        "colab": {
          "base_uri": "https://localhost:8080/",
          "height": 138
        }
      },
      "source": [
        "# 7-39 : 팬시 인덱스 참조의 예\n",
        "import numpy as np\n",
        "arr = np.array([[1,2],[3,4],[5,6],[7,8]])\n",
        "print(arr)\n",
        "\n",
        "# 3행, 2행, 0행을 순서대로 추출하여 새로운 요소를 만든다.\n",
        "# 인덱스 번호는 0부터 시작한다.\n",
        "print(arr[[3,2,0]])"
      ],
      "execution_count": 0,
      "outputs": [
        {
          "output_type": "stream",
          "text": [
            "[[1 2]\n",
            " [3 4]\n",
            " [5 6]\n",
            " [7 8]]\n",
            "[[7 8]\n",
            " [5 6]\n",
            " [1 2]]\n"
          ],
          "name": "stdout"
        }
      ]
    },
    {
      "cell_type": "code",
      "metadata": {
        "id": "ObAS8sfUMNix",
        "colab_type": "code",
        "outputId": "e32cd602-7979-4e09-f7c4-b16d9a8e0e7d",
        "colab": {
          "base_uri": "https://localhost:8080/",
          "height": 190
        }
      },
      "source": [
        "# 7-40 :\n",
        "import numpy as np\n",
        "arr = np.arange(25).reshape(5,5)\n",
        "print(arr)\n",
        "# 변수 arr의 행의 순서를 변경하여 출력\n",
        "print(arr[[1,3,0]],\"\\n\")\n",
        "print(arr[[2]])"
      ],
      "execution_count": 0,
      "outputs": [
        {
          "output_type": "stream",
          "text": [
            "[[ 0  1  2  3  4]\n",
            " [ 5  6  7  8  9]\n",
            " [10 11 12 13 14]\n",
            " [15 16 17 18 19]\n",
            " [20 21 22 23 24]]\n",
            "[[ 5  6  7  8  9]\n",
            " [15 16 17 18 19]\n",
            " [ 0  1  2  3  4]] \n",
            "\n",
            "[[10 11 12 13 14]]\n"
          ],
          "name": "stdout"
        }
      ]
    },
    {
      "cell_type": "markdown",
      "metadata": {
        "id": "CY72uQvSNHE2",
        "colab_type": "text"
      },
      "source": [
        "### 7.3.5. 전치 행렬\n",
        "   - 행렬에서 행과 열을 바꾸는 것 : 전치 transposed matrix는 행렬내적계산에 사용됨\n",
        "   - ndarray를 전치하려면, np.transpose()함수를 사용하거나 T를 사용한다."
      ]
    },
    {
      "cell_type": "code",
      "metadata": {
        "id": "ZmOH48QpNYbz",
        "colab_type": "code",
        "outputId": "85136bda-5045-43cf-aeb8-331f761fc45a",
        "colab": {
          "base_uri": "https://localhost:8080/",
          "height": 259
        }
      },
      "source": [
        "# 7-42\n",
        "import numpy as np\n",
        "\n",
        "arr = np.arange(10).reshape(2,5)\n",
        "print(arr,\"\\n\")\n",
        "print(np.transpose(arr),\"\\n\")\n",
        "print(arr.T)"
      ],
      "execution_count": 0,
      "outputs": [
        {
          "output_type": "stream",
          "text": [
            "[[0 1 2 3 4]\n",
            " [5 6 7 8 9]] \n",
            "\n",
            "[[0 5]\n",
            " [1 6]\n",
            " [2 7]\n",
            " [3 8]\n",
            " [4 9]] \n",
            "\n",
            "[[0 5]\n",
            " [1 6]\n",
            " [2 7]\n",
            " [3 8]\n",
            " [4 9]]\n"
          ],
          "name": "stdout"
        }
      ]
    },
    {
      "cell_type": "markdown",
      "metadata": {
        "id": "GrDLgFYCOCvd",
        "colab_type": "text"
      },
      "source": [
        "### 7.3.6. 정렬\n",
        "   - ndarray도 리스트형과 마찬가지로 sort()메서드로 정렬할 수 있다.\n",
        "   - 2차원 배열의 경우 0을 인수로 하면, 열단위로 요소가 정렬되며,\n",
        "   - 1을 인수로 하면 행 단위로 요소가 정렬된다.\n",
        "   - 또한, np.sort() 함수로도 정렬할 수 있다. sort()메서드와 달리, np.sort()함수는 정렬된 배열의 복사본을 반환한다.\n",
        "   - ML에 자주 사용되는 함수로 argsort() 메서드가 있는데, \n",
        "   - argsort()메서드는 정렬된 배열의 인덱스를 반환한다."
      ]
    },
    {
      "cell_type": "code",
      "metadata": {
        "id": "wXz0vlY7OvD4",
        "colab_type": "code",
        "outputId": "f6eff330-3347-4ba4-83ac-b9eda774154b",
        "colab": {
          "base_uri": "https://localhost:8080/",
          "height": 34
        }
      },
      "source": [
        "# 7-44 정렬의 예\n",
        "import numpy as np\n",
        "arr = np.array([15,30,5])\n",
        "arr.argsort()"
      ],
      "execution_count": 0,
      "outputs": [
        {
          "output_type": "execute_result",
          "data": {
            "text/plain": [
              "array([2, 0, 1])"
            ]
          },
          "metadata": {
            "tags": []
          },
          "execution_count": 41
        }
      ]
    },
    {
      "cell_type": "code",
      "metadata": {
        "id": "FN-rj17lO5zP",
        "colab_type": "code",
        "outputId": "777e761b-9c0d-42dd-c34e-c0fbe6667064",
        "colab": {
          "base_uri": "https://localhost:8080/",
          "height": 173
        }
      },
      "source": [
        "# 7-45\n",
        "import numpy as np\n",
        "\n",
        "arr = np.array([[8,4,2],[3,5,1]])\n",
        "print(arr)\n",
        "# argsort()메서드로 정렬하여 출력\n",
        "# argsort()메서드는 정렬된 배열의 인덱스를 반환\n",
        "print(arr.argsort())\n",
        "\n",
        "# np.sort()함수로 정렬하여 출력\n",
        "print(np.sort(arr))\n",
        "\n",
        "# sort()메서드로 행을 정렬하여 출력 : 행정렬1, 열정렬0\n",
        "print(arr.sort(1))\n",
        "print(arr)"
      ],
      "execution_count": 0,
      "outputs": [
        {
          "output_type": "stream",
          "text": [
            "[[8 4 2]\n",
            " [3 5 1]]\n",
            "[[2 1 0]\n",
            " [2 0 1]]\n",
            "[[2 4 8]\n",
            " [1 3 5]]\n",
            "None\n",
            "[[2 4 8]\n",
            " [1 3 5]]\n"
          ],
          "name": "stdout"
        }
      ]
    },
    {
      "cell_type": "markdown",
      "metadata": {
        "id": "0j9Iu4UIQpGq",
        "colab_type": "text"
      },
      "source": [
        "### 7.3.7. 행렬 계산\n",
        "   - 두 행렬의 행렬곱을 반환하는 np.dot(a,b)와 노름을 반환하는 np.linalg.norm(a)\n",
        "   - 행렬곱 : 행렬에서 행백터와 열벡터의 내적을 요소로 하는 행렬\n",
        "             np.dot(a,b)함수를 실행하면 행벡터 a와 열벡터 b의 행렬곱이 생성됨\n",
        "   - 노름 : 벡터의 길이를 반환하는 것. 요소의 제곱값을 더해 루트를 씌운 것\n",
        "             np.linalg.norm(a) 함수 실행시 벡터 a와 b의 노름이 출력된다."
      ]
    },
    {
      "cell_type": "code",
      "metadata": {
        "id": "ARnS8U_azNfW",
        "colab_type": "code",
        "colab": {
          "base_uri": "https://localhost:8080/",
          "height": 225
        },
        "outputId": "2383b710-ff47-4d32-8fcd-826492436ab3"
      },
      "source": [
        "# 7-48 \n",
        "import numpy as np\n",
        "\n",
        "arr = np.arange(9).reshape(3,3)\n",
        "print(arr)\n",
        "# arr x arr\n",
        "print(\"\\narr x arr : \\n\", np.dot(arr,arr))\n",
        "# vec redefine\n",
        "vec = arr.reshape(9)\n",
        "print(vec)\n",
        "# norm\n",
        "print(\"\\nnorm\\n\", np.linalg.norm(vec))"
      ],
      "execution_count": 3,
      "outputs": [
        {
          "output_type": "stream",
          "text": [
            "[[0 1 2]\n",
            " [3 4 5]\n",
            " [6 7 8]]\n",
            "\n",
            "arr x arr : \n",
            " [[ 15  18  21]\n",
            " [ 42  54  66]\n",
            " [ 69  90 111]]\n",
            "[0 1 2 3 4 5 6 7 8]\n",
            "\n",
            "norm\n",
            " 14.2828568570857\n"
          ],
          "name": "stdout"
        }
      ]
    },
    {
      "cell_type": "markdown",
      "metadata": {
        "id": "o1dbjIFI0Qxx",
        "colab_type": "text"
      },
      "source": [
        "### 7.3.8. 통계 함수\n",
        "mean()\n",
        "np.average()\n",
        "sum()\n",
        "np.max() np.min()\n",
        "np.argmax() np.argmin()\n",
        "np.std() np.var()\n",
        "인수 axis=0 열, axis=1 행"
      ]
    },
    {
      "cell_type": "code",
      "metadata": {
        "id": "9O0QNHbW0si8",
        "colab_type": "code",
        "colab": {
          "base_uri": "https://localhost:8080/",
          "height": 86
        },
        "outputId": "6ee5fd45-997c-45d0-ee6d-877b83380ef0"
      },
      "source": [
        "# 7-49\n",
        "import numpy as np\n",
        "arr = np.arange(15).reshape(3,5)\n",
        "# 변수 arr의 각 열의 평균\n",
        "print(arr.mean(axis=0))\n",
        "# 변수 arr의 각 행 합계\n",
        "print(arr.sum(axis=1))\n",
        "# 변수 arr의 최소값\n",
        "print(np.min(arr))\n",
        "# 변수 arr의 각 열의 최대값의 인덱스\n",
        "print(arr.argmax(axis=0))"
      ],
      "execution_count": 4,
      "outputs": [
        {
          "output_type": "stream",
          "text": [
            "[5. 6. 7. 8. 9.]\n",
            "[10 35 60]\n",
            "0\n",
            "[2 2 2 2 2]\n"
          ],
          "name": "stdout"
        }
      ]
    },
    {
      "cell_type": "markdown",
      "metadata": {
        "id": "zFFieC6N1zPE",
        "colab_type": "text"
      },
      "source": [
        "### 7.3.9 브로드캐스트"
      ]
    },
    {
      "cell_type": "code",
      "metadata": {
        "id": "ZC54p2zY15EI",
        "colab_type": "code",
        "colab": {
          "base_uri": "https://localhost:8080/",
          "height": 51
        },
        "outputId": "ebf9e817-9b30-47b6-8bd2-6581d7d5c5ae"
      },
      "source": [
        "# 7-51 브로드캐스트의 예\n",
        "import numpy as np\n",
        "x = np.arange(6).reshape(2,3)\n",
        "print(x+1)"
      ],
      "execution_count": 5,
      "outputs": [
        {
          "output_type": "stream",
          "text": [
            "[[1 2 3]\n",
            " [4 5 6]]\n"
          ],
          "name": "stdout"
        }
      ]
    },
    {
      "cell_type": "code",
      "metadata": {
        "id": "ZPr64hwb2IX2",
        "colab_type": "code",
        "colab": {
          "base_uri": "https://localhost:8080/",
          "height": 225
        },
        "outputId": "f29b174f-693e-4548-9779-95575fbc7251"
      },
      "source": [
        "# 7-52\n",
        "import numpy as np\n",
        "\n",
        "x = np.arange(15).reshape(3,5)\n",
        "y = np.array([np.arange(5)])\n",
        "print(\"x :\\n\",x)\n",
        "print(\"y :\\n\",y)\n",
        "z = x-y\n",
        "print(\"\\nz :\\n\",z)\n",
        "print(\"행렬의 크기는 맞았지만, 요소가 없으므로 0으로 채워짐\")"
      ],
      "execution_count": 10,
      "outputs": [
        {
          "output_type": "stream",
          "text": [
            "x :\n",
            " [[ 0  1  2  3  4]\n",
            " [ 5  6  7  8  9]\n",
            " [10 11 12 13 14]]\n",
            "y :\n",
            " [[0 1 2 3 4]]\n",
            "\n",
            "z :\n",
            " [[ 0  0  0  0  0]\n",
            " [ 5  5  5  5  5]\n",
            " [10 10 10 10 10]]\n",
            "행렬의 크기는 맞았지만, 요소가 없으므로 0으로 채워짐\n"
          ],
          "name": "stdout"
        }
      ]
    },
    {
      "cell_type": "code",
      "metadata": {
        "id": "Bg0UuFQ02lib",
        "colab_type": "code",
        "colab": {
          "base_uri": "https://localhost:8080/",
          "height": 381
        },
        "outputId": "5b42df12-fe49-450d-b7eb-ecfac8248035"
      },
      "source": [
        "# 7-54\n",
        "import numpy as np\n",
        "\n",
        "np.random.seed(100)\n",
        "\n",
        "# 각 요소가 0~30인 정수행렬 5x3을 변수 arr에 대입하세요\n",
        "arr = np.random.randint(0,31,(5,3))\n",
        "print(\"arr :\\n\", arr)\n",
        "# 변수 arr를 전치하세요\n",
        "arr = arr.T\n",
        "print(\"arr transposed :\\n\",arr)\n",
        "# 변수 arr의 2,3,4열만 추출한 행렬(3x3)을 변수 arr1에 대입하세요\n",
        "arr1 = arr[:,1:4]\n",
        "print(\"arr1 :\\n\", arr1)\n",
        "# 변수 arr1의 행을 정렬하세요\n",
        "arr1.sort(0)\n",
        "print(arr1)\n",
        "# 각 열의 평균을 출력하세요\n",
        "arr1.mean(axis=0)\n",
        "print(arr1)\n",
        "print(arr1.mean(axis=0))"
      ],
      "execution_count": 16,
      "outputs": [
        {
          "output_type": "stream",
          "text": [
            "arr :\n",
            " [[ 8 24  3]\n",
            " [ 7 23 15]\n",
            " [16 10 30]\n",
            " [20  2 21]\n",
            " [ 2  2 14]]\n",
            "arr transposed :\n",
            " [[ 8  7 16 20  2]\n",
            " [24 23 10  2  2]\n",
            " [ 3 15 30 21 14]]\n",
            "arr1 :\n",
            " [[ 7 16 20]\n",
            " [23 10  2]\n",
            " [15 30 21]]\n",
            "[[ 7 10  2]\n",
            " [15 16 20]\n",
            " [23 30 21]]\n",
            "[[ 7 10  2]\n",
            " [15 16 20]\n",
            " [23 30 21]]\n",
            "[15.         18.66666667 14.33333333]\n"
          ],
          "name": "stdout"
        }
      ]
    },
    {
      "cell_type": "code",
      "metadata": {
        "id": "-dilfckx3_1y",
        "colab_type": "code",
        "colab": {
          "base_uri": "https://localhost:8080/",
          "height": 277
        },
        "outputId": "7c64a529-06a0-4cd6-d9e2-ac384ede6567"
      },
      "source": [
        "# 7-56\n",
        "import numpy as np\n",
        "\n",
        "#난수를 초기화\n",
        "np.random.seed(0)\n",
        "\n",
        "# 가로세로 크기를 전달하면 해당 크기의 이미지를 난수로 채워서 생성하는 함수\n",
        "def make_image(m,n):\n",
        "  # n x m, each element = 0~5 random value\n",
        "  image = np.random.randint(0,6,(m,n))\n",
        "  return image\n",
        "\n",
        "# 전달된 행렬의 일부를 변경하는 함수\n",
        "def change_little(matrix):\n",
        "  # 전달받은 행렬의 형태(크기) 를 취득하여 shape에 대입\n",
        "  shape = matrix.shape\n",
        "  # 행렬의 각 성분에 대해 변경 여부를 무작위로 결정한 다음\n",
        "  # 변경할 때는 0~5 사이의 정수로 임의 교체하세요\n",
        "  for i in range(shape[0]):\n",
        "    for j in range(shape[1]):\n",
        "      if np.random.randint(0,2)==1:\n",
        "        matrix[i][j] = np.random.randint(0,6,1)\n",
        "        \n",
        "  return matrix\n",
        "\n",
        "# 임의의 이미지를 만듭니다.\n",
        "image1 = make_image(3,3)\n",
        "print(image1)\n",
        "print()\n",
        "# 임의의 변경사항을 적용합니다.\n",
        "image2 = change_little(np.copy(image1))\n",
        "print(image2)\n",
        "print()\n",
        "# image1, image2의 차이를 계산하여 image3에 대입하세요.\n",
        "image3 = image1 - image2\n",
        "print(image3)\n",
        "print()\n",
        "# image3의 각 성분을 절댓값으로 한 행렬을 image3에 다시 대입하세요.\n",
        "image3 = np.abs(image3)\n",
        "# image3을 출력합니다.\n",
        "print(image3)\n"
      ],
      "execution_count": 18,
      "outputs": [
        {
          "output_type": "stream",
          "text": [
            "[[4 5 0]\n",
            " [3 3 3]\n",
            " [1 3 5]]\n",
            "\n",
            "[[4 5 0]\n",
            " [3 3 3]\n",
            " [0 5 5]]\n",
            "\n",
            "[[ 0  0  0]\n",
            " [ 0  0  0]\n",
            " [ 1 -2  0]]\n",
            "\n",
            "[[0 0 0]\n",
            " [0 0 0]\n",
            " [1 2 0]]\n"
          ],
          "name": "stdout"
        }
      ]
    },
    {
      "cell_type": "code",
      "metadata": {
        "id": "Q_SN3eatGb2o",
        "colab_type": "code",
        "colab": {}
      },
      "source": [
        ""
      ],
      "execution_count": 0,
      "outputs": []
    }
  ]
}